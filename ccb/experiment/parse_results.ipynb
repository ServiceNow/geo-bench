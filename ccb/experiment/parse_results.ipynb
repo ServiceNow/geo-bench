{
 "cells": [
  {
   "cell_type": "code",
   "execution_count": null,
   "metadata": {},
   "outputs": [],
   "source": [
    "import numpy as np\n",
    "from matplotlib import pyplot as plt\n",
    "from io import StringIO\n",
    "import pandas as pd\n",
    "from matplotlib.pyplot import cm\n",
    "\n",
    "\n",
    "%load_ext autoreload\n",
    "%autoreload 2"
   ]
  },
  {
   "cell_type": "code",
   "execution_count": null,
   "metadata": {},
   "outputs": [],
   "source": [
    "tabular_str = \"\"\"\\\n",
    "\tconv4\tconvnext_base\tresnet18\tresnet50\tswinv2\tvit small\tvit tiny\n",
    "bigearthnet\t0.5162 ± 0.0114\t0.6918 ± 0.002\t0.6786 ± 0.0023\t0.6636 ± 0.0023\t0.6997 ± 0.0027\t0.7037 ± 0.0072\t0.688 ± 0.0038\n",
    "brick_kiln_v1.0\t0.9377 ± 0.0055\t0.9567 ± 0.0095\t0.9523 ± 0.0091\t0.9497 ± 0.0061\t0.9627 ± 0.0064\t0.9503 ± 0.0042\t0.94 ± 0.0151\n",
    "eurosat\t0.8723 ± 0.0021\t0.9843 ± 0.0021\t0.9777 ± 0.0051\t0.9757 ± 0.004\t0.977 ± 0.0026\t0.979 ± 0.0035\t0.983 ± 0.006\n",
    "pv4ger_classification\t0.9107 ± 0.0071\t0.9488 ± 0.0056\t0.9469 ± 0.0081\t0.9379 ± 0.0052\t0.945 ± 0.0069\t0.9461 ± 0.0053\t0.9367 ± 0.0011\n",
    "so2sat\t0.2366 ± 0.0142\t0.4922 ± 0.0188\t0.4787 ± 0.0173\t0.4662 ± 0.0038\t0.5054 ± 0.0102\t0.5331 ± 0.0079\t0.5003 ± 0.0066\"\"\""
   ]
  },
  {
   "cell_type": "code",
   "execution_count": null,
   "metadata": {},
   "outputs": [],
   "source": [
    "def get_mean(val):\n",
    "    if \"±\" in val:\n",
    "        return float(val.split(\"±\")[0])\n",
    "    else:\n",
    "        return val\n",
    "\n",
    "def get_std(val):\n",
    "    if \"±\" in val:\n",
    "        return float(val.split(\"±\")[1])\n",
    "    else:\n",
    "        return val\n",
    "\n",
    "df = pd.read_csv(StringIO(tabular_str), sep='\\t', index_col=0)\n",
    "df_mean = df.applymap(get_mean)\n",
    "df_std = df.applymap(get_std)\n",
    "\n",
    "\n",
    "df_mean\n"
   ]
  },
  {
   "cell_type": "code",
   "execution_count": null,
   "metadata": {},
   "outputs": [],
   "source": [
    "class Normalizer:\n",
    "\n",
    "    def __init__(self, df_mean, df_std, border=0.1):\n",
    "        self.border = border\n",
    "        self.range_dict = {}\n",
    "        df_mean_t = df_mean.transpose()\n",
    "        df_std_t = df_std.transpose()\n",
    "        for ds_name in df_mean_t:\n",
    "            mean = df_mean_t[ds_name].to_numpy()\n",
    "            std = df_std_t[ds_name].to_numpy()\n",
    "\n",
    "            self.range_dict[ds_name] = (min(mean-std), max(mean+std))\n",
    "    \n",
    "    def __call__(self, ds_name, values, scale_only=False):\n",
    "        mn, mx = self.range_dict[ds_name]\n",
    "        range = mx-mn\n",
    "        if scale_only:\n",
    "            return values / range\n",
    "        else:\n",
    "            return (values - mn)/range\n",
    "\n",
    "    def from_row(self, row, scale_only=False):\n",
    "        return [self(ds_name, val, scale_only=scale_only) for ds_name, val in row.items()]\n",
    "        \n",
    "        \n"
   ]
  },
  {
   "cell_type": "code",
   "execution_count": null,
   "metadata": {},
   "outputs": [],
   "source": [
    "colors = cm.rainbow(np.linspace(0, 1, 7))\n",
    "\n",
    "normalizer = Normalizer(df_mean, df_std)\n",
    "for i, backbone in enumerate(df_mean):\n",
    "    print(backbone)\n",
    "    ds_names = df_mean[backbone].keys()\n",
    "    mean = normalizer.from_row(df_mean[backbone])\n",
    "    err = normalizer.from_row(df_std[backbone], scale_only=True)\n",
    "    x = np.arange(len(mean)) + i/10 \n",
    "\n",
    "    if i == 3:\n",
    "        plt.bar(x, mean, width=0.1, label=backbone, yerr=err,tick_label=ds_names)\n",
    "    else:\n",
    "        plt.bar(x, mean, width=0.1, label=backbone, yerr=err, )\n",
    "plt.legend(bbox_to_anchor=(1.01, 1.05))"
   ]
  },
  {
   "cell_type": "markdown",
   "metadata": {},
   "source": [
    "# Train Size Analysis"
   ]
  },
  {
   "cell_type": "code",
   "execution_count": null,
   "metadata": {},
   "outputs": [],
   "source": [
    "plt.rcParams['figure.figsize'] = [10, 10]\n",
    "\n",
    "def get_train_ratio(part_name):\n",
    "    return float(part_name.split(\"x_\")[0])\n",
    "\n",
    "sweep_results_path = \"/mnt/data/experiments/nils/classification_results/sweep_results_2022-06-29_13-02-26.csv\"\n",
    "df = pd.read_csv(sweep_results_path)\n",
    "df['train_ratio'] = [get_train_ratio(part_name) for part_name in df['partition_name']]\n",
    "\n",
    "def plot_over_train_size(df, metric=\"test_metric\", log_y=False):\n",
    "    models = df[\"model\"].unique()\n",
    "    datasets = df['dataset'].unique()\n",
    "    train_ratios = np.sort(df['train_ratio'].unique())\n",
    "\n",
    "    fig, axes = plt.subplots(len(datasets), len(models))\n",
    "    fig.suptitle(metric, fontsize=20)\n",
    "\n",
    "    for i, dataset in enumerate(datasets):\n",
    "        for j, model in enumerate(models):\n",
    "            for k, train_ratio in enumerate(train_ratios):\n",
    "                sub_df = df[(df[\"dataset\"] == dataset) & (df['train_ratio'] == train_ratio)]\n",
    "                sub_df = sub_df.nlargest(4, columns=\"val_metric\")\n",
    "                data = sub_df[metric].to_numpy()\n",
    "                axes[i, j].boxplot(data, positions=[k])\n",
    "                axes[i, j].set_title(f\"{model} on {dataset}\")\n",
    "                if log_y:\n",
    "                    axes[i, j].set_yscale(\"log\")\n",
    "            axes[i, j].set_xticklabels([str(trn_ratio) for trn_ratio in train_ratios])\n",
    "    fig.tight_layout()\n",
    "\n",
    "plot_over_train_size(df, metric=\"test_metric\")\n",
    "plot_over_train_size(df, metric=\"unix_time\", log_y=True)\n",
    "\n",
    "plt.show()    "
   ]
  },
  {
   "cell_type": "code",
   "execution_count": null,
   "metadata": {},
   "outputs": [],
   "source": [
    "df"
   ]
  },
  {
   "cell_type": "code",
   "execution_count": null,
   "metadata": {},
   "outputs": [],
   "source": []
  }
 ],
 "metadata": {
  "interpreter": {
   "hash": "b19f5167aa29f0e7b4ca4f180cf0e2dd5cec97c6ddb063b7447cc55271593e0b"
  },
  "kernelspec": {
   "display_name": "Python 3.9.7",
   "language": "python",
   "name": "python3"
  },
  "language_info": {
   "codemirror_mode": {
    "name": "ipython",
    "version": 3
   },
   "file_extension": ".py",
   "mimetype": "text/x-python",
   "name": "python",
   "nbconvert_exporter": "python",
   "pygments_lexer": "ipython3",
   "version": "3.9.7"
  },
  "orig_nbformat": 4
 },
 "nbformat": 4,
 "nbformat_minor": 2
}
