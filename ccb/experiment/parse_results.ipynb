{
 "cells": [
  {
   "cell_type": "code",
   "execution_count": 1,
   "metadata": {},
   "outputs": [],
   "source": [
    "import numpy as np\n",
    "from matplotlib import pyplot as plt\n",
    "from io import StringIO\n",
    "import pandas as pd\n",
    "from matplotlib.pyplot import cm\n",
    "\n",
    "\n",
    "%load_ext autoreload\n",
    "%autoreload 2"
   ]
  },
  {
   "cell_type": "code",
   "execution_count": 6,
   "metadata": {},
   "outputs": [],
   "source": [
    "tabular_str = \"\"\"\\\n",
    "\tconv4\tconvnext_base\tresnet18\tresnet50\tswinv2\tvit small\tvit tiny\n",
    "bigearthnet\t0.5162 ± 0.0114\t0.6918 ± 0.002\t0.6786 ± 0.0023\t0.6636 ± 0.0023\t0.6997 ± 0.0027\t0.7037 ± 0.0072\t0.688 ± 0.0038\n",
    "brick_kiln_v1.0\t0.9377 ± 0.0055\t0.9567 ± 0.0095\t0.9523 ± 0.0091\t0.9497 ± 0.0061\t0.9627 ± 0.0064\t0.9503 ± 0.0042\t0.94 ± 0.0151\n",
    "eurosat\t0.8723 ± 0.0021\t0.9843 ± 0.0021\t0.9777 ± 0.0051\t0.9757 ± 0.004\t0.977 ± 0.0026\t0.979 ± 0.0035\t0.983 ± 0.006\n",
    "pv4ger_classification\t0.9107 ± 0.0071\t0.9488 ± 0.0056\t0.9469 ± 0.0081\t0.9379 ± 0.0052\t0.945 ± 0.0069\t0.9461 ± 0.0053\t0.9367 ± 0.0011\n",
    "so2sat\t0.2366 ± 0.0142\t0.4922 ± 0.0188\t0.4787 ± 0.0173\t0.4662 ± 0.0038\t0.5054 ± 0.0102\t0.5331 ± 0.0079\t0.5003 ± 0.0066\"\"\""
   ]
  },
  {
   "cell_type": "code",
   "execution_count": 7,
   "metadata": {},
   "outputs": [
    {
     "data": {
      "text/html": [
       "<div>\n",
       "<style scoped>\n",
       "    .dataframe tbody tr th:only-of-type {\n",
       "        vertical-align: middle;\n",
       "    }\n",
       "\n",
       "    .dataframe tbody tr th {\n",
       "        vertical-align: top;\n",
       "    }\n",
       "\n",
       "    .dataframe thead th {\n",
       "        text-align: right;\n",
       "    }\n",
       "</style>\n",
       "<table border=\"1\" class=\"dataframe\">\n",
       "  <thead>\n",
       "    <tr style=\"text-align: right;\">\n",
       "      <th></th>\n",
       "      <th>conv4</th>\n",
       "      <th>convnext_base</th>\n",
       "      <th>resnet18</th>\n",
       "      <th>resnet50</th>\n",
       "      <th>swinv2</th>\n",
       "      <th>vit small</th>\n",
       "      <th>vit tiny</th>\n",
       "    </tr>\n",
       "  </thead>\n",
       "  <tbody>\n",
       "    <tr>\n",
       "      <th>bigearthnet</th>\n",
       "      <td>0.5162</td>\n",
       "      <td>0.6918</td>\n",
       "      <td>0.6786</td>\n",
       "      <td>0.6636</td>\n",
       "      <td>0.6997</td>\n",
       "      <td>0.7037</td>\n",
       "      <td>0.6880</td>\n",
       "    </tr>\n",
       "    <tr>\n",
       "      <th>brick_kiln_v1.0</th>\n",
       "      <td>0.9377</td>\n",
       "      <td>0.9567</td>\n",
       "      <td>0.9523</td>\n",
       "      <td>0.9497</td>\n",
       "      <td>0.9627</td>\n",
       "      <td>0.9503</td>\n",
       "      <td>0.9400</td>\n",
       "    </tr>\n",
       "    <tr>\n",
       "      <th>eurosat</th>\n",
       "      <td>0.8723</td>\n",
       "      <td>0.9843</td>\n",
       "      <td>0.9777</td>\n",
       "      <td>0.9757</td>\n",
       "      <td>0.9770</td>\n",
       "      <td>0.9790</td>\n",
       "      <td>0.9830</td>\n",
       "    </tr>\n",
       "    <tr>\n",
       "      <th>pv4ger_classification</th>\n",
       "      <td>0.9107</td>\n",
       "      <td>0.9488</td>\n",
       "      <td>0.9469</td>\n",
       "      <td>0.9379</td>\n",
       "      <td>0.9450</td>\n",
       "      <td>0.9461</td>\n",
       "      <td>0.9367</td>\n",
       "    </tr>\n",
       "    <tr>\n",
       "      <th>so2sat</th>\n",
       "      <td>0.2366</td>\n",
       "      <td>0.4922</td>\n",
       "      <td>0.4787</td>\n",
       "      <td>0.4662</td>\n",
       "      <td>0.5054</td>\n",
       "      <td>0.5331</td>\n",
       "      <td>0.5003</td>\n",
       "    </tr>\n",
       "  </tbody>\n",
       "</table>\n",
       "</div>"
      ],
      "text/plain": [
       "                        conv4  convnext_base  resnet18  resnet50  swinv2  \\\n",
       "bigearthnet            0.5162         0.6918    0.6786    0.6636  0.6997   \n",
       "brick_kiln_v1.0        0.9377         0.9567    0.9523    0.9497  0.9627   \n",
       "eurosat                0.8723         0.9843    0.9777    0.9757  0.9770   \n",
       "pv4ger_classification  0.9107         0.9488    0.9469    0.9379  0.9450   \n",
       "so2sat                 0.2366         0.4922    0.4787    0.4662  0.5054   \n",
       "\n",
       "                       vit small  vit tiny  \n",
       "bigearthnet               0.7037    0.6880  \n",
       "brick_kiln_v1.0           0.9503    0.9400  \n",
       "eurosat                   0.9790    0.9830  \n",
       "pv4ger_classification     0.9461    0.9367  \n",
       "so2sat                    0.5331    0.5003  "
      ]
     },
     "execution_count": 7,
     "metadata": {},
     "output_type": "execute_result"
    }
   ],
   "source": [
    "def get_mean(val):\n",
    "    if \"±\" in val:\n",
    "        return float(val.split(\"±\")[0])\n",
    "    else:\n",
    "        return val\n",
    "\n",
    "def get_std(val):\n",
    "    if \"±\" in val:\n",
    "        return float(val.split(\"±\")[1])\n",
    "    else:\n",
    "        return val\n",
    "\n",
    "df = pd.read_csv(StringIO(tabular_str), sep='\\t', index_col=0)\n",
    "df_mean = df.applymap(get_mean)\n",
    "df_std = df.applymap(get_std)\n",
    "\n",
    "\n",
    "df_mean\n"
   ]
  },
  {
   "cell_type": "code",
   "execution_count": 8,
   "metadata": {},
   "outputs": [],
   "source": [
    "class Normalizer:\n",
    "\n",
    "    def __init__(self, df_mean, df_std, border=0.1):\n",
    "        self.border = border\n",
    "        self.range_dict = {}\n",
    "        df_mean_t = df_mean.transpose()\n",
    "        df_std_t = df_std.transpose()\n",
    "        for ds_name in df_mean_t:\n",
    "            mean = df_mean_t[ds_name].to_numpy()\n",
    "            std = df_std_t[ds_name].to_numpy()\n",
    "\n",
    "            self.range_dict[ds_name] = (min(mean-std), max(mean+std))\n",
    "    \n",
    "    def __call__(self, ds_name, values, scale_only=False):\n",
    "        mn, mx = self.range_dict[ds_name]\n",
    "        range = mx-mn\n",
    "        if scale_only:\n",
    "            return values / range\n",
    "        else:\n",
    "            return (values - mn)/range\n",
    "\n",
    "    def from_row(self, row, scale_only=False):\n",
    "        return [self(ds_name, val, scale_only=scale_only) for ds_name, val in row.items()]\n",
    "        \n",
    "        \n"
   ]
  },
  {
   "cell_type": "code",
   "execution_count": 9,
   "metadata": {},
   "outputs": [
    {
     "name": "stdout",
     "output_type": "stream",
     "text": [
      "conv4\n",
      "convnext_base\n",
      "resnet18\n",
      "resnet50\n",
      "swinv2\n",
      "vit small\n",
      "vit tiny\n"
     ]
    },
    {
     "data": {
      "text/plain": [
       "<matplotlib.legend.Legend at 0x7f5272e0dfd0>"
      ]
     },
     "execution_count": 9,
     "metadata": {},
     "output_type": "execute_result"
    },
    {
     "data": {
      "image/png": "[encoded data removed]",
      "text/plain": [
       "<Figure size 432x288 with 1 Axes>"
      ]
     },
     "metadata": {
      "needs_background": "light"
     },
     "output_type": "display_data"
    }
   ],
   "source": [
    "colors = cm.rainbow(np.linspace(0, 1, 7))\n",
    "\n",
    "normalizer = Normalizer(df_mean, df_std)\n",
    "for i, backbone in enumerate(df_mean):\n",
    "    print(backbone)\n",
    "    ds_names = df_mean[backbone].keys()\n",
    "    mean = normalizer.from_row(df_mean[backbone])\n",
    "    err = normalizer.from_row(df_std[backbone], scale_only=True)\n",
    "    x = np.arange(len(mean)) + i/10 \n",
    "\n",
    "    if i == 3:\n",
    "        plt.bar(x, mean, width=0.1, label=backbone, yerr=err,tick_label=ds_names)\n",
    "    else:\n",
    "        plt.bar(x, mean, width=0.1, label=backbone, yerr=err, )\n",
    "plt.legend(bbox_to_anchor=(1.01, 1.05))"
   ]
  },
  {
   "cell_type": "code",
   "execution_count": null,
   "metadata": {},
   "outputs": [],
   "source": []
  }
 ],
 "metadata": {
  "interpreter": {
   "hash": "b19f5167aa29f0e7b4ca4f180cf0e2dd5cec97c6ddb063b7447cc55271593e0b"
  },
  "kernelspec": {
   "display_name": "Python 3.9.7",
   "language": "python",
   "name": "python3"
  },
  "language_info": {
   "codemirror_mode": {
    "name": "ipython",
    "version": 3
   },
   "file_extension": ".py",
   "mimetype": "text/x-python",
   "name": "python",
   "nbconvert_exporter": "python",
   "pygments_lexer": "ipython3",
   "version": "3.9.7"
  },
  "orig_nbformat": 4
 },
 "nbformat": 4,
 "nbformat_minor": 2
}
