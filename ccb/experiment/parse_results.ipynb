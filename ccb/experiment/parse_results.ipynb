{
 "cells": [
  {
   "cell_type": "code",
   "execution_count": 98,
   "metadata": {},
   "outputs": [
    {
     "name": "stdout",
     "output_type": "stream",
     "text": [
      "The autoreload extension is already loaded. To reload it, use:\n",
      "  %reload_ext autoreload\n"
     ]
    }
   ],
   "source": [
    "import numpy as np\n",
    "from matplotlib import pyplot as plt\n",
    "from io import StringIO\n",
    "import pandas as pd\n",
    "from matplotlib.pyplot import cm\n",
    "\n",
    "\n",
    "%load_ext autoreload\n",
    "%autoreload 2"
   ]
  },
  {
   "cell_type": "code",
   "execution_count": 104,
   "metadata": {},
   "outputs": [],
   "source": [
    "tabular_str = \"\"\"\\\n",
    "\tbasic conv\tresnet18\tresnet50\tconvnext base\tswinv2\tvit small\tvit tiny\n",
    "bigearthnet\t0.3957 ± 0.0127\t0.6031 ± 0.0008\t0.5418 ± 0.0039\t0.607 ± 0.0041\t0.619 ± 0.0041\t0.6185 ± 0.0007\t0.6329 ± 0.0052\n",
    "brick kiln\t0.9257 ± 0.0104\t0.9703 ± 0.0012\t0.9517 ± 0.004\t0.9627 ± 0.0051\t0.9733 ± 0.0021\t0.9663 ± 0.0021\t0.9667 ± 0.0065\n",
    "eurosat\t0.8403 ± 0.0133\t0.9207 ± 0.0058\t0.9327 ± 0.0117\t0.9593 ± 0.0035\t0.9693 ± 0.0029\t0.9543 ± 0.0023\t0.957 ± 0.0017\n",
    "pv4ger\t0.8571 ± 0.004\t0.9292 ± 0.0069\t0.9404 ± 0.0114\t0.9302 ± 0.0028\t0.946 ± 0.0016\t0.9455 ± 0.0037\t0.9381 ± 0.0098\n",
    "so2sat\t0.2566 ± 0.011\t0.4209 ± 0.001\t0.4128 ± 0.0372\t0.4834 ± 0.002\t0.4966 ± 0.0198\t0.5112 ± 0.0146\t0.4635 ± 0.0306\"\"\""
   ]
  },
  {
   "cell_type": "code",
   "execution_count": 105,
   "metadata": {},
   "outputs": [
    {
     "data": {
      "text/html": [
       "<div>\n",
       "<style scoped>\n",
       "    .dataframe tbody tr th:only-of-type {\n",
       "        vertical-align: middle;\n",
       "    }\n",
       "\n",
       "    .dataframe tbody tr th {\n",
       "        vertical-align: top;\n",
       "    }\n",
       "\n",
       "    .dataframe thead th {\n",
       "        text-align: right;\n",
       "    }\n",
       "</style>\n",
       "<table border=\"1\" class=\"dataframe\">\n",
       "  <thead>\n",
       "    <tr style=\"text-align: right;\">\n",
       "      <th></th>\n",
       "      <th>basic conv</th>\n",
       "      <th>resnet18</th>\n",
       "      <th>resnet50</th>\n",
       "      <th>convnext base</th>\n",
       "      <th>swinv2</th>\n",
       "      <th>vit small</th>\n",
       "      <th>vit tiny</th>\n",
       "    </tr>\n",
       "  </thead>\n",
       "  <tbody>\n",
       "    <tr>\n",
       "      <th>bigearthnet</th>\n",
       "      <td>0.3957</td>\n",
       "      <td>0.6031</td>\n",
       "      <td>0.5418</td>\n",
       "      <td>0.6070</td>\n",
       "      <td>0.6190</td>\n",
       "      <td>0.6185</td>\n",
       "      <td>0.6329</td>\n",
       "    </tr>\n",
       "    <tr>\n",
       "      <th>brick kiln</th>\n",
       "      <td>0.9257</td>\n",
       "      <td>0.9703</td>\n",
       "      <td>0.9517</td>\n",
       "      <td>0.9627</td>\n",
       "      <td>0.9733</td>\n",
       "      <td>0.9663</td>\n",
       "      <td>0.9667</td>\n",
       "    </tr>\n",
       "    <tr>\n",
       "      <th>eurosat</th>\n",
       "      <td>0.8403</td>\n",
       "      <td>0.9207</td>\n",
       "      <td>0.9327</td>\n",
       "      <td>0.9593</td>\n",
       "      <td>0.9693</td>\n",
       "      <td>0.9543</td>\n",
       "      <td>0.9570</td>\n",
       "    </tr>\n",
       "    <tr>\n",
       "      <th>pv4ger</th>\n",
       "      <td>0.8571</td>\n",
       "      <td>0.9292</td>\n",
       "      <td>0.9404</td>\n",
       "      <td>0.9302</td>\n",
       "      <td>0.9460</td>\n",
       "      <td>0.9455</td>\n",
       "      <td>0.9381</td>\n",
       "    </tr>\n",
       "    <tr>\n",
       "      <th>so2sat</th>\n",
       "      <td>0.2566</td>\n",
       "      <td>0.4209</td>\n",
       "      <td>0.4128</td>\n",
       "      <td>0.4834</td>\n",
       "      <td>0.4966</td>\n",
       "      <td>0.5112</td>\n",
       "      <td>0.4635</td>\n",
       "    </tr>\n",
       "  </tbody>\n",
       "</table>\n",
       "</div>"
      ],
      "text/plain": [
       "             basic conv  resnet18  resnet50  convnext base  swinv2  vit small  \\\n",
       "bigearthnet      0.3957    0.6031    0.5418         0.6070  0.6190     0.6185   \n",
       "brick kiln       0.9257    0.9703    0.9517         0.9627  0.9733     0.9663   \n",
       "eurosat          0.8403    0.9207    0.9327         0.9593  0.9693     0.9543   \n",
       "pv4ger           0.8571    0.9292    0.9404         0.9302  0.9460     0.9455   \n",
       "so2sat           0.2566    0.4209    0.4128         0.4834  0.4966     0.5112   \n",
       "\n",
       "             vit tiny  \n",
       "bigearthnet    0.6329  \n",
       "brick kiln     0.9667  \n",
       "eurosat        0.9570  \n",
       "pv4ger         0.9381  \n",
       "so2sat         0.4635  "
      ]
     },
     "execution_count": 105,
     "metadata": {},
     "output_type": "execute_result"
    }
   ],
   "source": [
    "def get_mean(val):\n",
    "    if \"±\" in val:\n",
    "        return float(val.split(\"±\")[0])\n",
    "    else:\n",
    "        return val\n",
    "\n",
    "def get_std(val):\n",
    "    if \"±\" in val:\n",
    "        return float(val.split(\"±\")[1])\n",
    "    else:\n",
    "        return val\n",
    "\n",
    "df = pd.read_csv(StringIO(tabular_str), sep='\\t', index_col=0)\n",
    "df_mean = df.applymap(get_mean)\n",
    "df_std = df.applymap(get_std)\n",
    "\n",
    "\n",
    "df_mean\n"
   ]
  },
  {
   "cell_type": "code",
   "execution_count": 106,
   "metadata": {},
   "outputs": [],
   "source": [
    "class Normalizer:\n",
    "\n",
    "    def __init__(self, df_mean, df_std, border=0.1):\n",
    "        self.border = border\n",
    "        self.range_dict = {}\n",
    "        df_mean_t = df_mean.transpose()\n",
    "        df_std_t = df_std.transpose()\n",
    "        for ds_name in df_mean_t:\n",
    "            mean = df_mean_t[ds_name].to_numpy()\n",
    "            std = df_std_t[ds_name].to_numpy()\n",
    "\n",
    "            self.range_dict[ds_name] = (min(mean-std), max(mean+std))\n",
    "    \n",
    "    def __call__(self, ds_name, values, scale_only=False):\n",
    "        mn, mx = self.range_dict[ds_name]\n",
    "        range = mx-mn\n",
    "        if scale_only:\n",
    "            return values / range\n",
    "        else:\n",
    "            return (values - mn)/range\n",
    "\n",
    "    def from_row(self, row, scale_only=False):\n",
    "        return [self(ds_name, val, scale_only=scale_only) for ds_name, val in row.items()]\n",
    "        \n",
    "        \n"
   ]
  },
  {
   "cell_type": "code",
   "execution_count": 107,
   "metadata": {},
   "outputs": [
    {
     "name": "stdout",
     "output_type": "stream",
     "text": [
      "basic conv\n",
      "resnet18\n",
      "resnet50\n",
      "convnext base\n",
      "swinv2\n",
      "vit small\n",
      "vit tiny\n"
     ]
    },
    {
     "data": {
      "text/plain": [
       "<matplotlib.legend.Legend at 0x7f3ac93b1ee0>"
      ]
     },
     "execution_count": 107,
     "metadata": {},
     "output_type": "execute_result"
    },
    {
     "data": {
      "image/png": "[encoded data removed]",
      "text/plain": [
       "<Figure size 432x288 with 1 Axes>"
      ]
     },
     "metadata": {
      "needs_background": "light"
     },
     "output_type": "display_data"
    }
   ],
   "source": [
    "colors = cm.rainbow(np.linspace(0, 1, 7))\n",
    "\n",
    "normalizer = Normalizer(df_mean, df_std)\n",
    "for i, backbone in enumerate(df_mean):\n",
    "    print(backbone)\n",
    "    ds_names = df_mean[backbone].keys()\n",
    "    mean = normalizer.from_row(df_mean[backbone])\n",
    "    err = normalizer.from_row(df_std[backbone], scale_only=True)\n",
    "    x = np.arange(len(mean)) + i/10 \n",
    "\n",
    "    if i == 3:\n",
    "        plt.bar(x, mean, width=0.1, label=backbone, yerr=err,tick_label=ds_names)\n",
    "    else:\n",
    "        plt.bar(x, mean, width=0.1, label=backbone, yerr=err, )\n",
    "plt.legend(bbox_to_anchor=(1.01, 1.05))"
   ]
  },
  {
   "cell_type": "code",
   "execution_count": null,
   "metadata": {},
   "outputs": [],
   "source": []
  }
 ],
 "metadata": {
  "interpreter": {
   "hash": "b19f5167aa29f0e7b4ca4f180cf0e2dd5cec97c6ddb063b7447cc55271593e0b"
  },
  "kernelspec": {
   "display_name": "Python 3.9.7",
   "language": "python",
   "name": "python3"
  },
  "language_info": {
   "codemirror_mode": {
    "name": "ipython",
    "version": 3
   },
   "file_extension": ".py",
   "mimetype": "text/x-python",
   "name": "python",
   "nbconvert_exporter": "python",
   "pygments_lexer": "ipython3",
   "version": "3.9.7"
  },
  "orig_nbformat": 4
 },
 "nbformat": 4,
 "nbformat_minor": 2
}
