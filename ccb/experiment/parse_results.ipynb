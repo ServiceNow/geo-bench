{
 "cells": [
  {
   "cell_type": "code",
   "execution_count": null,
   "metadata": {},
   "outputs": [],
   "source": [
    "import numpy as np\n",
    "from matplotlib import pyplot as plt\n",
    "from io import StringIO\n",
    "import pandas as pd\n",
    "from pathlib import Path\n",
    "import seaborn as sns\n",
    "from ccb.experiment import parse_results\n",
    "from ccb.experiment.retrieve_runs import retrieve_runs\n",
    "\n",
    "sns.set_style(\"dark\", {\"grid.color\": \"0.98\", \"axes.facecolor\": \"(0.95, 0.95, 0.97)\"})\n",
    "\n",
    "\n",
    "%load_ext autoreload\n",
    "%autoreload 2"
   ]
  },
  {
   "cell_type": "markdown",
   "metadata": {},
   "source": [
    "# Classification\n",
    "## Main Restults"
   ]
  },
  {
   "cell_type": "code",
   "execution_count": null,
   "metadata": {},
   "outputs": [],
   "source": [
    "classification_dir = '/mnt/data/experiments/nils/final_classification_seeded_runs'\n",
    "\n",
    "df = retrieve_runs(classification_dir, use_cached_csv=True, is_sweep=False)\n",
    "\n",
    "\n",
    "# df['train_ratio'] = [get_train_ratio(part_name) for part_name in df['partition_name']]\n",
    "df = df.applymap(parse_results.clean_names)\n",
    "df = df.rename(columns=parse_results.clean_names)\n",
    "\n",
    "df = df[~df.model.isin((\"conv4\",))]\n",
    "\n",
    "print(df.model.unique())\n",
    "\n",
    "model_order = \"ResNet18-Rnd,ResNet18-timm,ResNet18-MoCo-S2,ResNet50-MillionAID,ResNet50-MoCo-S2,ResNet50-timm,ConvNeXt-B-timm,ViT-T-timm,ViT-S-timm,SwinV2-T-timm\".split(\",\")\n",
    "model_colors = dict( zip(model_order, sns.color_palette(\"colorblind\")[:len(model_order)]))\n",
    "\n",
    "df_1x = df[(df[\"partition name\"] == \"1.00x train\") | (df[\"partition name\"] == \"default\")].copy()\n",
    "# df_1x = df[(df[\"partition name\"] == \"0.05x train\")].copy()\n",
    "\n",
    "normalizer = parse_results.make_normalizer(df_1x)\n",
    "normalizer.normalize_data_frame(df_1x, [\"test metric\", \"val metric\"])\n",
    "\n",
    "parse_results.plot_per_dataset_3(df_1x, model_order, model_colors=model_colors, metric=\"test metric\", sharey=False, inner=\"points\", fig_size=(14,3), n_legend_rows=2)\n",
    "plt.savefig(Path.home() / \"figures\" / \"classification test metric.pdf\", bbox_inches=\"tight\", dpi=300)\n"
   ]
  },
  {
   "cell_type": "code",
   "execution_count": null,
   "metadata": {},
   "outputs": [],
   "source": [
    "parse_results.plot_bootstrap_aggregate(df_1x, metric=\"normalized test metric\", model_order=model_order, model_colors=model_colors, fig_size=(12,2.3))\n",
    "# parse_results.plot_bootstrap_aggregate(df_1x, metric=\"normalized val_metric\", model_order=model_order)\n",
    "plt.savefig(Path.home() / \"figures\" / \"classification normalized test metric.pdf\", bbox_inches=\"tight\", dpi=300)"
   ]
  },
  {
   "cell_type": "markdown",
   "metadata": {},
   "source": [
    "## Growing Train Size\n"
   ]
  },
  {
   "cell_type": "code",
   "execution_count": null,
   "metadata": {},
   "outputs": [],
   "source": [
    "classification_dir = '/mnt/data/experiments/nils/final_classification_seeded_runs'\n",
    "df = retrieve_runs(classification_dir, use_cached_csv=True, is_sweep=False)\n",
    "\n",
    "df = df.applymap(parse_results.clean_names)\n",
    "df = df.rename(columns=parse_results.clean_names)\n",
    "# df = df[~df.model.isin((\"conv4\",))]\n",
    "\n",
    "\n",
    "df_1x = df[(df[\"partition name\"] == \"1.00x train\") | (df[\"partition name\"] == \"default\")].copy()\n",
    "# df_1x = df[(df[\"partition name\"] == \"0.05x train\")].copy()\n",
    "\n",
    "normalizer = parse_results.make_normalizer(df_1x)\n",
    "normalizer.normalize_data_frame(df, [\"test metric\", \"val metric\"])\n",
    "\n",
    "model_order = \"ResNet18-Rnd,ResNet50-timm,ConvNeXt-B-timm,ViT-T-timm,ViT-S-timm,SwinV2-T-timm\".split(\",\")\n",
    "\n",
    "parse_results.plot_bootstrap_aggregate_growing(df, metric=\"normalized test metric\", model_order=model_order, model_colors=model_colors,  fig_size=(12,2))\n",
    "plt.savefig(Path.home() / \"figures\" / \"classification growing test metric.pdf\", bbox_inches=\"tight\", dpi=300)"
   ]
  },
  {
   "cell_type": "markdown",
   "metadata": {},
   "source": [
    "## Train Size Analysis"
   ]
  },
  {
   "cell_type": "code",
   "execution_count": null,
   "metadata": {},
   "outputs": [],
   "source": [
    "# classification_dir = '/mnt/data/experiments/nils/final_classification_seeded_runs'\n",
    "classification_dir = '/mnt/data/experiments/nils/last_classification_sweeps'\n",
    "\n",
    "df = retrieve_runs(classification_dir, use_cached_csv=True, is_sweep=True)\n",
    "df = df.applymap(parse_results.clean_names)\n",
    "df = df.rename(columns=parse_results.clean_names)\n",
    "\n",
    "df = df[~df.model.isin((\"conv4\",\"MoCo ResNet50\"))]\n",
    "\n",
    "\n",
    "plt.figure(figsize=(6,4), dpi=100)\n",
    "parse_results.plot_normalized_time(df, average_seeds=True, reference_ratio=0.1)\n",
    "plt.savefig(Path.home() / \"figures\" / \"training time.pdf\", bbox_inches=\"tight\")\n"
   ]
  },
  {
   "cell_type": "code",
   "execution_count": null,
   "metadata": {},
   "outputs": [],
   "source": [
    "classification_dir = '/mnt/data/experiments/nils/final_classification_seeded_runs'\n",
    "\n",
    "df = retrieve_runs(classification_dir, use_cached_csv=True, is_sweep=True)\n",
    "df = df.applymap(parse_results.clean_names)\n",
    "df = df.rename(columns=parse_results.clean_names)\n",
    "\n",
    "df_filtered = df[~df.model.isin((\"conv4\",))]\n",
    "\n",
    "parse_results.plot_discriminative_metric(df_filtered, metric=\"val metric\", n_largest=100, fig_size=(8,5))\n",
    "plt.savefig(Path.home() / \"figures\" / \"discriminativity.pdf\", bbox_inches=\"tight\")\n"
   ]
  },
  {
   "cell_type": "code",
   "execution_count": null,
   "metadata": {},
   "outputs": [],
   "source": [
    "count = parse_results.count_exp(df)\n",
    "\n",
    "count.style.applymap(lambda x: \"background-color: red\" if x<10 else \"background-color: white\")\n",
    "count\n"
   ]
  },
  {
   "cell_type": "markdown",
   "metadata": {},
   "source": [
    "# Segmentation\n",
    "## Main Results"
   ]
  },
  {
   "cell_type": "code",
   "execution_count": null,
   "metadata": {},
   "outputs": [],
   "source": [
    "segmentation_dir = '/mnt/data/experiments/nils/final_segmentation_seeded_runs'\n",
    "\n",
    "df = retrieve_runs(segmentation_dir, use_cached_csv=True, is_sweep=False)\n",
    "\n",
    "print(df.model.unique())\n",
    "\n",
    "df = df.applymap(parse_results.clean_names)\n",
    "df = df.rename(columns=parse_results.clean_names)\n",
    "print(df.model.unique())\n",
    "\n",
    "model_order = 'ResNet18-U-Net-timm,ResNet50-U-Net-timm,ResNet101-U-Net-timm,ResNet18 DeepLabV3-timm,ResNet50 DeepLabV3-timm,ResNet101 DeepLabV3-timm'.split(',')\n",
    "colors = sns.color_palette(\"colorblind\")\n",
    "colors = [colors[i] for i in [0,1,2,4,8,9]]\n",
    "model_colors = dict( zip(model_order, colors))\n",
    "\n",
    "df_1x = df[(df[\"partition name\"] == \"1.00x train\") | (df[\"partition name\"] == \"default\")].copy()\n",
    "# df_1x = df[(df[\"partition name\"] == \"0.05x train\")].copy()\n",
    "\n",
    "normalizer = parse_results.make_normalizer(df_1x)\n",
    "normalizer.normalize_data_frame(df_1x, [\"test metric\", \"val metric\"])\n",
    "\n",
    "parse_results.plot_per_dataset_3(df_1x, model_order, model_colors=model_colors, metric=\"test metric\", sharey=False, inner=\"points\", fig_size=(14,3), n_legend_rows=2)\n",
    "plt.savefig(Path.home() / \"figures\" / \"segmentation test metric.pdf\", bbox_inches=\"tight\", dpi=300)\n",
    "\n"
   ]
  },
  {
   "cell_type": "code",
   "execution_count": null,
   "metadata": {},
   "outputs": [],
   "source": [
    "parse_results.plot_bootstrap_aggregate(df_1x, metric=\"normalized test metric\", model_order=model_order, model_colors=model_colors, fig_size=(12,2.3))\n",
    "# parse_results.plot_bootstrap_aggregate(df_1x, metric=\"normalized val_metric\", model_order=model_order)\n",
    "plt.savefig(Path.home() / \"figures\" / \"segmentation normalized test metric.pdf\", bbox_inches=\"tight\", dpi=300)"
   ]
  },
  {
   "cell_type": "markdown",
   "metadata": {},
   "source": [
    "## Growing train size"
   ]
  },
  {
   "cell_type": "code",
   "execution_count": null,
   "metadata": {},
   "outputs": [],
   "source": [
    "segmentation_dir = '/mnt/data/experiments/nils/final_segmentation_seeded_runs'\n",
    "df = retrieve_runs(segmentation_dir, use_cached_csv=True, is_sweep=False)\n",
    "\n",
    "df = df.applymap(parse_results.clean_names)\n",
    "df = df.rename(columns=parse_results.clean_names)\n",
    "\n",
    "df_1x = df[(df[\"partition name\"] == \"1.00x train\") | (df[\"partition name\"] == \"default\")].copy()\n",
    "# df_1x = df[(df[\"partition name\"] == \"0.05x train\")].copy()\n",
    "\n",
    "normalizer = parse_results.make_normalizer(df_1x)\n",
    "normalizer.normalize_data_frame(df, [\"test metric\", \"val metric\"])\n",
    "\n",
    "# model_order = 'resnet18 Unet,resnet50 Unet,resnet101 Unet,resnet18 DeepLabV3,resnet50 DeepLabV3,resnet101 DeepLabV3'.split(',')\n",
    "\n",
    "parse_results.plot_bootstrap_aggregate_growing(df, metric=\"normalized test metric\", model_order=model_order, model_colors=model_colors, fig_size=(12,2))\n",
    "plt.savefig(Path.home() / \"figures\" / \"segmentation growing test metric.pdf\", bbox_inches=\"tight\", dpi=300)"
   ]
  },
  {
   "cell_type": "code",
   "execution_count": null,
   "metadata": {},
   "outputs": [],
   "source": [
    "parse_results.count_exp(df)"
   ]
  },
  {
   "cell_type": "markdown",
   "metadata": {},
   "source": [
    "# Beyond RGB"
   ]
  },
  {
   "cell_type": "markdown",
   "metadata": {},
   "source": [
    "## load data"
   ]
  },
  {
   "cell_type": "code",
   "execution_count": null,
   "metadata": {},
   "outputs": [],
   "source": [
    "# directory where all the sweeps experiments are logged\n",
    "# beyond_classification_dir =  '/mnt/data/experiments/nils/beyond_rgb_classification_sweeps'\n",
    "beyond_classification_dir = '/mnt/data/experiments/nils/final_classification_beyond_rgb_seeded_runs'\n",
    "\n",
    "\n",
    "# brgb_df =  pd.read_csv(Path(beyond_classification_dir)/ \"recent_result.csv\" )\n",
    "brgb_df = retrieve_runs(beyond_classification_dir, use_cached_csv=True, is_sweep=False)\n",
    "\n",
    "def remap_models(val):\n",
    "    map = {\n",
    "        \"resnet50\": \"ResNet50-timm+R-Multi\",\n",
    "        \"moco_resnet50\": \"moco_resnet50-multi\",\n",
    "        \"dino_resnet50\": \"dino_resnet50-multi\",\n",
    "        \"vit_small_patch16_224\": \"ViT-S-timm+R-Multi\",\n",
    "        \"moco_vit_small_patch16_224\": \"moco_vit_small_patch16_224-multi\",\n",
    "        \"dino_vit_small_patch16_224\": \"dino_vit_small_patch16_224-multi\",\n",
    "    }\n",
    "    try:\n",
    "        return map.get(val, val)\n",
    "    except:\n",
    "        return val\n",
    "\n",
    "print(brgb_df.model.unique())\n",
    "\n",
    "brgb_df = brgb_df.applymap(remap_models)\n",
    "\n",
    "classification_dir = '/mnt/data/experiments/nils/final_classification_seeded_runs'\n",
    "df_cls = retrieve_runs(classification_dir, use_cached_csv=True, is_sweep=False)\n",
    "datasets = brgb_df.dataset.unique()\n",
    "rgb_models_df = df_cls[df_cls.partition_name.isin((\"1.00x_train\",\"default\")) & df_cls.model.isin((\"resnet50\", \"vit_small_patch16_224\")) & df_cls.dataset.isin(datasets)].copy()\n",
    "\n",
    "brgb_df = pd.concat((brgb_df, rgb_models_df), axis=0)\n",
    "\n",
    "brgb_df = brgb_df.applymap(parse_results.clean_names)\n",
    "brgb_df = brgb_df.rename(columns=parse_results.clean_names)\n",
    "print(','.join(brgb_df.model.unique()))\n",
    "\n",
    "model_order1 = \"ResNet50-timm,ResNet50-timm+R-Multi,ResNet50-MoCo-S2-multi,ResNet50-DINO-S2-multi\".split(\",\")\n",
    "model_colors1 = dict( zip(model_order1, sns.color_palette(\"colorblind\", len(model_order1))))\n",
    "\n",
    "model_order2 = \"ViT-S-timm,ViT-S-timm+R-Multi,ViT-S-MoCo-S2-multi,ViT-S-DINO-S2-multi\".split(\",\")\n",
    "model_colors2 = dict( zip(model_order2, sns.color_palette(\"colorblind\")[len(model_order1):]))\n",
    "\n",
    "parse_results.count_exp(brgb_df)\n",
    "\n",
    "\n",
    "# normalizer = parse_results.make_normalizer(df_1x)\n",
    "# normalizer.normalize_data_frame(df_1x, [\"test metric\", \"val metric\"])\n",
    "\n",
    "# parse_results.plot_per_dataset_3(df_1x, model_order, model_colors=model_colors, metric=\"test metric\", sharey=False, inner=\"points\", fig_size=(14,3), n_legend_rows=2)\n",
    "# plt.savefig(Path.home() / \"figures\" / \"classification test metric.pdf\", bbox_inches=\"tight\", dpi=300)"
   ]
  },
  {
   "cell_type": "markdown",
   "metadata": {},
   "source": [
    "## Beyond RGB ablation"
   ]
  },
  {
   "cell_type": "code",
   "execution_count": null,
   "metadata": {},
   "outputs": [],
   "source": [
    "parse_results.plot_per_dataset_3(brgb_df, model_order1, model_colors=model_colors1, metric=\"test metric\", sharey=False, inner=\"points\", fig_size=(7,3), n_legend_rows=2)\n",
    "parse_results.plot_per_dataset_3(brgb_df, model_order2, model_colors=model_colors2, metric=\"test metric\", sharey=False, inner=\"points\", fig_size=(7,3), n_legend_rows=2)\n",
    "plt.savefig(Path.home() / \"figures\" / \"brgb classification resnet.pdf\", bbox_inches=\"tight\", dpi=300)\n",
    "plt.savefig(Path.home() / \"figures\" / \"brgb classification vit.pdf\", bbox_inches=\"tight\", dpi=300)\n"
   ]
  },
  {
   "cell_type": "code",
   "execution_count": null,
   "metadata": {},
   "outputs": [],
   "source": [
    "# df_cls = df_cls.applymap(parse_results.clean_names)\n",
    "# df_cls = df_cls.rename(columns=parse_results.clean_names)\n",
    "# normalizer = parse_results.make_normalizer(df_cls)\n",
    "\n",
    "normalizer.normalize_data_frame(brgb_df, [\"test metric\", \"val metric\"])\n",
    "\n",
    "parse_results.plot_bootstrap_aggregate(brgb_df, metric=\"normalized test metric\", model_order=model_order1, model_colors=model_colors1, fig_size=(6,2.3))\n",
    "plt.savefig(Path.home() / \"figures\" / \"brgb normalized resnet.pdf\", bbox_inches=\"tight\", dpi=300)\n",
    "\n",
    "parse_results.plot_bootstrap_aggregate(brgb_df, metric=\"normalized test metric\", model_order=model_order2, model_colors=model_colors2, fig_size=(6,2.3))\n",
    "plt.savefig(Path.home() / \"figures\" / \"brgb normalized vit.pdf\", bbox_inches=\"tight\", dpi=300)"
   ]
  },
  {
   "cell_type": "markdown",
   "metadata": {},
   "source": [
    "# Speed and Mem \n"
   ]
  },
  {
   "cell_type": "code",
   "execution_count": null,
   "metadata": {},
   "outputs": [],
   "source": [
    "\n",
    "pkl_file = \"/mnt/data/experiments/nils/speed_and_mem/speed_and_mem_table.pkl\"\n",
    "\n",
    "classification_dir = '/mnt/data/experiments/nils/final_classification_seeded_runs'\n",
    "classification_dir = '/mnt/data/experiments/nils/last_classification_sweeps'\n",
    "\n",
    "df = retrieve_runs(classification_dir, use_cached_csv=True, is_sweep=True)\n",
    "df = df[df.partition_name.isin((\"1.00x_train\",\"default\"))]\n",
    "df = df[~df.model.isin((\"conv4\",))]\n",
    "\n",
    "df = df.applymap(parse_results.clean_names)\n",
    "df = df.rename(columns=parse_results.clean_names)\n",
    "\n",
    "model_order = \"resnet18,scratch_resnet18,moco_resnet18,resnet50,millionaid_resnet50,moco_resnet50,vit_tiny_patch16_224,vit_small_patch16_224,swinv2_tiny_window16_256,convnext_base\".split(\",\")\n",
    "\n",
    "parse_results.plot_speed_results(pkl_file, df, model_order)\n",
    "plt.savefig(Path.home() / \"figures\" / \"resources.pdf\", bbox_inches=\"tight\", dpi=300)\n"
   ]
  },
  {
   "cell_type": "code",
   "execution_count": null,
   "metadata": {},
   "outputs": [],
   "source": []
  }
 ],
 "metadata": {
  "interpreter": {
   "hash": "b19f5167aa29f0e7b4ca4f180cf0e2dd5cec97c6ddb063b7447cc55271593e0b"
  },
  "kernelspec": {
   "display_name": "Python 3.9.7",
   "language": "python",
   "name": "python3"
  },
  "language_info": {
   "codemirror_mode": {
    "name": "ipython",
    "version": 3
   },
   "file_extension": ".py",
   "mimetype": "text/x-python",
   "name": "python",
   "nbconvert_exporter": "python",
   "pygments_lexer": "ipython3",
   "version": "3.9.7"
  },
  "orig_nbformat": 4
 },
 "nbformat": 4,
 "nbformat_minor": 2
}
