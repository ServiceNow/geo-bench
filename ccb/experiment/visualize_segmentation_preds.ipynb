{
 "cells": [
  {
   "cell_type": "code",
   "execution_count": null,
   "metadata": {},
   "outputs": [],
   "source": [
    "import torch\n",
    "import json\n",
    "import pickle\n",
    "from pathlib import Path\n",
    "from ccb.experiment.experiment import Job, get_model_generator\n",
    "from ruamel.yaml import YAML\n",
    "from ccb.torch_toolbox.dataset import DataModule\n",
    "from ccb.torch_toolbox.model import Model\n",
    "import matplotlib.pyplot as plt\n",
    "from ccb.dataset_converters.inspect_tools import float_image_to_uint8"
   ]
  },
  {
   "cell_type": "code",
   "execution_count": null,
   "metadata": {},
   "outputs": [],
   "source": [
    "best_config_dict_path = \"/mnt/home/climate-change-benchmark/ccb/configs/best_hparams_segmentation.json\"\n",
    "\n",
    "with open(best_config_dict_path, \"r\") as f:\n",
    "    config_dict = json.load(f)"
   ]
  },
  {
   "cell_type": "markdown",
   "metadata": {},
   "source": [
    "## specify which model and dataset to visualize"
   ]
  },
  {
   "cell_type": "code",
   "execution_count": null,
   "metadata": {},
   "outputs": [],
   "source": [
    "# specify model, partition and dataset\n",
    "MODEL_NAME = \"resnet101_DeepLabV3\"\n",
    "PARTITION_SIZE = \"1.00x_train\"\n",
    "DATASET = \"NeonTree_segmentation\"\n",
    "\n",
    "BATCH_SIZE = 8"
   ]
  },
  {
   "cell_type": "code",
   "execution_count": null,
   "metadata": {},
   "outputs": [],
   "source": [
    "best_sweep_path = Path(config_dict[MODEL_NAME][PARTITION_SIZE][DATASET])\n",
    "config_path = best_sweep_path / \"config.yaml\"\n",
    "\n",
    "yaml = YAML()\n",
    "with open(config_path, \"r\") as fd:\n",
    "    config = yaml.load(fd)\n",
    "\n",
    "task_specs_path = best_sweep_path.parents[1] / \"task_specs.pkl\"\n",
    "\n",
    "with open(task_specs_path, \"rb\") as f:\n",
    "    task_specs = pickle.load(f)\n",
    "\n",
    "checkpoint_dir = best_sweep_path.parents[1] / \"checkpoint\"\n",
    "best_ckpt = list(checkpoint_dir.glob(\"*.ckpt\"))[-1]\n"
   ]
  },
  {
   "cell_type": "markdown",
   "metadata": {},
   "source": [
    "## set up model for prediction"
   ]
  },
  {
   "cell_type": "code",
   "execution_count": null,
   "metadata": {},
   "outputs": [],
   "source": [
    "model_gen = get_model_generator(config[\"model\"][\"model_generator_module_name\"])\n",
    "device = torch.device('cuda' if torch.cuda.is_available() else 'cpu')\n",
    "\n",
    "model = model_gen.generate_model(task_specs=task_specs, config=config)\n",
    "\n",
    "ckpt = torch.load(best_ckpt)\n",
    "\n",
    "model.load_state_dict(ckpt[\"state_dict\"])\n",
    "model.to(device)\n",
    "\n",
    "datamodule = DataModule(\n",
    "    task_specs=task_specs,\n",
    "    benchmark_dir=config[\"experiment\"][\"benchmark_dir\"],\n",
    "    partition_name=config[\"experiment\"][\"partition_name\"],\n",
    "    batch_size=BATCH_SIZE,\n",
    "    num_workers=config[\"dataloader\"][\"num_workers\"],\n",
    "    train_transform=model_gen.get_transform(task_specs=task_specs, config=config, train=True),\n",
    "    eval_transform=model_gen.get_transform(task_specs=task_specs, config=config, train=False),\n",
    "    collate_fn=model_gen.get_collate_fn(task_specs, config),\n",
    "    band_names=config[\"dataset\"][\"band_names\"],\n",
    "    format=config[\"dataset\"][\"format\"],\n",
    ")\n",
    "\n",
    "test_loader = datamodule.test_dataloader()"
   ]
  },
  {
   "cell_type": "markdown",
   "metadata": {},
   "source": [
    "## make a prediction and visualize results"
   ]
  },
  {
   "cell_type": "code",
   "execution_count": null,
   "metadata": {},
   "outputs": [],
   "source": [
    "batch = next(iter(test_loader))\n",
    "\n",
    "preds = model.forward(batch[\"input\"].to(device)).cpu()"
   ]
  },
  {
   "cell_type": "code",
   "execution_count": null,
   "metadata": {},
   "outputs": [],
   "source": [
    "fig, axs = plt.subplots(nrows=BATCH_SIZE, ncols=3, figsize=(20, BATCH_SIZE * 5))\n",
    "for i in range(BATCH_SIZE):\n",
    "    input = batch[\"input\"][i].permute(1, 2, 0).numpy()\n",
    "    # roughly unnormalize image\n",
    "    orig_input = float_image_to_uint8([input])[0]\n",
    "    \n",
    "    ground_truth = batch[\"label\"][i]\n",
    "    pred = preds[i]\n",
    "    \n",
    "    axs[i][0].imshow(orig_input)\n",
    "    axs[0][0].set_title(\"Input image\")\n",
    "    axs[i][0].axis(\"off\")\n",
    "\n",
    "    axs[i][1].imshow(ground_truth.numpy())\n",
    "    axs[0][1].set_title(\"Ground Truth\")\n",
    "    axs[i][1].axis(\"off\")\n",
    "\n",
    "    axs[i][2].imshow(pred.argmax(0).numpy())\n",
    "    axs[0][2].set_title(\"Pediction\")\n",
    "    axs[i][2].axis(\"off\")\n",
    "\n",
    "plt.suptitle(f\"{MODEL_NAME} on {DATASET} with partiton {PARTITION_SIZE}\")\n",
    "plt.show()"
   ]
  },
  {
   "cell_type": "code",
   "execution_count": null,
   "metadata": {},
   "outputs": [],
   "source": []
  }
 ],
 "metadata": {
  "kernelspec": {
   "display_name": "Python 3.9.0 ('ccbEnv': conda)",
   "language": "python",
   "name": "python3"
  },
  "language_info": {
   "codemirror_mode": {
    "name": "ipython",
    "version": 3
   },
   "file_extension": ".py",
   "mimetype": "text/x-python",
   "name": "python",
   "nbconvert_exporter": "python",
   "pygments_lexer": "ipython3",
   "version": "3.9.0"
  },
  "orig_nbformat": 4,
  "vscode": {
   "interpreter": {
    "hash": "50fb5aad75a1e334b0049d17a28c535a225b27a7c5ec5d2eea92f7c0e9e2da82"
   }
  }
 },
 "nbformat": 4,
 "nbformat_minor": 2
}
