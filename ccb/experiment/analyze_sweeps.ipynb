{
<<<<<<< HEAD
 "cells": [
  {
   "cell_type": "code",
   "execution_count": null,
   "metadata": {},
   "outputs": [],
   "source": [
    "import pandas as pd\n",
    "import numpy as np\n",
    "import pickle\n",
    "from matplotlib import pyplot as plt\n",
    "import json\n",
    "\n",
    "import seaborn as sns\n",
    "from ccb.experiment import parse_results\n",
    "from ccb.experiment.retrieve_runs import retrieve_runs, find_missing_runs\n",
    "\n",
    "\n",
    "%load_ext autoreload\n",
    "%autoreload 2"
   ]
  },
  {
   "cell_type": "code",
   "execution_count": null,
   "metadata": {},
   "outputs": [],
   "source": [
    "import timm\n",
    "assert set(timm.list_models()) == set(timm.list_models(pretrained=False))"
   ]
  },
  {
   "cell_type": "markdown",
   "metadata": {},
   "source": [
    "## RGB Experiments\n"
   ]
  },
  {
   "cell_type": "code",
   "execution_count": null,
   "metadata": {},
   "outputs": [],
   "source": [
    "# directory where all the sweeps experiments are logged\n",
    "classification_dir =  '/mnt/data/experiments/nils/last_classification_sweeps'\n",
    "classification_dir = '/mnt/data/experiments/nils/final_classification_seeded_runs'\n",
    "segmentation_dir =  '/mnt/data/experiments/nils/last_segmentation_sweeps'\n",
    "segmentation_dir = \"/mnt/data/experiments/nils/final_segmentation_seeded_runs\"\n",
    "\n",
    "df = retrieve_runs(segmentation_dir, use_cached_csv=False, is_sweep=False)\n",
    "\n",
    "df_1x = df[(df[\"partition_name\"] == \"1.00x_train\") | (df[\"partition_name\"] == \"default\")]"
   ]
  },
  {
   "cell_type": "code",
   "execution_count": null,
   "metadata": {},
   "outputs": [],
   "source": [
    "# parse_results.count_exp(df[df[\"partition_name\"]==\"0.10x_train\"])\n",
    "parse_results.count_exp(df)"
   ]
  },
  {
   "cell_type": "code",
   "execution_count": null,
   "metadata": {},
   "outputs": [],
   "source": [
    "# generate best hparam config from sweeps for seeded runs\n",
    "# best_runs = parse_results.find_best_hparam_for_seeds(df)\n",
    "# # print(best_runs)\n",
    "# with open(\"/mnt/home/climate-change-benchmark/ccb/configs/best_hparams_classification.json\", \"w\") as f:\n",
    "#     json.dump(best_runs, f)"
   ]
  },
  {
   "cell_type": "code",
   "execution_count": null,
   "metadata": {},
   "outputs": [],
   "source": [
    "\n",
    "df_1x = df[(df[\"partition_name\"] == \"1.00x_train\")]# | (df[\"partition_name\"] == \"default\")]\n",
    "\n",
    "# df_05x = df[df[\"partition_name\"]==\"0.01x_train\"]\n",
    "best_points_df = parse_results.plot_all_models_datasets(df_1x, plot_fn=parse_results.make_plot_sweep(filt_size=10, top_k=6, legend=False), fig_size=(60,40))\n",
    "plt.tight_layout()\n"
   ]
  },
  {
   "cell_type": "code",
   "execution_count": null,
   "metadata": {},
   "outputs": [],
   "source": [
    "\n",
    "# plt.rcParams['figure.figsize'] = [40, 40]\n",
    "\n",
    "parse_results.plot_all_datasets(df_1x, model=\"ssl_moco_resnet50\", plot_fn=parse_results.make_plot_sweep(filt_size=20, top_k=6, legend=True), fig_size=(10,20))\n",
    "# parse_results.plot_all_datasets(df_1x, model=\"resnet50\")\n",
    "\n",
    "plt.tight_layout()\n"
   ]
  },
  {
   "cell_type": "code",
   "execution_count": null,
   "metadata": {},
   "outputs": [],
   "source": [
    "parse_results.plot_all_models_datasets(df_1x, plot_fn=parse_results.make_plot_sweep(filt_size=20, top_k=6, legend=False), fig_size=(40,40))\n",
    "plt.tight_layout()"
   ]
  },
  {
   "cell_type": "markdown",
   "metadata": {},
   "source": [
    "## Beyond RGB experiments\n",
    "\n"
   ]
  },
  {
   "cell_type": "code",
   "execution_count": null,
   "metadata": {},
   "outputs": [],
   "source": [
    "classification_dir = \"/mnt/data/experiments/nils/beyond_rgb_classification_sweeps\"\n",
    "classification_dir = \"/mnt/data/experiments/nils/final_classification_beyond_rgb_seeded_runs\"\n",
    "df = retrieve_runs(classification_dir, use_cached_csv=False, is_sweep=False)"
   ]
  },
  {
   "cell_type": "code",
   "execution_count": null,
   "metadata": {},
   "outputs": [],
   "source": [
    "parse_results.count_exp(df)\n",
    "# df.to_csv(\"/mnt/data/experiments/nils/final_classification_beyond_rgb_seeded_runs/recent_result.csv\", index=False)"
   ]
  },
  {
   "cell_type": "code",
   "execution_count": null,
   "metadata": {},
   "outputs": [],
   "source": [
    "df_1x = df[(df[\"partition_name\"] == \"1.00x_train\")]\n",
    "best_points_df = parse_results.plot_all_models_datasets(df_1x, plot_fn=parse_results.make_plot_sweep(filt_size=10, top_k=6, legend=False), fig_size=(40,40))\n",
    "plt.tight_layout()"
   ]
  },
  {
   "cell_type": "code",
   "execution_count": null,
   "metadata": {},
   "outputs": [],
   "source": [
    "df[df[\"model\"]==\"resnet50\"]"
   ]
  },
  {
   "cell_type": "code",
   "execution_count": null,
   "metadata": {},
   "outputs": [],
   "source": [
    "resdf = df[(df[\"model\"]==\"resnet50\") & (df[\"dataset\"]==\"brick_kiln_v1.0\")].reset_index(drop=True)"
   ]
  },
  {
   "cell_type": "code",
   "execution_count": null,
   "metadata": {},
   "outputs": [],
   "source": [
    "resdf.loc[8, \"exp_dir\"]"
   ]
  },
  {
   "cell_type": "code",
   "execution_count": null,
   "metadata": {},
   "outputs": [],
   "source": [
    "best_runs = parse_results.find_best_hparam_for_seeds(df)\n",
    "# print(best_runs)\n",
    "with open(\"/mnt/home/climate-change-benchmark/ccb/configs/best_hparams_beyond_rgb_classification.json\", \"w\") as f:\n",
    "    json.dump(best_runs, f)"
   ]
  },
  {
   "cell_type": "markdown",
   "metadata": {},
   "source": [
    "## Speed and Memory"
   ]
  },
  {
   "cell_type": "code",
   "execution_count": null,
   "metadata": {},
   "outputs": [],
   "source": [
    "path = \"/mnt/data/experiments/nils/speed_and_mem/speed_table.csv\"\n",
    "\n",
    "df = pd.read_csv(path)\n",
    "type(df.loc[0, \"forward_time\"])\n",
    "\n",
    "with open( \"/mnt/data/experiments/nils/speed_and_mem/speed_and_mem_table.pkl\", 'rb') as handle:\n",
    "    data = pickle.load(handle)"
   ]
  },
  {
   "cell_type": "code",
   "execution_count": null,
   "metadata": {},
   "outputs": [],
   "source": [
    "def create_df_from_data(data):\n",
    "    \"\"\"Create a pandas df from data dictionary.\"\"\"\n",
    "    def format_array(column_key):\n",
    "        form_arr = np.array([val[column_key] for key, val in data.items()]).transpose()\n",
    "        form_df = pd.DataFrame(form_arr, columns = data.keys())\n",
    "        form_df = form_df.stack().reset_index().rename(columns= {\"level_1\": \"model\", 0: column_key}).drop(columns=\"level_0\")\n",
    "        return form_df\n",
    "\n",
    "    before_mem_df = format_array(\"before_forward\")\n",
    "    after_mem_df = format_array(\"after_backward\")\n",
    "    time_df = format_array(\"forward_time\")\n",
    "\n",
    "    final_df = pd.concat([before_mem_df, after_mem_df[\"after_backward\"], time_df[\"forward_time\"]], axis=1)\n",
    "\n",
    "    num_params = [val[\"num_params\"] for key, val in data.items()]\n",
    "    param_df = pd.DataFrame(num_params, columns=[\"num_params\"], index=data.keys()).reset_index().rename(columns={\"index\": \"model\"})\n",
    "    final_df = pd.merge(final_df, param_df, left_on=\"model\", right_on=\"model\")\n",
    "\n",
    "    gpu_name = [val[\"gpu_name\"] for key, val in data.items()]\n",
    "    gpu_df = pd.DataFrame(gpu_name, columns=[\"gpu_name\"], index=data.keys()).reset_index().rename(columns={\"index\": \"model\"})\n",
    "    final_df = pd.merge(final_df, gpu_df, left_on=\"model\", right_on=\"model\")\n",
    "\n",
    "    return final_df\n",
    "\n",
    "final_df = create_df_from_data(data)"
   ]
  },
  {
   "cell_type": "code",
   "execution_count": null,
   "metadata": {},
   "outputs": [],
   "source": [
    "final_df.to_csv(\"/mnt/data/experiments/nils/speed_and_mem/speed_and_mem_table.csv\", index=False)"
   ]
  },
  {
   "cell_type": "code",
   "execution_count": null,
   "metadata": {},
   "outputs": [],
   "source": [
    "column_key = \"forward_time\"\n",
    "fig, ax = plt.subplots(1, figsize=(12, 8))\n",
    "my_order = final_df.groupby(by=[\"model\"])[column_key].mean().reset_index().sort_values(by=column_key)[\"model\"].tolist()\n",
    "print(my_order)\n",
    " \n",
    "# Specifying the 'order' parameter with my_order and plotting\n",
    "sns.violinplot(x='model', y=column_key, data=final_df, order=my_order, ax=ax)\n",
    "plt.xticks(rotation=45, ha='right')\n"
   ]
  },
  {
   "cell_type": "code",
   "execution_count": null,
   "metadata": {},
   "outputs": [],
   "source": [
    "mem_data.shape\n",
    "\n",
    "df"
   ]
  },
  {
   "cell_type": "code",
   "execution_count": null,
   "metadata": {},
   "outputs": [],
   "source": [
    "box_data = np.array([val[\"forward_time\"] for key, val in data.items()]).transpose()\n",
    "box_data[box_data > 1] = 0.1\n",
    "box_data.shape\n",
    "\n",
    "fig = plt.figure(figsize=(12, 4))\n",
    "plt.boxplot(x=box_data) \n",
    "plt.xticks(np.arange(len(df)) + 1, list(data.keys()), rotation=45, ha=\"right\")\n",
    "\n",
    "plt.show()"
   ]
  },
  {
   "cell_type": "code",
   "execution_count": null,
   "metadata": {},
   "outputs": [],
   "source": [
    "fig = plt.figure(figsize=(12, 4))\n",
    "df.sort_values(by=\"forward_time\", ascending=True, inplace=True)\n",
    "\n",
    "plt.bar(x=df[\"model_name\"], height=df[\"forward_time\"])\n",
    "plt.xticks(rotation=45, ha='right')\n",
    "plt.title(\"Run time forward pass batch 32\")\n",
    "plt.show()"
   ]
  },
  {
   "cell_type": "code",
   "execution_count": null,
   "metadata": {},
   "outputs": [],
   "source": [
    "fig = plt.figure(figsize=(12, 4))\n",
    "df.sort_values(by=\"num_params\", ascending=True, inplace=True)\n",
    "\n",
    "plt.bar(x=df[\"model_name\"], height=df[\"num_params\"])\n",
    "plt.xticks(rotation=45, ha='right')\n",
    "plt.title(\"Number of trainable model parameters\")\n",
    "plt.show()"
   ]
  },
  {
   "cell_type": "code",
   "execution_count": null,
   "metadata": {},
   "outputs": [],
   "source": []
  }
 ],
 "metadata": {
  "kernelspec": {
   "display_name": "Python 3.9.0 ('ccbEnv': conda)",
   "language": "python",
   "name": "python3"
  },
  "language_info": {
   "codemirror_mode": {
    "name": "ipython",
    "version": 3
   },
   "file_extension": ".py",
   "mimetype": "text/x-python",
   "name": "python",
   "nbconvert_exporter": "python",
   "pygments_lexer": "ipython3",
   "version": "3.9.0"
  },
  "orig_nbformat": 4,
  "vscode": {
   "interpreter": {
    "hash": "50fb5aad75a1e334b0049d17a28c535a225b27a7c5ec5d2eea92f7c0e9e2da82"
   }
  }
 },
 "nbformat": 4,
 "nbformat_minor": 2
=======
   "cells": [
      {
         "cell_type": "code",
         "execution_count": null,
         "metadata": {},
         "outputs": [],
         "source": [
            "import pandas as pd\n",
            "from matplotlib import pyplot as plt\n",
            "\n",
            "from ccb.experiment import parse_results\n",
            "from ccb.experiment.retrieve_runs import retrieve_runs\n",
            "\n",
            "%load_ext autoreload\n",
            "%autoreload 2"
         ]
      },
      {
         "cell_type": "markdown",
         "metadata": {},
         "source": [
            "# RGB Classification"
         ]
      },
      {
         "cell_type": "code",
         "execution_count": null,
         "metadata": {},
         "outputs": [],
         "source": [
            "# directory where all the sweeps experiments are logged\n",
            "classification_dir =  '/mnt/data/experiments/nils/last_classification_sweeps'\n",
            "# classification_dir = '/mnt/data/experiments/nils/final_classification_seeded_runs'\n",
            "\n",
            "df = retrieve_runs(classification_dir, use_cached_csv=False, is_sweep=True)"
         ]
      },
      {
         "cell_type": "code",
         "execution_count": null,
         "metadata": {},
         "outputs": [],
         "source": [
            "df.model.unique()"
         ]
      },
      {
         "cell_type": "code",
         "execution_count": null,
         "metadata": {},
         "outputs": [],
         "source": [
            "# generate best hparam config from sweeps for seeded runs\n",
            "best_runs = parse_results.find_best_hparam_for_seeds(df)"
         ]
      },
      {
         "cell_type": "code",
         "execution_count": null,
         "metadata": {},
         "outputs": [],
         "source": [
            "\n",
            "df_1x = df[(df[\"partition_name\"] == \"1.00x_train\") | (df[\"partition_name\"] == \"default\")]\n",
            "\n",
            "best_points_df = parse_results.plot_all_models_datasets(df_1x, plot_fn=parse_results.make_plot_sweep(filt_size=10, top_k=6, legend=False), fig_size=(60,40))\n",
            "plt.tight_layout()\n"
         ]
      },
      {
         "cell_type": "code",
         "execution_count": null,
         "metadata": {},
         "outputs": [],
         "source": [
            "\n",
            "# plt.rcParams['figure.figsize'] = [40, 40]\n",
            "\n",
            "df_1x = df[(df[\"partition_name\"] == \"1.00x_train\") | (df[\"partition_name\"] == \"default\")]\n",
            "\n",
            "parse_results.plot_all_datasets(df_1x, model=\"resnet18\", plot_fn=parse_results.make_plot_sweep(filt_size=20, top_k=10, legend=True), fig_size=(20,20))\n",
            "# parse_results.plot_all_datasets(df_1x, model=\"resnet50\")\n",
            "\n",
            "plt.tight_layout()\n"
         ]
      },
      {
         "cell_type": "code",
         "execution_count": null,
         "metadata": {},
         "outputs": [],
         "source": [
            "parse_results.plot_all_models_datasets(df_1x, plot_fn=parse_results.make_plot_sweep(filt_size=20, top_k=6, legend=False), fig_size=(40,40))\n",
            "plt.tight_layout()"
         ]
      },
      {
         "cell_type": "markdown",
         "metadata": {},
         "source": [
            "# Beyond RGB Classification"
         ]
      },
      {
         "cell_type": "code",
         "execution_count": null,
         "metadata": {},
         "outputs": [],
         "source": [
            "# directory where all the sweeps experiments are logged\n",
            "beyond_classification_dir =  '/mnt/data/experiments/nils/beyond_rgb_classification_sweeps'\n",
            "# beyond_classification_dir = '/mnt/data/experiments/nils/final_classification_beyond_rgb_seeded_runs'\n",
            "\n",
            "beyond_rgb_models_df = retrieve_runs(beyond_classification_dir, use_cached_csv=False, is_sweep=True)\n",
            "\n",
            "parse_results.count_exp(beyond_rgb_models_df)"
         ]
      },
      {
         "cell_type": "code",
         "execution_count": null,
         "metadata": {},
         "outputs": [],
         "source": [
            "best_points_df = parse_results.plot_all_models_datasets(beyond_rgb_models_df, plot_fn=parse_results.make_plot_sweep(filt_size=5, top_k=6, legend=False), fig_size=(40,20))\n",
            "plt.tight_layout()"
         ]
      },
      {
         "cell_type": "code",
         "execution_count": null,
         "metadata": {},
         "outputs": [],
         "source": [
            "parse_results.plot_all_datasets(beyond_rgb_models_df, model=\"resnet50\", plot_fn=parse_results.make_plot_sweep(filt_size=10, top_k=6, legend=True), fig_size=(20,20))\n"
         ]
      },
      {
         "cell_type": "markdown",
         "metadata": {},
         "source": [
            "# RGB Segmentation"
         ]
      },
      {
         "cell_type": "code",
         "execution_count": null,
         "metadata": {},
         "outputs": [],
         "source": [
            "# directory where all the sweeps experiments are logged\n",
            "segmentation_dir =  '/mnt/data/experiments/nils/last_segmentation_sweeps'\n",
            "segmentation_dir = '/mnt/data/experiments/nils/final_segmentation_seeded_runs'\n",
            "df_seg = retrieve_runs(segmentation_dir, use_cached_csv=False, is_sweep=False)"
         ]
      },
      {
         "cell_type": "code",
         "execution_count": null,
         "metadata": {},
         "outputs": [],
         "source": [
            "\n",
            "df_1x_seg = df_seg[(df_seg[\"partition_name\"] == \"1.00x_train\") | (df_seg[\"partition_name\"] == \"default\")]\n",
            "\n",
            "best_points_df = parse_results.plot_all_models_datasets(df_1x_seg, plot_fn=parse_results.make_plot_sweep(filt_size=10, top_k=6, legend=False), fig_size=(40,40))\n",
            "plt.tight_layout()"
         ]
      },
      {
         "cell_type": "code",
         "execution_count": null,
         "metadata": {},
         "outputs": [],
         "source": [
            "parse_results.count_exp(df_seg)"
         ]
      },
      {
         "cell_type": "code",
         "execution_count": null,
         "metadata": {},
         "outputs": [],
         "source": []
      }
   ],
   "metadata": {
      "kernelspec": {
         "display_name": "Python 3",
         "language": "python",
         "name": "python3"
      },
      "language_info": {
         "codemirror_mode": {
            "name": "ipython",
            "version": 3
         },
         "file_extension": ".py",
         "mimetype": "text/x-python",
         "name": "python",
         "nbconvert_exporter": "python",
         "pygments_lexer": "ipython3",
         "version": "3.9.7"
      },
      "orig_nbformat": 4,
      "vscode": {
         "interpreter": {
            "hash": "b19f5167aa29f0e7b4ca4f180cf0e2dd5cec97c6ddb063b7447cc55271593e0b"
         }
      }
   },
   "nbformat": 4,
   "nbformat_minor": 2
>>>>>>> main
}
