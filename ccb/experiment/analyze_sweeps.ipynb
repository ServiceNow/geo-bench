{
 "cells": [
  {
   "cell_type": "code",
   "execution_count": null,
   "metadata": {},
   "outputs": [],
   "source": [
    "import pandas as pd\n",
    "from matplotlib import pyplot as plt\n",
    "\n",
    "from ccb.experiment import parse_results\n",
    "from ccb.experiment.retrieve_runs import retrieve_runs, find_missing_runs\n",
    "\n",
    "\n",
    "%load_ext autoreload\n",
    "%autoreload 2"
   ]
  },
  {
   "cell_type": "markdown",
   "metadata": {},
   "source": [
    "## observations\n",
    "* val loss and val accuracy don't start at the same step. Why?\n",
    "* val accuracy can decrease over time (it doesn't always stay flat). Maybe it's a better indicator of the best hyper-parameter and the best time step.\n",
    "* Val accuracy is particularly noisy\n",
    "* many curves overfits right from the beginning and so2sat almost exclusively overfits\n",
    "* conv4 is often not converged\n"
   ]
  },
  {
   "cell_type": "code",
   "execution_count": null,
   "metadata": {},
   "outputs": [],
   "source": [
    "# directory where all the sweeps experiments are logged\n",
    "classification_dir =  '/mnt/data/experiments/nils/last_classification_sweeps'\n",
    "segmentation_dir =  '/mnt/data/experiments/nils/last_segmentation_sweeps'\n",
    "\n",
    "df = retrieve_runs(classification_dir, use_cached_csv=False, exp_type=\"sweep\")\n",
    "\n",
    "df_1x = df[(df[\"partition_name\"] == \"0.01x_train\") | (df[\"partition_name\"] == \"default\")]"
   ]
  },
  {
   "cell_type": "code",
   "execution_count": null,
   "metadata": {},
   "outputs": [],
   "source": [
    "count_df = df[df[\"partition_name\"]==\"0.05x_train\"].groupby([\"model\", \"dataset\", \"partition_name\"]).size().reset_index()\n",
    "count_df"
   ]
  },
  {
   "cell_type": "code",
   "execution_count": null,
   "metadata": {},
   "outputs": [],
   "source": [
    "\n",
    "df_1x = df[(df[\"partition_name\"] == \"1.00x_train\") | (df[\"partition_name\"] == \"default\")]\n",
    "\n",
    "# df_05x = df[df[\"partition_name\"]==\"0.01x_train\"]\n",
    "parse_results.plot_all_models_datasets(df_1x, plot_fn=parse_results.make_plot_sweep(filt_size=5, top_k=6, legend=False), fig_size=(40,40))\n",
    "plt.tight_layout()\n"
   ]
  },
  {
   "cell_type": "code",
   "execution_count": null,
   "metadata": {},
   "outputs": [],
   "source": [
    "\n",
    "# plt.rcParams['figure.figsize'] = [40, 40]\n",
    "\n",
    "parse_results.plot_all_datasets(df_1x, model=\"ssl_moco_resnet50\", plot_fn=parse_results.make_plot_sweep(filt_size=20, top_k=6, legend=True), fig_size=(10,20))\n",
    "# parse_results.plot_all_datasets(df_1x, model=\"resnet50\")\n",
    "\n",
    "plt.tight_layout()\n"
   ]
  },
  {
   "cell_type": "code",
   "execution_count": null,
   "metadata": {},
   "outputs": [],
   "source": [
    "parse_results.plot_all_models_datasets(df_1x, plot_fn=parse_results.make_plot_sweep(filt_size=20, top_k=6, legend=False), fig_size=(40,40))\n",
    "plt.tight_layout()"
   ]
  },
  {
   "cell_type": "code",
   "execution_count": null,
   "metadata": {},
   "outputs": [],
   "source": [
    "\n",
    "\n"
   ]
  },
  {
   "cell_type": "code",
   "execution_count": null,
   "metadata": {},
   "outputs": [],
   "source": [
    "count_df[count_df[\"model\"].str.contains(\"ssl_moco\")]"
   ]
  },
  {
   "cell_type": "code",
   "execution_count": null,
   "metadata": {},
   "outputs": [],
   "source": [
    "d = find_missing_runs(df, 10, \"segmentation\")"
   ]
  },
  {
   "cell_type": "code",
   "execution_count": null,
   "metadata": {},
   "outputs": [],
   "source": [
    "import json\n",
    "print(json.dumps(d, indent = 4))"
   ]
  },
  {
   "cell_type": "code",
   "execution_count": null,
   "metadata": {},
   "outputs": [],
   "source": [
    "from pathlib import Path\n",
    "df.to_csv(Path(classification_dir) / \"cached_results.csv\")"
   ]
  },
  {
   "cell_type": "code",
   "execution_count": null,
   "metadata": {},
   "outputs": [],
   "source": [
    "import numpy as np\n",
    "trace = pd.Series(np.linspace(0,1,1000))\n",
    "print(trace.mean())\n",
    "print(trace.rolling(5).sum().mean())\n",
    "print(trace.rolling(5).mean().mean())\n",
    "print(trace.rolling(5, win_type=\"gaussian\").mean(std=0.1).mean())\n",
    "print(trace.rolling(5, win_type=\"gaussian\").mean(std=0.5).mean())\n",
    "print(trace.rolling(5, win_type=\"gaussian\").mean(std=10).mean())\n",
    "\n"
   ]
  },
  {
   "cell_type": "code",
   "execution_count": null,
   "metadata": {},
   "outputs": [],
   "source": []
  }
 ],
 "metadata": {
  "kernelspec": {
   "display_name": "Python 3.9.0 ('ccbEnv': conda)",
   "language": "python",
   "name": "python3"
  },
  "language_info": {
   "codemirror_mode": {
    "name": "ipython",
    "version": 3
   },
   "file_extension": ".py",
   "mimetype": "text/x-python",
   "name": "python",
   "nbconvert_exporter": "python",
   "pygments_lexer": "ipython3",
   "version": "3.9.0"
  },
  "orig_nbformat": 4,
  "vscode": {
   "interpreter": {
    "hash": "50fb5aad75a1e334b0049d17a28c535a225b27a7c5ec5d2eea92f7c0e9e2da82"
   }
  }
 },
 "nbformat": 4,
 "nbformat_minor": 2
}
