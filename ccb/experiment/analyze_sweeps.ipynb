{
 "cells": [
  {
   "cell_type": "code",
   "execution_count": null,
   "metadata": {},
   "outputs": [],
   "source": [
    "import pandas as pd\n",
    "from matplotlib import pyplot as plt\n",
    "\n",
    "from ccb.experiment import parse_results\n",
    "from ccb.experiment.retrieve_runs import retrieve_runs\n",
    "\n",
    "%load_ext autoreload\n",
    "%autoreload 2"
   ]
  },
  {
   "cell_type": "markdown",
   "metadata": {},
   "source": [
    "# RGB Classification"
   ]
  },
  {
   "cell_type": "code",
   "execution_count": null,
   "metadata": {},
   "outputs": [],
   "source": [
    "# directory where all the sweeps experiments are logged\n",
    "classification_dir =  '/mnt/data/experiments/nils/last_classification_sweeps'\n",
    "classification_dir = '/mnt/data/experiments/nils/final_classification_seeded_runs'\n",
    "\n",
    "df = retrieve_runs(classification_dir, use_cached_csv=False, is_sweep=False)"
   ]
  },
  {
   "cell_type": "code",
   "execution_count": null,
   "metadata": {},
   "outputs": [],
   "source": [
    "# generate best hparam config from sweeps for seeded runs\n",
    "best_runs = parse_results.find_best_hparam_for_seeds(df)"
   ]
  },
  {
   "cell_type": "code",
   "execution_count": null,
   "metadata": {},
   "outputs": [],
   "source": [
    "\n",
    "df_1x = df[(df[\"partition_name\"] == \"1.00x_train\") | (df[\"partition_name\"] == \"default\")]\n",
    "\n",
    "best_points_df = parse_results.plot_all_models_datasets(df_1x, plot_fn=parse_results.make_plot_sweep(filt_size=10, top_k=6, legend=False), fig_size=(60,40))\n",
    "plt.tight_layout()\n"
   ]
  },
  {
   "cell_type": "code",
   "execution_count": null,
   "metadata": {},
   "outputs": [],
   "source": [
    "\n",
    "# plt.rcParams['figure.figsize'] = [40, 40]\n",
    "\n",
    "parse_results.plot_all_datasets(df_1x, model=\"vit_tiny_patch16_224\", plot_fn=parse_results.make_plot_sweep(filt_size=20, top_k=10, legend=True), fig_size=(20,20))\n",
    "# parse_results.plot_all_datasets(df_1x, model=\"resnet50\")\n",
    "\n",
    "plt.tight_layout()\n"
   ]
  },
  {
   "cell_type": "code",
   "execution_count": null,
   "metadata": {},
   "outputs": [],
   "source": [
    "parse_results.plot_all_models_datasets(df_1x, plot_fn=parse_results.make_plot_sweep(filt_size=20, top_k=6, legend=False), fig_size=(40,40))\n",
    "plt.tight_layout()"
   ]
  },
  {
   "cell_type": "markdown",
   "metadata": {},
   "source": [
    "# Beyond RGB Classification"
   ]
  },
  {
   "cell_type": "code",
   "execution_count": null,
   "metadata": {},
   "outputs": [],
   "source": [
    "# directory where all the sweeps experiments are logged\n",
    "beyond_classification_dir =  '/mnt/data/experiments/nils/beyond_rgb_classification_sweeps'\n",
    "beyond_classification_dir = '/mnt/data/experiments/nils/final_classification_beyond_rgb_seeded_runs'\n",
    "\n",
    "beyond_rgb_models_df = retrieve_runs(beyond_classification_dir, use_cached_csv=False, is_sweep=False)"
   ]
  },
  {
   "cell_type": "code",
   "execution_count": null,
   "metadata": {},
   "outputs": [],
   "source": [
    "best_points_df = parse_results.plot_all_models_datasets(beyond_rgb_models_df, plot_fn=parse_results.make_plot_sweep(filt_size=10, top_k=6, legend=False), fig_size=(40,40))\n",
    "plt.tight_layout()"
   ]
  },
  {
   "cell_type": "markdown",
   "metadata": {},
   "source": [
    "# RGB Segmentation"
   ]
  },
  {
   "cell_type": "code",
   "execution_count": null,
   "metadata": {},
   "outputs": [],
   "source": [
    "# directory where all the sweeps experiments are logged\n",
    "segmentation_dir =  '/mnt/data/experiments/nils/last_segmentation_sweeps'\n",
    "segmentation_dir = '/mnt/data/experiments/nils/final_segmentation_seeded_runs'\n",
    "df_seg = retrieve_runs(segmentation_dir, use_cached_csv=False, is_sweep=True)"
   ]
  },
  {
   "cell_type": "code",
   "execution_count": null,
   "metadata": {},
   "outputs": [],
   "source": [
    "\n",
    "df_1x_seg = df_seg[(df_seg[\"partition_name\"] == \"1.00x_train\") | (df_seg[\"partition_name\"] == \"default\")]\n",
    "\n",
    "best_points_df = parse_results.plot_all_models_datasets(df_1x_seg, plot_fn=parse_results.make_plot_sweep(filt_size=10, top_k=6, legend=False), fig_size=(40,40))\n",
    "plt.tight_layout()"
   ]
  },
  {
   "cell_type": "code",
   "execution_count": null,
   "metadata": {},
   "outputs": [],
   "source": [
    "parse_results.count_exp(df_seg)"
   ]
  },
  {
   "cell_type": "code",
   "execution_count": null,
   "metadata": {},
   "outputs": [],
   "source": []
  }
 ],
 "metadata": {
  "kernelspec": {
   "display_name": "Python 3.9.0 ('ccbEnv': conda)",
   "language": "python",
   "name": "python3"
  },
  "language_info": {
   "codemirror_mode": {
    "name": "ipython",
    "version": 3
   },
   "file_extension": ".py",
   "mimetype": "text/x-python",
   "name": "python",
   "nbconvert_exporter": "python",
   "pygments_lexer": "ipython3",
   "version": "3.9.0"
  },
  "orig_nbformat": 4,
  "vscode": {
   "interpreter": {
    "hash": "50fb5aad75a1e334b0049d17a28c535a225b27a7c5ec5d2eea92f7c0e9e2da82"
   }
  }
 },
 "nbformat": 4,
 "nbformat_minor": 2
}
