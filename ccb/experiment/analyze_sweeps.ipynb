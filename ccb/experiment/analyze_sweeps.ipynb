{
 "cells": [
  {
   "cell_type": "code",
   "execution_count": null,
   "metadata": {},
   "outputs": [],
   "source": [
    "import pandas as pd\n",
    "from matplotlib import pyplot as plt\n",
    "\n",
    "from ccb.experiment import parse_results\n",
    "from ccb.experiment.retrieve_runs import retrieve_runs, find_missing_runs\n",
    "\n",
    "%load_ext autoreload\n",
    "%autoreload 2"
   ]
  },
  {
   "cell_type": "markdown",
   "metadata": {},
   "source": [
    "## observations\n",
    "* val loss and val accuracy don't start at the same step. Why?\n",
    "* val accuracy can decrease over time (it doesn't always stay flat). Maybe it's a better indicator of the best hyper-parameter and the best time step.\n",
    "* Val accuracy is particularly noisy\n",
    "* many curves overfits right from the beginning and so2sat almost exclusively overfits\n",
    "* conv4 is often not converged\n"
   ]
  },
  {
   "cell_type": "code",
   "execution_count": null,
   "metadata": {},
   "outputs": [],
   "source": [
    "# directory where all the sweeps experiments are logged\n",
    "# classification_dir =  '/mnt/data/experiments/nils/new_classification_sweeps'\n",
    "# classification_dir = '/mnt/data/experiments/nils/final_classification_sweeps'\n",
    "classification_dir = '/mnt/data/experiments/nils/last_classification_sweeps'\n",
    "# classification_dir  = '/mnt/data/experiments/pau/aug_classification_sweeps'\n",
    "# segmentation_dir =  '/mnt/data/experiments/nils/new_segmentation_sweeps'\n",
    "\n",
    "df = retrieve_runs(classification_dir, use_cached_csv=False, exp_type=\"sweep\")\n",
    "\n",
    "df_1x = df[(df[\"partition_name\"] == \"1.00x_train\") | (df[\"partition_name\"] == \"default\")]"
   ]
  },
  {
   "cell_type": "code",
   "execution_count": null,
   "metadata": {},
   "outputs": [],
   "source": [
    "\n",
    "df_1x = df[(df[\"partition_name\"] == \"1.00x_train\") | (df[\"partition_name\"] == \"default\")]\n",
    "\n",
    "# df_05x = df[df[\"partition_name\"]==\"0.01x_train\"]\n",
    "parse_results.plot_all_models_datasets(df_1x, plot_fn=parse_results.make_plot_sweep(filt_size=10, top_k=6, legend=False), fig_size=(40,40))\n",
    "plt.tight_layout()\n"
   ]
  },
  {
   "cell_type": "code",
   "execution_count": null,
   "metadata": {},
   "outputs": [],
   "source": [
    "\n",
    "print(df.model.unique())\n",
    "parse_results.plot_all_datasets(df_1x, model=\"resnet18\", plot_fn=parse_results.make_plot_sweep(filt_size=5, top_k=6, legend=True), fig_size=(20,20))\n",
    "# parse_results.plot_all_datasets(df_1x, model=\"resnet50\")\n",
    "\n",
    "plt.tight_layout()\n"
   ]
  },
  {
   "cell_type": "code",
   "execution_count": null,
   "metadata": {},
   "outputs": [],
   "source": [
    "parse_results.plot_all_models_datasets(df_1x, plot_fn=parse_results.make_plot_sweep(filt_size=20, top_k=6, legend=False), fig_size=(40,40))\n",
    "plt.tight_layout()"
   ]
  },
  {
   "cell_type": "code",
   "execution_count": null,
   "metadata": {},
   "outputs": [],
   "source": [
    "\n",
    "segmentation_dir =  '/mnt/data/experiments/nils/new_segmentation_sweeps'\n",
    "\n",
    "df = retrieve_runs(segmentation_dir, use_cached_csv=False)\n",
    "\n",
    "df_1x = df[(df[\"partition_name\"] == \"1.00x_train\") | (df[\"partition_name\"] == \"default\")]"
   ]
  },
  {
   "cell_type": "code",
   "execution_count": null,
   "metadata": {},
   "outputs": [],
   "source": [
    "from torchgeo.datasets import SEN12MS"
   ]
  },
  {
   "cell_type": "code",
   "execution_count": null,
   "metadata": {},
   "outputs": [],
   "source": []
  }
 ],
 "metadata": {
  "kernelspec": {
   "display_name": "Python 3.9.7",
   "language": "python",
   "name": "python3"
  },
  "language_info": {
   "codemirror_mode": {
    "name": "ipython",
    "version": 3
   },
   "file_extension": ".py",
   "mimetype": "text/x-python",
   "name": "python",
   "nbconvert_exporter": "python",
   "pygments_lexer": "ipython3",
   "version": "3.9.7"
  },
  "orig_nbformat": 4,
  "vscode": {
   "interpreter": {
    "hash": "b19f5167aa29f0e7b4ca4f180cf0e2dd5cec97c6ddb063b7447cc55271593e0b"
   }
  }
 },
 "nbformat": 4,
 "nbformat_minor": 2
}
