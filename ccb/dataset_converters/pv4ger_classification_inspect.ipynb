{
 "cells": [
  {
   "cell_type": "markdown",
   "metadata": {},
   "source": [
    "# PV4GER Detection\n",
    "\n",
    "### Done\n",
    "- Convert images\n",
    "- Write Task Specifications\n",
    "- Write original partition"
   ]
  },
  {
   "cell_type": "code",
   "execution_count": null,
   "metadata": {},
   "outputs": [],
   "source": [
    "%load_ext autoreload\n",
    "%autoreload 2\n",
    "\n",
    "import sys\n",
    "sys.path.append(\"../..\") # TODO fix this hack (can't set the project directory in notebook for vscode)\n",
    "\n",
    "from ccb.dataset_converters import pv4ger as converter\n",
    "from ccb.dataset_converters import inspect_tools\n",
    "\n",
    "import ipyplot"
   ]
  },
  {
   "cell_type": "code",
   "execution_count": null,
   "metadata": {},
   "outputs": [],
   "source": [
    "dataset, samples, band_values, band_stats = inspect_tools.load_and_verify_samples(converter.CLS_DATASET_DIR, n_samples=500)"
   ]
  },
  {
   "cell_type": "code",
   "execution_count": null,
   "metadata": {},
   "outputs": [],
   "source": [
    "images, labels = inspect_tools.extract_images(samples)\n",
    "ipyplot.plot_class_tabs(images=images, labels=labels, img_width=256, max_imgs_per_tab=20)"
   ]
  },
  {
   "cell_type": "code",
   "execution_count": null,
   "metadata": {},
   "outputs": [],
   "source": [
    "inspect_tools.leaflet_map(samples)"
   ]
  }
 ],
 "metadata": {
  "interpreter": {
   "hash": "d87c1bf8388d772f1b09a29fc0dd799e4b018de5a5865882caffc0f580010cd3"
  },
  "kernelspec": {
   "display_name": "Python 3",
   "language": "python",
   "name": "python3"
  },
  "language_info": {
   "codemirror_mode": {
    "name": "ipython",
    "version": 3
   },
   "file_extension": ".py",
   "mimetype": "text/x-python",
   "name": "python",
   "nbconvert_exporter": "python",
   "pygments_lexer": "ipython3",
   "version": "3.9.7"
  }
 },
 "nbformat": 4,
 "nbformat_minor": 4
}
