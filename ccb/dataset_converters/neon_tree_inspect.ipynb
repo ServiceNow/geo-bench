{
 "cells": [
  {
   "cell_type": "markdown",
   "metadata": {},
   "source": [
    "# NeonTree\n",
    "\n",
    "### Done\n",
    "* Convert images\n",
    "* Georeferenced\n",
    "* Write Task Specifications\n",
    "\n",
    "### TODO\n",
    "* partition\n",
    "* decide if we should include images from zenodo as well\n",
    "\n",
    "### Questions to authors\n",
    "* why is the zenodo trainin set smaller than the evaluation set on github?\n",
    "* why are there 2 samples that have a truncated and inconsistent shape e.g. sample TALL_043_2019 shapes are: rgb = (3,400,392), chm = (1,40,1), hyperspectral=(426,40,39)\n",
    "* is spatial resolution 0.1m, 1m, 1m for rgb, chm, hs?"
   ]
  },
  {
   "cell_type": "code",
   "execution_count": null,
   "metadata": {},
   "outputs": [],
   "source": [
    "%load_ext autoreload\n",
    "%autoreload 2\n",
    "\n",
    "import sys\n",
    "sys.path.append(\"../..\") # TODO fix this hack (can't set the project directory in notebook for vscode)\n",
    "from ipywidgets import interact\n",
    "import ipywidgets as widgets\n",
    "\n",
    "from ccb.dataset_converters import neon_tree, inspect_tools\n",
    "import ipyplot\n"
   ]
  },
  {
   "cell_type": "code",
   "execution_count": null,
   "metadata": {},
   "outputs": [],
   "source": [
    "dataset, samples, band_values, band_stats = inspect_tools.load_and_veryify_samples(neon_tree.DATASET_DIR, n_samples=100)\n"
   ]
  },
  {
   "cell_type": "code",
   "execution_count": null,
   "metadata": {},
   "outputs": [],
   "source": [
    "images, labels = inspect_tools.extract_bands(samples, (('red', 'green', 'blue'), ('CHM',)))\n",
    "ipyplot.plot_class_tabs(images=images, labels=labels, img_width=128, max_imgs_per_tab=48)\n",
    "\n"
   ]
  },
  {
   "cell_type": "code",
   "execution_count": null,
   "metadata": {},
   "outputs": [],
   "source": [
    "f = inspect_tools.callback_hyperspectral_to_rgb(samples[:20], band_name=\"Neon\", img_width=128)\n",
    "interact(f, center=widgets.FloatSlider(min=0, max=426, step=1, value=10), width = widgets.FloatSlider(min=1, max=120, step=1, value=10));"
   ]
  },
  {
   "cell_type": "code",
   "execution_count": null,
   "metadata": {},
   "outputs": [],
   "source": [
    "inspect_tools.leaflet_map(samples)"
   ]
  },
  {
   "cell_type": "code",
   "execution_count": null,
   "metadata": {},
   "outputs": [],
   "source": []
  },
  {
   "cell_type": "code",
   "execution_count": null,
   "metadata": {},
   "outputs": [],
   "source": []
  }
 ],
 "metadata": {
  "interpreter": {
   "hash": "d87c1bf8388d772f1b09a29fc0dd799e4b018de5a5865882caffc0f580010cd3"
  },
  "kernelspec": {
   "display_name": "Python 3 (ipykernel)",
   "language": "python",
   "name": "python3"
  },
  "language_info": {
   "codemirror_mode": {
    "name": "ipython",
    "version": 3
   },
   "file_extension": ".py",
   "mimetype": "text/x-python",
   "name": "python",
   "nbconvert_exporter": "python",
   "pygments_lexer": "ipython3",
   "version": "3.8.5"
  }
 },
 "nbformat": 4,
 "nbformat_minor": 2
}
