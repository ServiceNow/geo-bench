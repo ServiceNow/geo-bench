{
 "cells": [
  {
   "cell_type": "code",
   "execution_count": null,
   "metadata": {},
   "outputs": [],
   "source": [
    "from ccb import io\n",
    "import pandas as pd\n",
    "%load_ext autoreload\n",
    "%autoreload 2"
   ]
  },
  {
   "cell_type": "code",
   "execution_count": null,
   "metadata": {},
   "outputs": [],
   "source": [
    "benchmark_name = \"converted\"\n",
    "\n",
    "\n",
    "data = []\n",
    "for task in io.task_iterator(benchmark_name):\n",
    "    loss = task.eval_loss\n",
    "    if isinstance(loss, type):\n",
    "        loss = loss()\n",
    "    task_dict = {\n",
    "        'name': task.dataset_name,\n",
    "        'img size': task.patch_size,\n",
    "        'loss': str(loss),\n",
    "        'label type': repr(task.label_type),\n",
    "    }\n",
    "    data.append(task_dict)\n",
    "\n",
    "\n",
    "df = pd.DataFrame.from_records(data)\n",
    "pd.set_option('max_colwidth', 400)\n",
    "\n",
    "\n",
    "df"
   ]
  },
  {
   "cell_type": "code",
   "execution_count": null,
   "metadata": {},
   "outputs": [],
   "source": []
  }
 ],
 "metadata": {
  "interpreter": {
   "hash": "b19f5167aa29f0e7b4ca4f180cf0e2dd5cec97c6ddb063b7447cc55271593e0b"
  },
  "kernelspec": {
   "display_name": "Python 3.9.7",
   "language": "python",
   "name": "python3"
  },
  "language_info": {
   "codemirror_mode": {
    "name": "ipython",
    "version": 3
   },
   "file_extension": ".py",
   "mimetype": "text/x-python",
   "name": "python",
   "nbconvert_exporter": "python",
   "pygments_lexer": "ipython3",
   "version": "3.9.7"
  },
  "orig_nbformat": 4
 },
 "nbformat": 4,
 "nbformat_minor": 2
}
