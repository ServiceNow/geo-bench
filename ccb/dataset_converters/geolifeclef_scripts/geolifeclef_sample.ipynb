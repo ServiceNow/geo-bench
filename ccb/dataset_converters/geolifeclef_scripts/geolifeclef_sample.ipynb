{
 "cells": [
  {
   "cell_type": "code",
   "execution_count": 1,
   "metadata": {},
   "outputs": [],
   "source": [
    "import pandas as pd"
   ]
  },
  {
   "cell_type": "markdown",
   "metadata": {},
   "source": [
    "## Merge country datasets together"
   ]
  },
  {
   "cell_type": "code",
   "execution_count": 6,
   "metadata": {},
   "outputs": [
    {
     "data": {
      "text/html": [
       "<div>\n",
       "<style scoped>\n",
       "    .dataframe tbody tr th:only-of-type {\n",
       "        vertical-align: middle;\n",
       "    }\n",
       "\n",
       "    .dataframe tbody tr th {\n",
       "        vertical-align: top;\n",
       "    }\n",
       "\n",
       "    .dataframe thead th {\n",
       "        text-align: right;\n",
       "    }\n",
       "</style>\n",
       "<table border=\"1\" class=\"dataframe\">\n",
       "  <thead>\n",
       "    <tr style=\"text-align: right;\">\n",
       "      <th></th>\n",
       "      <th>observation_id</th>\n",
       "      <th>latitude</th>\n",
       "      <th>longitude</th>\n",
       "      <th>species_id</th>\n",
       "      <th>subset</th>\n",
       "    </tr>\n",
       "  </thead>\n",
       "  <tbody>\n",
       "    <tr>\n",
       "      <th>0</th>\n",
       "      <td>20000173</td>\n",
       "      <td>33.197660</td>\n",
       "      <td>-116.180680</td>\n",
       "      <td>4911</td>\n",
       "      <td>train</td>\n",
       "    </tr>\n",
       "    <tr>\n",
       "      <th>1</th>\n",
       "      <td>20000175</td>\n",
       "      <td>34.037968</td>\n",
       "      <td>-118.876755</td>\n",
       "      <td>4912</td>\n",
       "      <td>train</td>\n",
       "    </tr>\n",
       "    <tr>\n",
       "      <th>2</th>\n",
       "      <td>20000176</td>\n",
       "      <td>27.620740</td>\n",
       "      <td>-97.222690</td>\n",
       "      <td>4913</td>\n",
       "      <td>train</td>\n",
       "    </tr>\n",
       "    <tr>\n",
       "      <th>3</th>\n",
       "      <td>20000177</td>\n",
       "      <td>29.155582</td>\n",
       "      <td>-95.653930</td>\n",
       "      <td>4914</td>\n",
       "      <td>train</td>\n",
       "    </tr>\n",
       "    <tr>\n",
       "      <th>4</th>\n",
       "      <td>20000179</td>\n",
       "      <td>36.605740</td>\n",
       "      <td>-121.959510</td>\n",
       "      <td>4915</td>\n",
       "      <td>train</td>\n",
       "    </tr>\n",
       "    <tr>\n",
       "      <th>...</th>\n",
       "      <td>...</td>\n",
       "      <td>...</td>\n",
       "      <td>...</td>\n",
       "      <td>...</td>\n",
       "      <td>...</td>\n",
       "    </tr>\n",
       "    <tr>\n",
       "      <th>671239</th>\n",
       "      <td>10543820</td>\n",
       "      <td>43.542500</td>\n",
       "      <td>4.967778</td>\n",
       "      <td>1041</td>\n",
       "      <td>train</td>\n",
       "    </tr>\n",
       "    <tr>\n",
       "      <th>671240</th>\n",
       "      <td>10304005</td>\n",
       "      <td>43.829823</td>\n",
       "      <td>4.450699</td>\n",
       "      <td>19</td>\n",
       "      <td>train</td>\n",
       "    </tr>\n",
       "    <tr>\n",
       "      <th>671241</th>\n",
       "      <td>10433186</td>\n",
       "      <td>43.329414</td>\n",
       "      <td>5.599397</td>\n",
       "      <td>906</td>\n",
       "      <td>train</td>\n",
       "    </tr>\n",
       "    <tr>\n",
       "      <th>671242</th>\n",
       "      <td>10352176</td>\n",
       "      <td>43.556637</td>\n",
       "      <td>7.016971</td>\n",
       "      <td>516</td>\n",
       "      <td>train</td>\n",
       "    </tr>\n",
       "    <tr>\n",
       "      <th>671243</th>\n",
       "      <td>10102027</td>\n",
       "      <td>43.080345</td>\n",
       "      <td>6.030236</td>\n",
       "      <td>170</td>\n",
       "      <td>train</td>\n",
       "    </tr>\n",
       "  </tbody>\n",
       "</table>\n",
       "<p>1627475 rows × 5 columns</p>\n",
       "</div>"
      ],
      "text/plain": [
       "        observation_id   latitude   longitude  species_id subset\n",
       "0             20000173  33.197660 -116.180680        4911  train\n",
       "1             20000175  34.037968 -118.876755        4912  train\n",
       "2             20000176  27.620740  -97.222690        4913  train\n",
       "3             20000177  29.155582  -95.653930        4914  train\n",
       "4             20000179  36.605740 -121.959510        4915  train\n",
       "...                ...        ...         ...         ...    ...\n",
       "671239        10543820  43.542500    4.967778        1041  train\n",
       "671240        10304005  43.829823    4.450699          19  train\n",
       "671241        10433186  43.329414    5.599397         906  train\n",
       "671242        10352176  43.556637    7.016971         516  train\n",
       "671243        10102027  43.080345    6.030236         170  train\n",
       "\n",
       "[1627475 rows x 5 columns]"
      ]
     },
     "execution_count": 6,
     "metadata": {},
     "output_type": "execute_result"
    }
   ],
   "source": [
    "df_us = pd.read_csv(f'/Volumes/Washington/data/source/geolifeclef-2022/data/observations/observations_us_train.csv', delimiter=\";\")\n",
    "df_fr = pd.read_csv(f'/Volumes/Washington/data/source/geolifeclef-2022/data/observations/observations_fr_train.csv', delimiter=\";\")\n",
    "df = df_us.append(df_fr)\n",
    "df"
   ]
  },
  {
   "cell_type": "markdown",
   "metadata": {},
   "source": [
    "## Do we have overlapping species in the two countries?"
   ]
  },
  {
   "cell_type": "code",
   "execution_count": 7,
   "metadata": {},
   "outputs": [
    {
     "data": {
      "text/plain": [
       "1956"
      ]
     },
     "execution_count": 7,
     "metadata": {},
     "output_type": "execute_result"
    }
   ],
   "source": [
    "len(set(df_us['species_id']) & set(df_fr['species_id']))"
   ]
  },
  {
   "cell_type": "markdown",
   "metadata": {},
   "source": [
    "## Calculate `n` most common species in train set"
   ]
  },
  {
   "cell_type": "code",
   "execution_count": 8,
   "metadata": {},
   "outputs": [
    {
     "data": {
      "text/plain": [
       "5045    6456\n",
       "3072    5805\n",
       "2902    4722\n",
       "5053    3934\n",
       "3034    3857\n",
       "        ... \n",
       "5247    1370\n",
       "418     1365\n",
       "139     1359\n",
       "2225    1359\n",
       "869     1358\n",
       "Name: species_id, Length: 100, dtype: int64"
      ]
     },
     "execution_count": 8,
     "metadata": {},
     "output_type": "execute_result"
    }
   ],
   "source": [
    "n = 100 # most common in train set\n",
    "df_train = df.loc[df['subset'] == 'train']\n",
    "species_counts = df_train['species_id'].value_counts()[:n]\n",
    "species_counts"
   ]
  },
  {
   "cell_type": "code",
   "execution_count": 9,
   "metadata": {},
   "outputs": [],
   "source": [
    "species = species_counts.keys()"
   ]
  },
  {
   "cell_type": "markdown",
   "metadata": {},
   "source": [
    "## Filter for species"
   ]
  },
  {
   "cell_type": "code",
   "execution_count": 10,
   "metadata": {},
   "outputs": [
    {
     "data": {
      "text/html": [
       "<div>\n",
       "<style scoped>\n",
       "    .dataframe tbody tr th:only-of-type {\n",
       "        vertical-align: middle;\n",
       "    }\n",
       "\n",
       "    .dataframe tbody tr th {\n",
       "        vertical-align: top;\n",
       "    }\n",
       "\n",
       "    .dataframe thead th {\n",
       "        text-align: right;\n",
       "    }\n",
       "</style>\n",
       "<table border=\"1\" class=\"dataframe\">\n",
       "  <thead>\n",
       "    <tr style=\"text-align: right;\">\n",
       "      <th></th>\n",
       "      <th>observation_id</th>\n",
       "      <th>latitude</th>\n",
       "      <th>longitude</th>\n",
       "      <th>species_id</th>\n",
       "      <th>subset</th>\n",
       "    </tr>\n",
       "  </thead>\n",
       "  <tbody>\n",
       "    <tr>\n",
       "      <th>6</th>\n",
       "      <td>20000182</td>\n",
       "      <td>43.889668</td>\n",
       "      <td>-73.009250</td>\n",
       "      <td>2950</td>\n",
       "      <td>train</td>\n",
       "    </tr>\n",
       "    <tr>\n",
       "      <th>8</th>\n",
       "      <td>20000185</td>\n",
       "      <td>31.935776</td>\n",
       "      <td>-108.941570</td>\n",
       "      <td>4918</td>\n",
       "      <td>train</td>\n",
       "    </tr>\n",
       "    <tr>\n",
       "      <th>22</th>\n",
       "      <td>20000204</td>\n",
       "      <td>30.416836</td>\n",
       "      <td>-98.045460</td>\n",
       "      <td>2524</td>\n",
       "      <td>train</td>\n",
       "    </tr>\n",
       "    <tr>\n",
       "      <th>28</th>\n",
       "      <td>20000211</td>\n",
       "      <td>33.789425</td>\n",
       "      <td>-84.373790</td>\n",
       "      <td>2992</td>\n",
       "      <td>train</td>\n",
       "    </tr>\n",
       "    <tr>\n",
       "      <th>29</th>\n",
       "      <td>20000212</td>\n",
       "      <td>46.867200</td>\n",
       "      <td>-96.449640</td>\n",
       "      <td>4936</td>\n",
       "      <td>train</td>\n",
       "    </tr>\n",
       "    <tr>\n",
       "      <th>...</th>\n",
       "      <td>...</td>\n",
       "      <td>...</td>\n",
       "      <td>...</td>\n",
       "      <td>...</td>\n",
       "      <td>...</td>\n",
       "    </tr>\n",
       "    <tr>\n",
       "      <th>671174</th>\n",
       "      <td>10612529</td>\n",
       "      <td>48.562592</td>\n",
       "      <td>3.013792</td>\n",
       "      <td>886</td>\n",
       "      <td>train</td>\n",
       "    </tr>\n",
       "    <tr>\n",
       "      <th>671184</th>\n",
       "      <td>10629793</td>\n",
       "      <td>44.970047</td>\n",
       "      <td>5.149254</td>\n",
       "      <td>185</td>\n",
       "      <td>train</td>\n",
       "    </tr>\n",
       "    <tr>\n",
       "      <th>671196</th>\n",
       "      <td>10721898</td>\n",
       "      <td>48.851585</td>\n",
       "      <td>2.363979</td>\n",
       "      <td>129</td>\n",
       "      <td>train</td>\n",
       "    </tr>\n",
       "    <tr>\n",
       "      <th>671202</th>\n",
       "      <td>10661298</td>\n",
       "      <td>43.370243</td>\n",
       "      <td>-1.781419</td>\n",
       "      <td>687</td>\n",
       "      <td>train</td>\n",
       "    </tr>\n",
       "    <tr>\n",
       "      <th>671239</th>\n",
       "      <td>10543820</td>\n",
       "      <td>43.542500</td>\n",
       "      <td>4.967778</td>\n",
       "      <td>1041</td>\n",
       "      <td>train</td>\n",
       "    </tr>\n",
       "  </tbody>\n",
       "</table>\n",
       "<p>223009 rows × 5 columns</p>\n",
       "</div>"
      ],
      "text/plain": [
       "        observation_id   latitude   longitude  species_id subset\n",
       "6             20000182  43.889668  -73.009250        2950  train\n",
       "8             20000185  31.935776 -108.941570        4918  train\n",
       "22            20000204  30.416836  -98.045460        2524  train\n",
       "28            20000211  33.789425  -84.373790        2992  train\n",
       "29            20000212  46.867200  -96.449640        4936  train\n",
       "...                ...        ...         ...         ...    ...\n",
       "671174        10612529  48.562592    3.013792         886  train\n",
       "671184        10629793  44.970047    5.149254         185  train\n",
       "671196        10721898  48.851585    2.363979         129  train\n",
       "671202        10661298  43.370243   -1.781419         687  train\n",
       "671239        10543820  43.542500    4.967778        1041  train\n",
       "\n",
       "[223009 rows x 5 columns]"
      ]
     },
     "execution_count": 10,
     "metadata": {},
     "output_type": "execute_result"
    }
   ],
   "source": [
    "df.loc[df['species_id'].isin(species)]"
   ]
  },
  {
   "cell_type": "markdown",
   "metadata": {},
   "source": [
    "## Check if all species are represented in val subset"
   ]
  },
  {
   "cell_type": "code",
   "execution_count": 11,
   "metadata": {},
   "outputs": [
    {
     "data": {
      "text/plain": [
       "5045    6456\n",
       "3072    5805\n",
       "2902    4722\n",
       "5053    3934\n",
       "3034    3857\n",
       "        ... \n",
       "5247    1370\n",
       "418     1365\n",
       "2225    1359\n",
       "139     1359\n",
       "869     1358\n",
       "Name: species_id, Length: 100, dtype: int64"
      ]
     },
     "execution_count": 11,
     "metadata": {},
     "output_type": "execute_result"
    }
   ],
   "source": [
    "df.loc[(df['species_id'].isin(species)) & (df['subset'] == 'train')]['species_id'].value_counts()"
   ]
  },
  {
   "cell_type": "code",
   "execution_count": 12,
   "metadata": {},
   "outputs": [
    {
     "data": {
      "text/plain": [
       "5045    245\n",
       "720     142\n",
       "5612    129\n",
       "3072    129\n",
       "2902    124\n",
       "       ... \n",
       "5189     23\n",
       "340      21\n",
       "5855     19\n",
       "4991     16\n",
       "5200     16\n",
       "Name: species_id, Length: 100, dtype: int64"
      ]
     },
     "execution_count": 12,
     "metadata": {},
     "output_type": "execute_result"
    }
   ],
   "source": [
    "df.loc[(df['species_id'].isin(species)) & (df['subset'] == 'val')]['species_id'].value_counts()"
   ]
  },
  {
   "cell_type": "markdown",
   "metadata": {},
   "source": [
    "## Subsample 10% from training dataset"
   ]
  },
  {
   "cell_type": "code",
   "execution_count": 13,
   "metadata": {},
   "outputs": [],
   "source": [
    "df_train_species = df.loc[(df['species_id'].isin(species)) & (df['subset'] == 'train')]"
   ]
  },
  {
   "cell_type": "code",
   "execution_count": 14,
   "metadata": {},
   "outputs": [
    {
     "data": {
      "text/html": [
       "<div>\n",
       "<style scoped>\n",
       "    .dataframe tbody tr th:only-of-type {\n",
       "        vertical-align: middle;\n",
       "    }\n",
       "\n",
       "    .dataframe tbody tr th {\n",
       "        vertical-align: top;\n",
       "    }\n",
       "\n",
       "    .dataframe thead th {\n",
       "        text-align: right;\n",
       "    }\n",
       "</style>\n",
       "<table border=\"1\" class=\"dataframe\">\n",
       "  <thead>\n",
       "    <tr style=\"text-align: right;\">\n",
       "      <th></th>\n",
       "      <th>observation_id</th>\n",
       "      <th>latitude</th>\n",
       "      <th>longitude</th>\n",
       "      <th>species_id</th>\n",
       "      <th>subset</th>\n",
       "    </tr>\n",
       "  </thead>\n",
       "  <tbody>\n",
       "    <tr>\n",
       "      <th>38767</th>\n",
       "      <td>20083678</td>\n",
       "      <td>42.447910</td>\n",
       "      <td>-71.268210</td>\n",
       "      <td>5359</td>\n",
       "      <td>train</td>\n",
       "    </tr>\n",
       "    <tr>\n",
       "      <th>742982</th>\n",
       "      <td>21605199</td>\n",
       "      <td>39.492954</td>\n",
       "      <td>-88.176710</td>\n",
       "      <td>553</td>\n",
       "      <td>train</td>\n",
       "    </tr>\n",
       "    <tr>\n",
       "      <th>591000</th>\n",
       "      <td>21276352</td>\n",
       "      <td>40.899520</td>\n",
       "      <td>-73.894010</td>\n",
       "      <td>720</td>\n",
       "      <td>train</td>\n",
       "    </tr>\n",
       "    <tr>\n",
       "      <th>128676</th>\n",
       "      <td>10421962</td>\n",
       "      <td>47.487385</td>\n",
       "      <td>-0.561821</td>\n",
       "      <td>389</td>\n",
       "      <td>train</td>\n",
       "    </tr>\n",
       "    <tr>\n",
       "      <th>69315</th>\n",
       "      <td>10710717</td>\n",
       "      <td>43.235447</td>\n",
       "      <td>1.352631</td>\n",
       "      <td>33</td>\n",
       "      <td>train</td>\n",
       "    </tr>\n",
       "    <tr>\n",
       "      <th>...</th>\n",
       "      <td>...</td>\n",
       "      <td>...</td>\n",
       "      <td>...</td>\n",
       "      <td>...</td>\n",
       "      <td>...</td>\n",
       "    </tr>\n",
       "    <tr>\n",
       "      <th>526496</th>\n",
       "      <td>21136957</td>\n",
       "      <td>44.065010</td>\n",
       "      <td>-121.310050</td>\n",
       "      <td>5095</td>\n",
       "      <td>train</td>\n",
       "    </tr>\n",
       "    <tr>\n",
       "      <th>77972</th>\n",
       "      <td>20168673</td>\n",
       "      <td>38.720116</td>\n",
       "      <td>-77.799034</td>\n",
       "      <td>816</td>\n",
       "      <td>train</td>\n",
       "    </tr>\n",
       "    <tr>\n",
       "      <th>656664</th>\n",
       "      <td>21418525</td>\n",
       "      <td>34.128128</td>\n",
       "      <td>-118.212230</td>\n",
       "      <td>5045</td>\n",
       "      <td>train</td>\n",
       "    </tr>\n",
       "    <tr>\n",
       "      <th>809667</th>\n",
       "      <td>21750275</td>\n",
       "      <td>37.887920</td>\n",
       "      <td>-122.139885</td>\n",
       "      <td>5143</td>\n",
       "      <td>train</td>\n",
       "    </tr>\n",
       "    <tr>\n",
       "      <th>18951</th>\n",
       "      <td>20041275</td>\n",
       "      <td>37.945930</td>\n",
       "      <td>-122.133960</td>\n",
       "      <td>2902</td>\n",
       "      <td>train</td>\n",
       "    </tr>\n",
       "  </tbody>\n",
       "</table>\n",
       "<p>21730 rows × 5 columns</p>\n",
       "</div>"
      ],
      "text/plain": [
       "        observation_id   latitude   longitude  species_id subset\n",
       "38767         20083678  42.447910  -71.268210        5359  train\n",
       "742982        21605199  39.492954  -88.176710         553  train\n",
       "591000        21276352  40.899520  -73.894010         720  train\n",
       "128676        10421962  47.487385   -0.561821         389  train\n",
       "69315         10710717  43.235447    1.352631          33  train\n",
       "...                ...        ...         ...         ...    ...\n",
       "526496        21136957  44.065010 -121.310050        5095  train\n",
       "77972         20168673  38.720116  -77.799034         816  train\n",
       "656664        21418525  34.128128 -118.212230        5045  train\n",
       "809667        21750275  37.887920 -122.139885        5143  train\n",
       "18951         20041275  37.945930 -122.133960        2902  train\n",
       "\n",
       "[21730 rows x 5 columns]"
      ]
     },
     "execution_count": 14,
     "metadata": {},
     "output_type": "execute_result"
    }
   ],
   "source": [
    "df_train_sample = df_train_species.sample(frac=0.1, random_state=1)\n",
    "df_train_sample"
   ]
  },
  {
   "cell_type": "code",
   "execution_count": 15,
   "metadata": {},
   "outputs": [
    {
     "data": {
      "text/plain": [
       "5045    640\n",
       "3072    594\n",
       "2902    466\n",
       "5053    390\n",
       "3495    384\n",
       "       ... \n",
       "5020    133\n",
       "418     132\n",
       "4936    132\n",
       "5247    116\n",
       "869     114\n",
       "Name: species_id, Length: 100, dtype: int64"
      ]
     },
     "execution_count": 15,
     "metadata": {},
     "output_type": "execute_result"
    }
   ],
   "source": [
    "df_train_sample['species_id'].value_counts()"
   ]
  },
  {
   "cell_type": "markdown",
   "metadata": {},
   "source": [
    "## Create new dataset and change label enumeration"
   ]
  },
  {
   "cell_type": "code",
   "execution_count": 35,
   "metadata": {},
   "outputs": [],
   "source": [
    "df_val_species = df.loc[(df['species_id'].isin(species)) & (df['subset'] == 'val')]"
   ]
  },
  {
   "cell_type": "code",
   "execution_count": 36,
   "metadata": {},
   "outputs": [
    {
     "data": {
      "text/html": [
       "<div>\n",
       "<style scoped>\n",
       "    .dataframe tbody tr th:only-of-type {\n",
       "        vertical-align: middle;\n",
       "    }\n",
       "\n",
       "    .dataframe tbody tr th {\n",
       "        vertical-align: top;\n",
       "    }\n",
       "\n",
       "    .dataframe thead th {\n",
       "        text-align: right;\n",
       "    }\n",
       "</style>\n",
       "<table border=\"1\" class=\"dataframe\">\n",
       "  <thead>\n",
       "    <tr style=\"text-align: right;\">\n",
       "      <th></th>\n",
       "      <th>observation_id</th>\n",
       "      <th>latitude</th>\n",
       "      <th>longitude</th>\n",
       "      <th>species_id</th>\n",
       "      <th>subset</th>\n",
       "    </tr>\n",
       "  </thead>\n",
       "  <tbody>\n",
       "    <tr>\n",
       "      <th>38767</th>\n",
       "      <td>20083678</td>\n",
       "      <td>42.447910</td>\n",
       "      <td>-71.268210</td>\n",
       "      <td>5359</td>\n",
       "      <td>train</td>\n",
       "    </tr>\n",
       "    <tr>\n",
       "      <th>742982</th>\n",
       "      <td>21605199</td>\n",
       "      <td>39.492954</td>\n",
       "      <td>-88.176710</td>\n",
       "      <td>553</td>\n",
       "      <td>train</td>\n",
       "    </tr>\n",
       "    <tr>\n",
       "      <th>591000</th>\n",
       "      <td>21276352</td>\n",
       "      <td>40.899520</td>\n",
       "      <td>-73.894010</td>\n",
       "      <td>720</td>\n",
       "      <td>train</td>\n",
       "    </tr>\n",
       "    <tr>\n",
       "      <th>128676</th>\n",
       "      <td>10421962</td>\n",
       "      <td>47.487385</td>\n",
       "      <td>-0.561821</td>\n",
       "      <td>389</td>\n",
       "      <td>train</td>\n",
       "    </tr>\n",
       "    <tr>\n",
       "      <th>69315</th>\n",
       "      <td>10710717</td>\n",
       "      <td>43.235447</td>\n",
       "      <td>1.352631</td>\n",
       "      <td>33</td>\n",
       "      <td>train</td>\n",
       "    </tr>\n",
       "    <tr>\n",
       "      <th>...</th>\n",
       "      <td>...</td>\n",
       "      <td>...</td>\n",
       "      <td>...</td>\n",
       "      <td>...</td>\n",
       "      <td>...</td>\n",
       "    </tr>\n",
       "    <tr>\n",
       "      <th>669034</th>\n",
       "      <td>10519854</td>\n",
       "      <td>43.582371</td>\n",
       "      <td>-1.410010</td>\n",
       "      <td>389</td>\n",
       "      <td>val</td>\n",
       "    </tr>\n",
       "    <tr>\n",
       "      <th>669254</th>\n",
       "      <td>10127916</td>\n",
       "      <td>43.457775</td>\n",
       "      <td>5.882048</td>\n",
       "      <td>246</td>\n",
       "      <td>val</td>\n",
       "    </tr>\n",
       "    <tr>\n",
       "      <th>670006</th>\n",
       "      <td>10426388</td>\n",
       "      <td>44.108685</td>\n",
       "      <td>0.583843</td>\n",
       "      <td>33</td>\n",
       "      <td>val</td>\n",
       "    </tr>\n",
       "    <tr>\n",
       "      <th>670034</th>\n",
       "      <td>10543033</td>\n",
       "      <td>43.142288</td>\n",
       "      <td>6.230122</td>\n",
       "      <td>139</td>\n",
       "      <td>val</td>\n",
       "    </tr>\n",
       "    <tr>\n",
       "      <th>670128</th>\n",
       "      <td>10054818</td>\n",
       "      <td>45.074314</td>\n",
       "      <td>4.875839</td>\n",
       "      <td>5</td>\n",
       "      <td>val</td>\n",
       "    </tr>\n",
       "  </tbody>\n",
       "</table>\n",
       "<p>27438 rows × 5 columns</p>\n",
       "</div>"
      ],
      "text/plain": [
       "        observation_id   latitude  longitude  species_id subset\n",
       "38767         20083678  42.447910 -71.268210        5359  train\n",
       "742982        21605199  39.492954 -88.176710         553  train\n",
       "591000        21276352  40.899520 -73.894010         720  train\n",
       "128676        10421962  47.487385  -0.561821         389  train\n",
       "69315         10710717  43.235447   1.352631          33  train\n",
       "...                ...        ...        ...         ...    ...\n",
       "669034        10519854  43.582371  -1.410010         389    val\n",
       "669254        10127916  43.457775   5.882048         246    val\n",
       "670006        10426388  44.108685   0.583843          33    val\n",
       "670034        10543033  43.142288   6.230122         139    val\n",
       "670128        10054818  45.074314   4.875839           5    val\n",
       "\n",
       "[27438 rows x 5 columns]"
      ]
     },
     "execution_count": 36,
     "metadata": {},
     "output_type": "execute_result"
    }
   ],
   "source": [
    "df_new = df_train_sample.append(df_val_species)\n",
    "df_new"
   ]
  },
  {
   "cell_type": "code",
   "execution_count": 37,
   "metadata": {},
   "outputs": [],
   "source": [
    "df_new.to_csv(f'observations_sample_original_labels.csv', index=False, sep=\";\")"
   ]
  },
  {
   "cell_type": "code",
   "execution_count": 38,
   "metadata": {},
   "outputs": [],
   "source": [
    "lookup = sorted(list(set(df_new['species_id'])))\n",
    "def return_index(a):\n",
    "    return lookup.index(a)"
   ]
  },
  {
   "cell_type": "code",
   "execution_count": 39,
   "metadata": {},
   "outputs": [],
   "source": [
    "df_new['species_id'] = df_new['species_id'].map(return_index)"
   ]
  },
  {
   "cell_type": "code",
   "execution_count": 40,
   "metadata": {},
   "outputs": [],
   "source": [
    "df_new.to_csv(f'observations_sample.csv', index=False, sep=\";\")"
   ]
  },
  {
   "cell_type": "code",
   "execution_count": null,
   "metadata": {},
   "outputs": [],
   "source": []
  }
 ],
 "metadata": {
  "kernelspec": {
   "display_name": "Python 3",
   "language": "python",
   "name": "python3"
  },
  "language_info": {
   "codemirror_mode": {
    "name": "ipython",
    "version": 3
   },
   "file_extension": ".py",
   "mimetype": "text/x-python",
   "name": "python",
   "nbconvert_exporter": "python",
   "pygments_lexer": "ipython3",
   "version": "3.7.6"
  }
 },
 "nbformat": 4,
 "nbformat_minor": 5
}
