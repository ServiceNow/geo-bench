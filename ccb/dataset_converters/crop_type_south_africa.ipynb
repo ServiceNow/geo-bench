{
 "cells": [
  {
   "cell_type": "markdown",
   "metadata": {},
   "source": [
    "South Africa Crop Type"
   ]
  },
  {
   "cell_type": "markdown",
   "metadata": {},
   "source": []
  },
  {
   "cell_type": "code",
   "execution_count": 5,
   "metadata": {},
   "outputs": [
    {
     "name": "stdout",
     "output_type": "stream",
     "text": [
      "The autoreload extension is already loaded. To reload it, use:\n",
      "  %reload_ext autoreload\n"
     ]
    }
   ],
   "source": [
    "%load_ext autoreload\n",
    "%autoreload 2\n",
    "\n",
    "import sys\n",
    "sys.path.append(\"../..\") # TODO fix this hack (can't set the project directory in notebook for vscode)\n",
    "\n",
    "from ccb.dataset_converters import crop_type_south_africa as converter, inspect_tools\n",
    "import ipyplot\n",
    "import numpy as np"
   ]
  },
  {
   "cell_type": "code",
   "execution_count": 9,
   "metadata": {},
   "outputs": [
    {
     "name": "stderr",
     "output_type": "stream",
     "text": [
      "Loading Samples: 100%|██████████| 100/100 [00:22<00:00,  4.48it/s]\n",
      "/mnt/home/climate-change-benchmark/ccb/io/dataset.py:1043: UserWarning: valid of nopartition is empty.\n",
      "  \n",
      "/mnt/home/climate-change-benchmark/ccb/io/dataset.py:1043: UserWarning: test of nopartition is empty.\n",
      "  \n",
      "/mnt/home/climate-change-benchmark/ccb/io/dataset.py:1043: UserWarning: valid of default is empty.\n",
      "  \n",
      "/mnt/home/climate-change-benchmark/ccb/io/dataset.py:1043: UserWarning: test of default is empty.\n",
      "  \n",
      "/mnt/home/climate-change-benchmark/ccb/io/dataset.py:63: UserWarning: band.data is expected to be int16, but has type float32\n",
      "  warn(f\"band.data is expected to be int16, but has type {band.data.dtype}\")\n",
      "/mnt/home/climate-change-benchmark/ccb/io/dataset.py:63: UserWarning: band.data is expected to be int16, but has type uint8\n",
      "  warn(f\"band.data is expected to be int16, but has type {band.data.dtype}\")\n"
     ]
    },
    {
     "name": "stdout",
     "output_type": "stream",
     "text": [
      "check integrity of nopartition\n",
      "check integrity of default\n",
      "> \u001b[0;32m/mnt/home/climate-change-benchmark/ccb/io/dataset.py\u001b[0m(1032)\u001b[0;36mcheck_dataset_integrity\u001b[0;34m()\u001b[0m\n",
      "\u001b[0;32m   1030 \u001b[0;31m        \u001b[0;31m# assert np.all(max_shape == task_specs.patch_size), f\"{max_shape} vs {task_specs.patch_size}\"\u001b[0m\u001b[0;34m\u001b[0m\u001b[0;34m\u001b[0m\u001b[0;34m\u001b[0m\u001b[0m\n",
      "\u001b[0m\u001b[0;32m   1031 \u001b[0;31m\u001b[0;34m\u001b[0m\u001b[0m\n",
      "\u001b[0m\u001b[0;32m-> 1032 \u001b[0;31m        \u001b[0;32massert\u001b[0m \u001b[0misinstance\u001b[0m\u001b[0;34m(\u001b[0m\u001b[0mtask_specs\u001b[0m\u001b[0;34m.\u001b[0m\u001b[0mlabel_type\u001b[0m\u001b[0;34m,\u001b[0m \u001b[0mLabelType\u001b[0m\u001b[0;34m)\u001b[0m\u001b[0;34m\u001b[0m\u001b[0;34m\u001b[0m\u001b[0m\n",
      "\u001b[0m\u001b[0;32m   1033 \u001b[0;31m        \u001b[0;31m# task_specs.label_type.assert_valid(sample.label)\u001b[0m\u001b[0;34m\u001b[0m\u001b[0;34m\u001b[0m\u001b[0;34m\u001b[0m\u001b[0m\n",
      "\u001b[0m\u001b[0;32m   1034 \u001b[0;31m\u001b[0;34m\u001b[0m\u001b[0m\n",
      "\u001b[0m\n",
      "(2,)\n",
      "*** AttributeError: 'list' object has no attribute 'shape'\n",
      "39\n",
      "[(270, 270), (270, 270), (270, 270), (270, 270), (270, 270), (270, 270), (270, 270), (270, 270), (270, 270), (270, 270), (270, 270), (270, 270), (270, 270), (270, 270), (270, 270), (270, 270), (270, 270), (270, 270), (270, 270), (270, 270), (270, 270), (270, 270), (270, 270), (270, 270), (270, 270), (270, 270), (270, 270), (270, 270), (270, 270), (270, 270), (270, 270), (270, 270), (270, 270), (270, 270), (270, 270), (270, 270), (270, 270), (270, 270), (270, 270)]\n",
      "*** NameError: name 'Escape' is not defined\n",
      "*** NameError: name 'Escape' is not defined\n",
      "*** NameError: name 'Escape' is not defined\n",
      "*** NameError: name 'Escape' is not defined\n",
      "*** NameError: name 'Escape' is not defined\n",
      "*** NameError: name 'Escape' is not defined\n",
      "*** NameError: name 'Escape' is not defined\n",
      "--KeyboardInterrupt--\n",
      "\n",
      "KeyboardInterrupt: Interrupted by user\n"
     ]
    },
    {
     "name": "stderr",
     "output_type": "stream",
     "text": [
      "Extracting Statistics: 100%|██████████| 100/100 [00:03<00:00, 28.40it/s]\n",
      "Plotting statistics: 100%|██████████| 14/14 [00:00<00:00, 15.00it/s]\n"
     ]
    }
   ],
   "source": [
    "dataset, samples, band_values, band_stats = inspect_tools.load_and_veryify_samples(converter.PARTITION_DIR, n_samples=100, n_hist_bins=100)\n",
    "\n",
    "label_count = np.bincount(band_values[\"label\"])\n",
    "print(\"labels per class\", label_count)"
   ]
  },
  {
   "cell_type": "code",
   "execution_count": 8,
   "metadata": {},
   "outputs": [
    {
     "name": "stderr",
     "output_type": "stream",
     "text": [
      "/mnt/home/climate-change-benchmark/ccb/dataset_converters/inspect_tools.py:53: VisibleDeprecationWarning: Creating an ndarray from ragged nested sequences (which is a list-or-tuple of lists-or-tuples-or ndarrays with different lengths or shapes) is deprecated. If you meant to do this, you must specify 'dtype=object' when creating the ndarray.\n",
      "  images = np.asarray(images)\n"
     ]
    },
    {
     "ename": "ValueError",
     "evalue": "setting an array element with a sequence.",
     "output_type": "error",
     "traceback": [
      "\u001b[0;31m---------------------------------------------------------------------------\u001b[0m",
      "\u001b[0;31mTypeError\u001b[0m                                 Traceback (most recent call last)",
      "\u001b[0;31mTypeError\u001b[0m: only size-1 arrays can be converted to Python scalars",
      "\nThe above exception was the direct cause of the following exception:\n",
      "\u001b[0;31mValueError\u001b[0m                                Traceback (most recent call last)",
      "\u001b[1;32m/mnt/home/climate-change-benchmark/ccb/dataset_converters/crop_type_south_africa.ipynb Cell 5'\u001b[0m in \u001b[0;36m<cell line: 1>\u001b[0;34m()\u001b[0m\n\u001b[0;32m----> <a href='vscode-notebook-cell://ssh-remote%2Blocalhost/mnt/home/climate-change-benchmark/ccb/dataset_converters/crop_type_south_africa.ipynb#ch0000004vscode-remote?line=0'>1</a>\u001b[0m images, _ \u001b[39m=\u001b[39m inspect_tools\u001b[39m.\u001b[39;49mextract_images(samples)\n\u001b[1;32m      <a href='vscode-notebook-cell://ssh-remote%2Blocalhost/mnt/home/climate-change-benchmark/ccb/dataset_converters/crop_type_south_africa.ipynb#ch0000004vscode-remote?line=1'>2</a>\u001b[0m ipyplot\u001b[39m.\u001b[39mplot_images(images\u001b[39m=\u001b[39mimages, img_width\u001b[39m=\u001b[39m\u001b[39m256\u001b[39m, max_images\u001b[39m=\u001b[39m\u001b[39m50\u001b[39m)\n",
      "File \u001b[0;32m~/climate-change-benchmark/ccb/dataset_converters/inspect_tools.py:88\u001b[0m, in \u001b[0;36mextract_images\u001b[0;34m(samples, band_names, percentile_max, resample, fill_value)\u001b[0m\n\u001b[1;32m     <a href='file:///mnt/home/climate-change-benchmark/ccb/dataset_converters/inspect_tools.py?line=84'>85</a>\u001b[0m     images\u001b[39m.\u001b[39mappend(img_data)\n\u001b[1;32m     <a href='file:///mnt/home/climate-change-benchmark/ccb/dataset_converters/inspect_tools.py?line=85'>86</a>\u001b[0m     labels\u001b[39m.\u001b[39mappend(sample\u001b[39m.\u001b[39mlabel)\n\u001b[0;32m---> <a href='file:///mnt/home/climate-change-benchmark/ccb/dataset_converters/inspect_tools.py?line=87'>88</a>\u001b[0m images \u001b[39m=\u001b[39m float_image_to_uint8(images, percentile_max)\n\u001b[1;32m     <a href='file:///mnt/home/climate-change-benchmark/ccb/dataset_converters/inspect_tools.py?line=88'>89</a>\u001b[0m \u001b[39mreturn\u001b[39;00m images, labels\n",
      "File \u001b[0;32m~/climate-change-benchmark/ccb/dataset_converters/inspect_tools.py:57\u001b[0m, in \u001b[0;36mfloat_image_to_uint8\u001b[0;34m(images, percentile_max, ensure_3_channels, per_channel_scaling)\u001b[0m\n\u001b[1;32m     <a href='file:///mnt/home/climate-change-benchmark/ccb/dataset_converters/inspect_tools.py?line=53'>54</a>\u001b[0m \u001b[39mif\u001b[39;00m images\u001b[39m.\u001b[39mdtype \u001b[39m==\u001b[39m np\u001b[39m.\u001b[39muint8:\n\u001b[1;32m     <a href='file:///mnt/home/climate-change-benchmark/ccb/dataset_converters/inspect_tools.py?line=54'>55</a>\u001b[0m     \u001b[39mreturn\u001b[39;00m images\n\u001b[0;32m---> <a href='file:///mnt/home/climate-change-benchmark/ccb/dataset_converters/inspect_tools.py?line=56'>57</a>\u001b[0m images \u001b[39m=\u001b[39m images\u001b[39m.\u001b[39;49mastype(np\u001b[39m.\u001b[39;49mfloat64)\n\u001b[1;32m     <a href='file:///mnt/home/climate-change-benchmark/ccb/dataset_converters/inspect_tools.py?line=58'>59</a>\u001b[0m \u001b[39mif\u001b[39;00m per_channel_scaling:\n\u001b[1;32m     <a href='file:///mnt/home/climate-change-benchmark/ccb/dataset_converters/inspect_tools.py?line=59'>60</a>\u001b[0m     mx \u001b[39m=\u001b[39m np\u001b[39m.\u001b[39mpercentile(images, q\u001b[39m=\u001b[39mpercentile_max, axis\u001b[39m=\u001b[39m(\u001b[39m0\u001b[39m, \u001b[39m1\u001b[39m, \u001b[39m2\u001b[39m), keepdims\u001b[39m=\u001b[39m\u001b[39mTrue\u001b[39;00m)\n",
      "\u001b[0;31mValueError\u001b[0m: setting an array element with a sequence."
     ]
    }
   ],
   "source": [
    "\n",
    "\n",
    "images, _ = inspect_tools.extract_images(samples)\n",
    "ipyplot.plot_images(images=images, img_width=256, max_images=50)\n",
    "\n"
   ]
  },
  {
   "cell_type": "code",
   "execution_count": null,
   "metadata": {},
   "outputs": [],
   "source": [
    "images, labels = inspect_tools.extract_bands(samples)\n",
    "ipyplot.plot_class_tabs(images=images, labels=labels, img_width=256, max_imgs_per_tab=50)"
   ]
  }
 ],
 "metadata": {
  "interpreter": {
   "hash": "a9371df1efde39f147373e3b9d1d2a908405ccdf833064ae1347abfc833e0a4f"
  },
  "kernelspec": {
   "display_name": "Python 3.8.13 (conda)",
   "language": "python",
   "name": "python3"
  },
  "language_info": {
   "codemirror_mode": {
    "name": "ipython",
    "version": 3
   },
   "file_extension": ".py",
   "mimetype": "text/x-python",
   "name": "python",
   "nbconvert_exporter": "python",
   "pygments_lexer": "ipython3",
   "version": "3.8.13"
  },
  "orig_nbformat": 4
 },
 "nbformat": 4,
 "nbformat_minor": 2
}
