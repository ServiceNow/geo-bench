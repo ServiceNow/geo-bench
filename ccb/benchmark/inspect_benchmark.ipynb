{
 "cells": [
  {
   "cell_type": "code",
   "execution_count": null,
   "metadata": {},
   "outputs": [],
   "source": [
    "from ccb import io\n",
    "from ccb.dataset_converters import inspect_tools\n",
    "import numpy as np\n",
    "from matplotlib import pyplot as plt\n",
    "plt.rcParams['figure.figsize'] = [10, 6]\n",
    "\n",
    "%load_ext autoreload\n",
    "%autoreload 2"
   ]
  },
  {
   "cell_type": "markdown",
   "metadata": {},
   "source": [
    "# Classification benchmark"
   ]
  },
  {
   "cell_type": "code",
   "execution_count": null,
   "metadata": {
    "scrolled": true
   },
   "outputs": [],
   "source": [
    "inspect_tools.benchmark_data_frame(\"classification_v0.5\")"
   ]
  },
  {
   "cell_type": "markdown",
   "metadata": {},
   "source": [
    "# Segmentation Benchmark"
   ]
  },
  {
   "cell_type": "code",
   "execution_count": null,
   "metadata": {},
   "outputs": [],
   "source": [
    "inspect_tools.benchmark_data_frame(\"segmentation_v0.2\")"
   ]
  },
  {
   "cell_type": "markdown",
   "metadata": {},
   "source": [
    "# Classification Samples"
   ]
  },
  {
   "cell_type": "code",
   "execution_count": null,
   "metadata": {
    "scrolled": false
   },
   "outputs": [],
   "source": [
    "inspect_tools.ipyplot_benchmark(benchmark_name = \"classification_v0.5\", n_samples=8, img_width=200)"
   ]
  },
  {
   "cell_type": "markdown",
   "metadata": {},
   "source": [
    "# Segmentation Samples"
   ]
  },
  {
   "cell_type": "code",
   "execution_count": null,
   "metadata": {
    "scrolled": false
   },
   "outputs": [],
   "source": [
    "inspect_tools.ipyplot_benchmark(benchmark_name = \"segmentation_v0.2\", n_samples=4)"
   ]
  },
  {
   "cell_type": "code",
   "execution_count": null,
   "metadata": {
    "scrolled": false
   },
   "outputs": [],
   "source": [
    "# generate images for the paper\n",
    "plt.rcParams['figure.figsize'] = [6, 6]\n",
    "inspect_tools.plot_benchmark(benchmark_name = \"classification_v0.5\", n_samples=2)"
   ]
  },
  {
   "cell_type": "markdown",
   "metadata": {},
   "source": [
    "# All converted datasets"
   ]
  },
  {
   "cell_type": "code",
   "execution_count": null,
   "metadata": {
    "scrolled": true
   },
   "outputs": [],
   "source": [
    "inspect_tools.benchmark_data_frame(\"converted\")"
   ]
  },
  {
   "cell_type": "code",
   "execution_count": null,
   "metadata": {},
   "outputs": [],
   "source": [
    "# Not relevant, was just doing a quick test on something else\n",
    "\n",
    "import cv2 as cv\n",
    "\n",
    "def vidwrite(fn, images, framerate=60, vcodec='libx264'):\n",
    "    if not isinstance(images, np.ndarray):\n",
    "        images = np.asarray(images)\n",
    "    n,height,width,channels = images.shape\n",
    "    process = (\n",
    "        ffmpeg\n",
    "            .input('pipe:', format='rawvideo', pix_fmt='rgb24', s='{}x{}'.format(width, height))\n",
    "            .output(fn, pix_fmt='yuv420p', vcodec=vcodec, r=framerate)\n",
    "            .overwrite_output()\n",
    "            .run_async(pipe_stdin=True)\n",
    "    )\n",
    "    for frame in images:\n",
    "        process.stdin.write(\n",
    "            frame\n",
    "                .astype(np.uint8)\n",
    "                .tobytes()\n",
    "        )\n",
    "    process.stdin.close()\n",
    "    process.wait()\n",
    "    "
   ]
  },
  {
   "cell_type": "code",
   "execution_count": null,
   "metadata": {},
   "outputs": [],
   "source": []
  }
 ],
 "metadata": {
  "kernelspec": {
   "display_name": "ccb",
   "language": "python",
   "name": "ccb"
  },
  "language_info": {
   "codemirror_mode": {
    "name": "ipython",
    "version": 3
   },
   "file_extension": ".py",
   "mimetype": "text/x-python",
   "name": "python",
   "nbconvert_exporter": "python",
   "pygments_lexer": "ipython3",
   "version": "3.9.7"
  },
  "vscode": {
   "interpreter": {
    "hash": "b19f5167aa29f0e7b4ca4f180cf0e2dd5cec97c6ddb063b7447cc55271593e0b"
   }
  }
 },
 "nbformat": 4,
 "nbformat_minor": 2
}
