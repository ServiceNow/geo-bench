{
 "cells": [
  {
   "cell_type": "code",
   "execution_count": null,
   "metadata": {},
   "outputs": [],
   "source": [
    "from ccb import io\n",
    "import pandas as pd\n",
    "from ccb.dataset_converters import inspect_tools\n",
    "from ccb.io.dataset import SpectralBand\n",
    "%load_ext autoreload\n",
    "%autoreload 2"
   ]
  },
  {
   "cell_type": "code",
   "execution_count": null,
   "metadata": {},
   "outputs": [],
   "source": [
    "benchmark_name = \"converted\"\n",
    "\n",
    "data = []\n",
    "for task in io.task_iterator(benchmark_name):\n",
    "    if task.dataset_name == \"bigearthnet\": continue\n",
    "    loss = task.eval_loss\n",
    "    if isinstance(loss, type):\n",
    "        loss = loss()\n",
    "\n",
    "    print(task.dataset_name)\n",
    "\n",
    "    try:\n",
    "        dataset = task.get_dataset('train')\n",
    "        n_train = len(dataset)\n",
    "    except Exception as e:\n",
    "        print(e)\n",
    "        n_train = -1\n",
    "    \n",
    "    print(\"  n_train: \", n_train)\n",
    "    n_classes = getattr(task.label_type, \"n_classes\", -1)\n",
    "\n",
    "    task_dict = {\n",
    "        'name': task.dataset_name,\n",
    "        'img size': ' x '.join([ str(size) for size in task.patch_size]),\n",
    "        'loss': str(loss),\n",
    "        'label type': task.label_type.__class__.__name__,\n",
    "        'n classes': int(n_classes),\n",
    "        'n time steps': task.n_time_steps,\n",
    "        'n train' : n_train,\n",
    "    }\n",
    "    data.append(task_dict)\n",
    "    \n",
    "    if task.dataset_name == \"NeonTree\":\n",
    "        NeonTree = task\n",
    "\n",
    "    task_dict.update(inspect_tools.summarize_band_info(task.bands_info))\n",
    "\n",
    "column_order = (\"name\", \"img size\", \"label type\", 'n classes', 'n train', 'n time steps', \"Bands count\", \"Sentinel2 count\", \"RGB res\", \"NIR res\", \"HS res\", \"Elevation res\")\n",
    "df = pd.DataFrame.from_records(data, index=\"name\", columns=column_order)\n",
    "pd.set_option('max_colwidth', 300)\n",
    "\n",
    "df"
   ]
  }
 ],
 "metadata": {
  "interpreter": {
   "hash": "b19f5167aa29f0e7b4ca4f180cf0e2dd5cec97c6ddb063b7447cc55271593e0b"
  },
  "kernelspec": {
   "display_name": "Python 3.9.7",
   "language": "python",
   "name": "python3"
  },
  "language_info": {
   "codemirror_mode": {
    "name": "ipython",
    "version": 3
   },
   "file_extension": ".py",
   "mimetype": "text/x-python",
   "name": "python",
   "nbconvert_exporter": "python",
   "pygments_lexer": "ipython3",
   "version": "3.9.7"
  },
  "orig_nbformat": 4
 },
 "nbformat": 4,
 "nbformat_minor": 2
}
