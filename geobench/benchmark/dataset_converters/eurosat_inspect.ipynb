{
 "cells": [
  {
   "cell_type": "markdown",
   "metadata": {},
   "source": [
    "# Eurosat\n",
    "\n",
    "### Done\n",
    "* Convert images\n",
    "* Write Task Specifications\n",
    "\n",
    "### TODO\n",
    "* Find a way to get GPS coordinates\n",
    "* Write original partition\n"
   ]
  },
  {
   "cell_type": "code",
   "execution_count": null,
   "metadata": {},
   "outputs": [],
   "source": [
    "%load_ext autoreload\n",
    "%autoreload 2\n",
    "\n",
    "import sys\n",
    "sys.path.append(\"../..\") # TODO fix this hack (can't set the project directory in notebook for vscode)\n",
    "\n",
    "from geobench.benchmark.dataset_converters import eurosat as converter, inspect_tools\n",
    "import ipyplot"
   ]
  },
  {
   "cell_type": "code",
   "execution_count": null,
   "metadata": {},
   "outputs": [],
   "source": [
    "dataset, samples, band_values, band_stats = inspect_tools.load_and_veryify_samples(converter.DATASET_DIR, n_samples=200, n_hist_bins=100)\n"
   ]
  },
  {
   "cell_type": "code",
   "execution_count": null,
   "metadata": {},
   "outputs": [],
   "source": [
    "images, labels = inspect_tools.extract_images(samples)\n",
    "ipyplot.plot_class_tabs(images=images, labels=labels, max_imgs_per_tab=48, img_width=128)"
   ]
  },
  {
   "cell_type": "code",
   "execution_count": null,
   "metadata": {},
   "outputs": [],
   "source": [
    "images, labels = inspect_tools.extract_bands(samples)\n",
    "ipyplot.plot_class_tabs(images=images, labels=labels, img_width=64, max_imgs_per_tab=50)\n",
    "\n"
   ]
  },
  {
   "cell_type": "code",
   "execution_count": null,
   "metadata": {},
   "outputs": [],
   "source": [
    "# TODO need to obtain georeference for propoer result.\n",
    "inspect_tools.leaflet_map(samples)\n"
   ]
  }
 ],
 "metadata": {
  "kernelspec": {
   "display_name": "Python 3",
   "language": "python",
   "name": "python3"
  },
  "language_info": {
   "codemirror_mode": {
    "name": "ipython",
    "version": 3
   },
   "file_extension": ".py",
   "mimetype": "text/x-python",
   "name": "python",
   "nbconvert_exporter": "python",
   "pygments_lexer": "ipython3",
   "version": "3.9.7 (default, Sep 16 2021, 13:09:58) \n[GCC 7.5.0]"
  },
  "vscode": {
   "interpreter": {
    "hash": "b19f5167aa29f0e7b4ca4f180cf0e2dd5cec97c6ddb063b7447cc55271593e0b"
   }
  }
 },
 "nbformat": 4,
 "nbformat_minor": 2
}
