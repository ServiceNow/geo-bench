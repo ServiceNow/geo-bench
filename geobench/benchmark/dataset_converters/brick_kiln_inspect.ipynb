{
 "cells": [
  {
   "cell_type": "markdown",
   "metadata": {},
   "source": [
    "# Brick Kiln v1.0\n",
    "\n",
    "### Done\n",
    "* Convert images\n",
    "* Georeferenced\n",
    "* Write original partition\n",
    "* Write Task Specifications\n",
    "\n",
    "### TODO\n",
    "* Address questions to authors\n",
    "\n",
    "### Questions to authors\n",
    "* what are indices in the csv file\n",
    "* how is the train valid test partition selected?\n",
    "* why are there blocks of shape 0?\n",
    "* confirm that the crs is EPSG:4326"
   ]
  },
  {
   "cell_type": "code",
   "execution_count": null,
   "metadata": {},
   "outputs": [],
   "source": [
    "%load_ext autoreload\n",
    "%autoreload 2\n",
    "\n",
    "import sys\n",
    "sys.path.append(\"../..\") # TODO fix this hack (can't set the project directory in notebook for vscode)\n",
    "\n",
    "from geobench.benchmark.dataset_converters import brick_kiln as converter, inspect_tools\n",
    "import ipyplot\n"
   ]
  },
  {
   "cell_type": "code",
   "execution_count": null,
   "metadata": {},
   "outputs": [],
   "source": [
    "dataset, samples, band_values, band_stats = inspect_tools.load_and_veryify_samples(converter.DATASET_DIR, n_samples=100)\n"
   ]
  },
  {
   "cell_type": "code",
   "execution_count": null,
   "metadata": {},
   "outputs": [],
   "source": [
    "images, labels = inspect_tools.extract_images(samples)\n",
    "ipyplot.plot_class_tabs(images=images, labels=labels, img_width=64, max_imgs_per_tab=48)"
   ]
  },
  {
   "cell_type": "code",
   "execution_count": null,
   "metadata": {},
   "outputs": [],
   "source": [
    "images, labels = inspect_tools.extract_bands(samples)\n",
    "ipyplot.plot_class_tabs(images=images, labels=labels, img_width=64, max_imgs_per_tab=48)\n",
    "\n"
   ]
  },
  {
   "cell_type": "code",
   "execution_count": null,
   "metadata": {},
   "outputs": [],
   "source": [
    "inspect_tools.leaflet_map(samples)"
   ]
  }
 ],
 "metadata": {
  "interpreter": {
   "hash": "b19f5167aa29f0e7b4ca4f180cf0e2dd5cec97c6ddb063b7447cc55271593e0b"
  },
  "kernelspec": {
   "display_name": "Python 3.9.7",
   "language": "python",
   "name": "python3"
  },
  "language_info": {
   "codemirror_mode": {
    "name": "ipython",
    "version": 3
   },
   "file_extension": ".py",
   "mimetype": "text/x-python",
   "name": "python",
   "nbconvert_exporter": "python",
   "pygments_lexer": "ipython3",
   "version": "3.9.7 (default, Sep 16 2021, 13:09:58) \n[GCC 7.5.0]"
  }
 },
 "nbformat": 4,
 "nbformat_minor": 2
}
