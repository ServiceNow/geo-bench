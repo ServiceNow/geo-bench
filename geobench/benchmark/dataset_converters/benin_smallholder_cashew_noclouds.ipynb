{
 "cells": [
  {
   "cell_type": "markdown",
   "id": "d7782e37",
   "metadata": {},
   "source": [
    "# Identify Cloud-Free Timesteps\n",
    "Cashews has 72 samples with 70 samples. Of those, many have clouds. In this notebook we identify the 25 clearest days."
   ]
  },
  {
   "cell_type": "code",
   "execution_count": null,
   "id": "3f513513",
   "metadata": {},
   "outputs": [],
   "source": [
    "from torchgeo.datasets import BeninSmallHolderCashews\n",
    "from geobench import io\n",
    "cashew = BeninSmallHolderCashews(root=io.src_datasets_dir, download=False, checksum=True)\n",
    "import matplotlib.pyplot as plt\n",
    "from matplotlib.pyplot import figure\n",
    "figsize = (15, 15)"
   ]
  },
  {
   "cell_type": "code",
   "execution_count": null,
   "id": "ce100c35",
   "metadata": {
    "scrolled": false
   },
   "outputs": [],
   "source": [
    "# Plot some examples\n",
    "x = cashew[0]['image']\n",
    "\n",
    "plt.figure(figsize=figsize, dpi=80)\n",
    "\n",
    "for t in range(3):\n",
    "    plt.subplot(1,3,t+1)    # the number of images in the grid is 5*5 (25)\n",
    "    plt.imshow(x[t][2]) # plot green channel\n",
    "    plt.axis('off')\n",
    "    \n",
    "    \n",
    "plt.figure(figsize=figsize, dpi=80)\n",
    "\n",
    "for t in range(3):\n",
    "    plt.subplot(1,3,t+1)    # the number of images in the grid is 5*5 (25)\n",
    "    plt.imshow(x[t][-1]) # plot cloud coverage\n",
    "    plt.axis('off')"
   ]
  },
  {
   "cell_type": "code",
   "execution_count": null,
   "id": "c6ba0002",
   "metadata": {},
   "outputs": [],
   "source": [
    "# Cloud distribution\n",
    "import numpy as np\n",
    "def get_cloud(x):\n",
    "    return x[:,-1].mean(-1).mean(-1)\n",
    "\n",
    "clouds = []\n",
    "for i, sample in enumerate(cashew):\n",
    "    cloud = get_cloud(sample['image'])\n",
    "    clouds.append(np.asarray(cloud))\n",
    "    #if i>10:\n",
    "    #    break\n",
    "\n",
    "total_clouds = np.mean(clouds, 0)\n",
    "plt.bar(range(70), total_clouds)\n",
    "plt.bar(range(70), sorted(total_clouds))\n",
    "N = 25\n",
    "threshold = sorted(total_clouds)[N]\n",
    "noclouds_25 = [t for t, r in enumerate(total_clouds) if r<threshold]\n",
    "print('Clearest 25 days', noclouds_25)\n"
   ]
  },
  {
   "cell_type": "code",
   "execution_count": null,
   "id": "fa632eeb",
   "metadata": {},
   "outputs": [],
   "source": [
    "# Try out\n",
    "plt.figure(figsize=(15,15))\n",
    "for t in range(25):\n",
    "    T = noclouds_25[t]\n",
    "    plt.subplot(5,5,t+1)    # the number of images in the grid is 5*5 (25)\n",
    "    plt.imshow((x[T][1:4]/x[T][1:4].max()).permute(1,2,0)) # plot green\n",
    "    plt.axis('off')"
   ]
  }
 ],
 "metadata": {
  "kernelspec": {
   "display_name": "Python 3 (ipykernel)",
   "language": "python",
   "name": "python3"
  },
  "language_info": {
   "codemirror_mode": {
    "name": "ipython",
    "version": 3
   },
   "file_extension": ".py",
   "mimetype": "text/x-python",
   "name": "python",
   "nbconvert_exporter": "python",
   "pygments_lexer": "ipython3",
   "version": "3.9.12"
  }
 },
 "nbformat": 4,
 "nbformat_minor": 5
}
