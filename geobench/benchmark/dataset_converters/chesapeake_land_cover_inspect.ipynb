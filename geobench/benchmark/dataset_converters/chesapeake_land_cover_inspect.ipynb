{
 "cells": [
  {
   "cell_type": "markdown",
   "id": "d0d8e000",
   "metadata": {},
   "source": [
    "# Chesapeake Land Cover\n",
    "\n",
    "### Done\n",
    "* Convert images\n",
    "* Write original partition\n",
    "* Write Task Specifications\n",
    "\n",
    "### TODO\n",
    "* Find a way to get GPS coordinates\n",
    "* Resolve bug in torchgeo for test data patches?"
   ]
  },
  {
   "cell_type": "code",
   "execution_count": null,
   "id": "839b5762",
   "metadata": {},
   "outputs": [],
   "source": [
    "%load_ext autoreload\n",
    "%autoreload 2\n",
    "\n",
    "import sys\n",
    "sys.path.append(\"../..\") # TODO fix this hack (can't set the project directory in notebook for vscode)\n",
    "sys.path.append('..')\n",
    "\n",
    "from geobench.benchmark.dataset_converters import chesapeake_land_cover as converter, inspect_tools\n",
    "import ipyplot\n",
    "import numpy as np\n",
    "from geobench import io"
   ]
  },
  {
   "cell_type": "code",
   "execution_count": null,
   "id": "b188e547",
   "metadata": {},
   "outputs": [],
   "source": [
    "dataset_dir = io.CCB_DIR / \"segmentation_v0.2\" / \"cvpr_chesapeake_landcover\"\n",
    "# dataset_dir = converter.DATASET_DIR\n",
    "print(dataset_dir)\n",
    "dataset, samples, band_values, band_stats = inspect_tools.load_and_verify_samples(\n",
    "    dataset_dir, n_samples=100, n_hist_bins=100, split=\"test\")\n",
    "\n",
    "label_count = np.bincount(band_values[\"label\"])\n",
    "print(\"labels per class\", label_count)\n"
   ]
  },
  {
   "cell_type": "code",
   "execution_count": null,
   "id": "e6d1d51b",
   "metadata": {},
   "outputs": [],
   "source": [
    "for i, sample in enumerate(samples):\n",
    "    if sample.label.data.shape == (512,512):\n",
    "        print(f\"Reshaping sample {i}, {sample.sample_name}.\")\n",
    "        sample.label.data = sample.label.data[:256,:256]\n",
    "        \n",
    "images, labels = inspect_tools.extract_bands(samples)\n",
    "ipyplot.plot_class_tabs(images=images, labels=labels, img_width=128, max_imgs_per_tab=20)"
   ]
  },
  {
   "cell_type": "code",
   "execution_count": null,
   "id": "195fb653",
   "metadata": {},
   "outputs": [],
   "source": [
    "images, _ = inspect_tools.extract_images(samples)\n",
    "ipyplot.plot_images(images=images, img_width=128, max_images=20)"
   ]
  }
 ],
 "metadata": {
  "interpreter": {
   "hash": "b19f5167aa29f0e7b4ca4f180cf0e2dd5cec97c6ddb063b7447cc55271593e0b"
  },
  "kernelspec": {
   "display_name": "ccb",
   "language": "python",
   "name": "python3"
  },
  "language_info": {
   "codemirror_mode": {
    "name": "ipython",
    "version": 3
   },
   "file_extension": ".py",
   "mimetype": "text/x-python",
   "name": "python",
   "nbconvert_exporter": "python",
   "pygments_lexer": "ipython3",
   "version": "3.9.7"
  }
 },
 "nbformat": 4,
 "nbformat_minor": 5
}
