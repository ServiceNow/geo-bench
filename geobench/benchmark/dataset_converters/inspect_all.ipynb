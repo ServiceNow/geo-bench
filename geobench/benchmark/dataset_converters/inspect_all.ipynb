{
 "cells": [
  {
   "cell_type": "code",
   "execution_count": null,
   "metadata": {},
   "outputs": [],
   "source": [
    "from geobench import io\n",
    "import pandas as pd\n",
    "from geobench.dataset_converters import inspect_tools\n",
    "from geobench import io\n",
    "from tqdm import tqdm\n",
    "import numpy as np\n",
    "from geobench.dataset_converters import inspect_tools\n",
    "from matplotlib import pyplot as plt\n",
    "plt.rcParams['figure.figsize'] = [10, 6]\n",
    "from pathlib import Path\n",
    "\n",
    "%load_ext autoreload\n",
    "%autoreload 2"
   ]
  },
  {
   "cell_type": "code",
   "execution_count": null,
   "metadata": {},
   "outputs": [],
   "source": [
    "\n",
    "def collect_task_info(task):\n",
    "    loss = task.eval_loss\n",
    "    if isinstance(loss, type):\n",
    "        loss = loss()\n",
    "    try:\n",
    "        dataset = task.get_dataset(split='train')\n",
    "        partition = dataset.active_partition.partition_dict\n",
    "        n_train = len(partition[\"train\"])\n",
    "        n_valid = len(partition[\"valid\"])\n",
    "        n_test = len(partition[\"test\"])\n",
    "    except Exception as e:\n",
    "        print(e)\n",
    "        n_train, n_valid, n_test = -1, -1, -1\n",
    "    \n",
    "    n_classes = getattr(task.label_type, \"n_classes\", -1)\n",
    "\n",
    "    task_dict = {\n",
    "        'name': task.dataset_name,\n",
    "        'img size': ' x '.join([ str(size) for size in task.patch_size]),\n",
    "        'loss': str(loss),\n",
    "        'label type': task.label_type.__class__.__name__,\n",
    "        'n classes': int(n_classes),\n",
    "        'n time steps': task.n_time_steps,\n",
    "        'n train' : n_train,\n",
    "        'n valid' : n_valid,\n",
    "        'n test' : n_test,\n",
    "    }\n",
    "    task_dict.update(inspect_tools.summarize_band_info(task.bands_info))\n",
    "    return task_dict, dataset\n",
    "\n",
    "def collect_benchmark_info(benchmark_name):\n",
    "\n",
    "    data = []\n",
    "    for task in io.task_iterator(io.CCB_DIR / benchmark_name):\n",
    "        print(task.dataset_name)\n",
    "\n",
    "        task_dict, _ = collect_task_info(task)\n",
    "        data.append(task_dict)\n",
    "    return data\n",
    "\n"
   ]
  },
  {
   "cell_type": "code",
   "execution_count": null,
   "metadata": {},
   "outputs": [],
   "source": [
    "def extract_classification_samples(dataset: io.GeobenchDataset, num_samples=8, rng=np.random):\n",
    "    label_map = dataset.task_specs.get_label_map()\n",
    "    n_classes = len(label_map)\n",
    "    n_per_class = np.ceil(num_samples / n_classes)\n",
    "    samples = []\n",
    "    for label, names in label_map.items():\n",
    "        for sample_name in rng.choice(names, size=int(n_per_class), replace=False):\n",
    "            samples.append(dataset.get_sample(sample_name))\n",
    "    return samples[:num_samples]\n",
    "\n",
    "def plot_images(images, names):\n",
    "    fig, axs = plt.subplots(1,len(images))\n",
    "    for image, name, ax in zip(images, names, axs):\n",
    "        ax.imshow(image)\n",
    "        ax.axis(\"off\")\n",
    "        ax.set_title(name)\n",
    "\n",
    "def replace_str(name):\n",
    "    replace_dict = {\n",
    "        \"Land principally occupied by agriculture, with significant areas of natural vegetation\": \"Ag. and vegetation\",\n",
    "        \"Non-irrigated arable land\": \"Non-irrigated land\",\n",
    "        \"Complex cultivation patterns\": \"Cultivation patterns\",\n",
    "        \"Fruit trees and berry plantations\": \"Fruit trees and berry\"}\n",
    "    for key, val in replace_dict.items():\n",
    "        name = name.replace(key, val)\n",
    "    return name\n",
    "\n",
    "\n",
    "n_samples = 4\n",
    "for task in io.task_iterator(io.CCB_DIR / \"classification_v0.5\"):\n",
    "    task_info, _ = collect_task_info(task)\n",
    "\n",
    "    print(f\"Task: {task.dataset_name}\")\n",
    "    print(f\"sizes: train={task_info['n train']}.\")\n",
    "    print(f\"RGB Shape: {task_info['img size']} \")\n",
    "\n",
    "    dataset = task.get_dataset(split=\"train\")\n",
    "    \n",
    "    if not isinstance(task.label_type, io.label.MultiLabelClassification):\n",
    "        samples = extract_classification_samples(dataset, n_samples)\n",
    "    else:\n",
    "        samples = [dataset[i] for i in range(n_samples)]\n",
    "\n",
    "    images, labels = inspect_tools.extract_images(samples)\n",
    "    \n",
    "    label_names = [ replace_str(task.label_type.value_to_str(label)) for label in labels]\n",
    "\n",
    "    plot_images(images, label_names)\n",
    "    plt.subplots_adjust(left=0, right=1, top=1, bottom=0)\n",
    "\n",
    "    dir = Path(\"~/paper\").expanduser()\n",
    "    plt.savefig(dir / f\"{task.dataset_name}.pdf\", bbox_inches='tight')\n",
    "\n",
    "\n"
   ]
  },
  {
   "cell_type": "code",
   "execution_count": null,
   "metadata": {},
   "outputs": [],
   "source": [
    "\n",
    "# task_dicts = collect_benchmark_info(\"converted\")\n",
    "# column_order = (\"name\", \"img size\", \"label type\", 'n classes', 'n train', 'n valid', 'n test', 'n time steps', \"Bands count\", \"Sentinel2 count\", \"RGB res\", \"NIR res\", \"HS res\", \"Elevation res\")\n",
    "# df = pd.DataFrame.from_records(task_dicts, index=\"name\", columns=column_order)\n",
    "# pd.set_option('max_colwidth', 300)\n",
    "\n",
    "# df"
   ]
  },
  {
   "cell_type": "code",
   "execution_count": null,
   "metadata": {},
   "outputs": [],
   "source": [
    "task_dicts = collect_benchmark_info(\"segmentation_v0.2\")\n",
    "column_order = (\"name\", \"img size\", \"label type\", 'n classes', 'n train', 'n valid', 'n test', 'n time steps', \"Bands count\", \"Sentinel2 count\", \"RGB res\", \"NIR res\", \"HS res\", \"Elevation res\")\n",
    "df = pd.DataFrame.from_records(task_dicts, index=\"name\", columns=column_order)\n",
    "pd.set_option('max_colwidth', 300)\n",
    "df"
   ]
  },
  {
   "cell_type": "code",
   "execution_count": null,
   "metadata": {},
   "outputs": [],
   "source": [
    "task_dicts = collect_benchmark_info(\"classification_v0.5\")\n",
    "column_order = (\"name\", \"img size\", \"label type\", 'n classes', 'n train', 'n valid', 'n test', 'n time steps', \"Bands count\", \"Sentinel2 count\", \"RGB res\", \"NIR res\", \"HS res\", \"Elevation res\")\n",
    "df = pd.DataFrame.from_records(task_dicts, index=\"name\", columns=column_order)\n",
    "pd.set_option('max_colwidth', 300)\n",
    "df"
   ]
  },
  {
   "cell_type": "code",
   "execution_count": null,
   "metadata": {},
   "outputs": [],
   "source": [
    "task_dicts = collect_benchmark_info(\"converted\")\n",
    "column_order = (\"name\", \"img size\", \"label type\", 'n classes', 'n train', 'n valid', 'n test', 'n time steps', \"Bands count\", \"Sentinel2 count\", \"RGB res\", \"NIR res\", \"HS res\", \"Elevation res\")\n",
    "df = pd.DataFrame.from_records(task_dicts, index=\"name\", columns=column_order)\n",
    "pd.set_option('max_colwidth', 300)\n",
    "df"
   ]
  },
  {
   "cell_type": "code",
   "execution_count": null,
   "metadata": {},
   "outputs": [],
   "source": []
  }
 ],
 "metadata": {
  "interpreter": {
   "hash": "b19f5167aa29f0e7b4ca4f180cf0e2dd5cec97c6ddb063b7447cc55271593e0b"
  },
  "kernelspec": {
   "display_name": "Python 3.9.7",
   "language": "python",
   "name": "python3"
  },
  "language_info": {
   "codemirror_mode": {
    "name": "ipython",
    "version": 3
   },
   "file_extension": ".py",
   "mimetype": "text/x-python",
   "name": "python",
   "nbconvert_exporter": "python",
   "pygments_lexer": "ipython3",
   "version": "3.9.7"
  },
  "orig_nbformat": 4
 },
 "nbformat": 4,
 "nbformat_minor": 2
}
