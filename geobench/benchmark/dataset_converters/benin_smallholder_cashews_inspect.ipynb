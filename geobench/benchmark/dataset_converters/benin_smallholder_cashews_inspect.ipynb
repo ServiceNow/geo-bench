{
 "cells": [
  {
   "cell_type": "markdown",
   "metadata": {},
   "source": [
    "# Benin Smallholder Cashews GeobenchDataset\n",
    "\n",
    "### Done\n",
    "- Convert images\n",
    "- Write Task Specifications\n",
    "\n",
    "### TODO\n",
    "* Find a way to get GPS coordinates\n",
    "* Write original partition\n"
   ]
  },
  {
   "cell_type": "code",
   "execution_count": null,
   "metadata": {},
   "outputs": [],
   "source": [
    "%load_ext autoreload\n",
    "%autoreload 2\n",
    "\n",
    "import sys\n",
    "sys.path.append(\"../..\") # TODO fix this hack (can't set the project directory in notebook for vscode)\n",
    "\n",
    "from geobench.dataset_converters import benin_smallholder_cashews as converter, inspect_tools\n",
    "import ipyplot\n",
    "import numpy as np"
   ]
  },
  {
   "cell_type": "code",
   "execution_count": null,
   "metadata": {},
   "outputs": [],
   "source": [
    "converter.DATASET_DIR='/mnt/data/cc_benchmark/converted/smallholder_cashew'"
   ]
  },
  {
   "cell_type": "code",
   "execution_count": null,
   "metadata": {},
   "outputs": [],
   "source": [
    "dataset, samples, band_values, band_stats = inspect_tools.load_and_verify_samples(converter.DATASET_DIR, n_samples=20, n_hist_bins=100)\n",
    "\n",
    "label_count = np.bincount(band_values[\"label\"])\n",
    "print(\"labels per class\", label_count)\n",
    "\n",
    "print('Labels {}'.format(converter.LABELS))"
   ]
  },
  {
   "cell_type": "code",
   "execution_count": null,
   "metadata": {},
   "outputs": [],
   "source": [
    "images, _ = inspect_tools.extract_images(samples)\n",
    "ipyplot.plot_images(images=images, img_width=128, max_images=50)"
   ]
  },
  {
   "cell_type": "code",
   "execution_count": null,
   "metadata": {},
   "outputs": [],
   "source": [
    "images, labels = inspect_tools.extract_bands(samples)\n",
    "ipyplot.plot_class_tabs(images=images, labels=labels, img_width=128, max_imgs_per_tab=50)\n",
    "\n"
   ]
  },
  {
   "cell_type": "code",
   "execution_count": null,
   "metadata": {},
   "outputs": [],
   "source": [
    "# TODO need to obtain georeference for propoer result.\n",
    "inspect_tools.leaflet_map(samples)\n"
   ]
  },
  {
   "cell_type": "code",
   "execution_count": null,
   "metadata": {},
   "outputs": [],
   "source": [
    "samples[0].bands"
   ]
  },
  {
   "cell_type": "code",
   "execution_count": null,
   "metadata": {},
   "outputs": [],
   "source": [
    "dataset.task_specs.n_time_steps"
   ]
  },
  {
   "cell_type": "code",
   "execution_count": null,
   "metadata": {},
   "outputs": [],
   "source": []
  }
 ],
 "metadata": {
  "kernelspec": {
   "display_name": "Python 3.9.7",
   "language": "python",
   "name": "python3"
  },
  "language_info": {
   "codemirror_mode": {
    "name": "ipython",
    "version": 3
   },
   "file_extension": ".py",
   "mimetype": "text/x-python",
   "name": "python",
   "nbconvert_exporter": "python",
   "pygments_lexer": "ipython3",
   "version": "3.9.7"
  },
  "vscode": {
   "interpreter": {
    "hash": "b19f5167aa29f0e7b4ca4f180cf0e2dd5cec97c6ddb063b7447cc55271593e0b"
   }
  }
 },
 "nbformat": 4,
 "nbformat_minor": 2
}
