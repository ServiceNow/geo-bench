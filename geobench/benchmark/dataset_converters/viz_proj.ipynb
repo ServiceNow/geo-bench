{
 "cells": [
  {
   "attachments": {},
   "cell_type": "markdown",
   "metadata": {},
   "source": [
    "# Debugging tool to understand the behavior of pyproj.geod.fwd"
   ]
  },
  {
   "cell_type": "code",
   "execution_count": 2,
   "metadata": {},
   "outputs": [],
   "source": [
    "import pyproj\n",
    "from geobench.benchmark.dataset_converters import inspect_tools\n",
    "from ipyleaflet import Map, Marker, Rectangle\n",
    "import numpy as np\n",
    "import rasterio\n",
    "\n",
    "crs = pyproj.CRS.from_epsg(4326)"
   ]
  },
  {
   "cell_type": "code",
   "execution_count": 9,
   "metadata": {},
   "outputs": [
    {
     "name": "stdout",
     "output_type": "stream",
     "text": [
      "(-73.519997, 45.63000099820106)\n"
     ]
    },
    {
     "data": {
      "application/vnd.jupyter.widget-view+json": {
       "model_id": "3e80387cc8e4401d844841e29e66e7ce",
       "version_major": 2,
       "version_minor": 0
      },
      "text/plain": [
       "Map(center=[45.630001, -73.519997], controls=(ZoomControl(options=['position', 'zoom_in_text', 'zoom_in_title'…"
      ]
     },
     "execution_count": 9,
     "metadata": {},
     "output_type": "execute_result"
    }
   ],
   "source": [
    "def leaflet_map(points, names):\n",
    "    \"\"\"Position all samples on a world map using ipyleaflet. Experimental feature.\"\"\"\n",
    "    # TODO need to use reproject to increse compatibility\n",
    "    # https://github.com/jupyter-widgets/ipyleaflet/blob/master/examples/Numpy.ipynb\n",
    "\n",
    "    map = Map(center=points[0], zoom=11)\n",
    "    map.layout.height = \"600\"\n",
    "\n",
    "    for point, name in zip(points, names):\n",
    "        map.add_layer(Marker(location=point, draggable=False, opacity=0.5, title=\"allo\"))\n",
    "\n",
    "    return map\n",
    "\n",
    "\n",
    "point_lat_lon = 45.630001, -73.519997 # lat, lon\n",
    "img_shape = 100, 100\n",
    "spatial_resolution = 10\n",
    "radius_in_meter = spatial_resolution * img_shape[0] / 2\n",
    "\n",
    "\n",
    "def get_rect(transform, shape):\n",
    "    \"\"\"Obtain a georeferenced rectangle ready to display in ipyleaflet.\"\"\"\n",
    "    sw = transform * (0, 0)\n",
    "    ne = transform * shape\n",
    "    return Rectangle(bounds=(sw[::-1], ne[::-1]))\n",
    "\n",
    "def bounding_points_from_center(lat_center, lon_center, radius_in_meter):\n",
    "    geod = pyproj.Geod(ellps='clrk66')\n",
    "    lon, lat, baz = geod.fwd([lon_center]*4, [lat_center]*4, [0,90,180,270], [radius_in_meter]*4)\n",
    "\n",
    "    return list(zip(lat, lon))\n",
    "\n",
    "def center_to_transform(lat_center, lon_center, radius_in_meter, img_shape):\n",
    "    geod = pyproj.Geod(ellps='clrk66')\n",
    "    lon, lat, baz = geod.fwd([lon_center]*4, [lat_center]*4, [0,90,180,270], [radius_in_meter]*4)\n",
    "    north, east, south, west = lat[0], lon[1], lat[2], lon[3]\n",
    "    transform = rasterio.transform.from_bounds(west, south, east, north, *img_shape)\n",
    "    return transform\n",
    "\n",
    "def transform_to_center(transform, img_shape):\n",
    "    lon_lat = transform * (np.array(img_shape) / 2.)\n",
    "    return lon_lat\n",
    "\n",
    "\n",
    "transform = center_to_transform(*point_lat_lon, radius_in_meter, img_shape)\n",
    "print(transform_to_center(transform, img_shape))\n",
    "points_lat_lon = bounding_points_from_center(*point_lat_lon, radius_in_meter)\n",
    "\n",
    "map = leaflet_map( [point_lat_lon] + points_lat_lon, ['montreal']* 5)\n",
    "\n",
    "map.add_layer(get_rect(transform=transform, shape=img_shape))\n",
    "map\n",
    "\n"
   ]
  },
  {
   "cell_type": "code",
   "execution_count": null,
   "metadata": {},
   "outputs": [],
   "source": []
  }
 ],
 "metadata": {
  "kernelspec": {
   "display_name": "Python 3",
   "language": "python",
   "name": "python3"
  },
  "language_info": {
   "codemirror_mode": {
    "name": "ipython",
    "version": 3
   },
   "file_extension": ".py",
   "mimetype": "text/x-python",
   "name": "python",
   "nbconvert_exporter": "python",
   "pygments_lexer": "ipython3",
   "version": "3.9.7 (default, Sep 16 2021, 13:09:58) \n[GCC 7.5.0]"
  },
  "orig_nbformat": 4,
  "vscode": {
   "interpreter": {
    "hash": "b19f5167aa29f0e7b4ca4f180cf0e2dd5cec97c6ddb063b7447cc55271593e0b"
   }
  }
 },
 "nbformat": 4,
 "nbformat_minor": 2
}
