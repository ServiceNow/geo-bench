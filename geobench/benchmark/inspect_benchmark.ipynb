{
 "cells": [
  {
   "cell_type": "code",
   "execution_count": 4,
   "metadata": {},
   "outputs": [
    {
     "name": "stdout",
     "output_type": "stream",
     "text": [
      "The autoreload extension is already loaded. To reload it, use:\n",
      "  %reload_ext autoreload\n"
     ]
    }
   ],
   "source": [
    "from geobench import io\n",
    "from geobench.benchmark.dataset_converters import inspect_tools\n",
    "import numpy as np\n",
    "from matplotlib import pyplot as plt\n",
    "plt.rcParams['figure.figsize'] = [10, 6]\n",
    "\n",
    "%load_ext autoreload\n",
    "%autoreload 2"
   ]
  },
  {
   "cell_type": "markdown",
   "metadata": {},
   "source": [
    "# Classification benchmark"
   ]
  },
  {
   "cell_type": "code",
   "execution_count": 6,
   "metadata": {
    "scrolled": true
   },
   "outputs": [
    {
     "name": "stdout",
     "output_type": "stream",
     "text": [
      "eurosat\n"
     ]
    },
    {
     "data": {
      "text/html": [
       "<div>\n",
       "<style scoped>\n",
       "    .dataframe tbody tr th:only-of-type {\n",
       "        vertical-align: middle;\n",
       "    }\n",
       "\n",
       "    .dataframe tbody tr th {\n",
       "        vertical-align: top;\n",
       "    }\n",
       "\n",
       "    .dataframe thead th {\n",
       "        text-align: right;\n",
       "    }\n",
       "</style>\n",
       "<table border=\"1\" class=\"dataframe\">\n",
       "  <thead>\n",
       "    <tr style=\"text-align: right;\">\n",
       "      <th></th>\n",
       "      <th>Name</th>\n",
       "      <th>Image Size</th>\n",
       "      <th>Label Type</th>\n",
       "      <th># Classes</th>\n",
       "      <th>Train Size</th>\n",
       "      <th>Val Size</th>\n",
       "      <th>Test Size</th>\n",
       "      <th># Time Steps</th>\n",
       "      <th># Bands</th>\n",
       "      <th># Sentinel2</th>\n",
       "      <th>RGB res</th>\n",
       "      <th>NIR res</th>\n",
       "      <th>HS res</th>\n",
       "      <th>Elevation res</th>\n",
       "      <th>Sensors</th>\n",
       "      <th>n_geoinfo</th>\n",
       "    </tr>\n",
       "  </thead>\n",
       "  <tbody>\n",
       "    <tr>\n",
       "      <th>0</th>\n",
       "      <td>eurosat</td>\n",
       "      <td>64 x 64</td>\n",
       "      <td>Classification</td>\n",
       "      <td>10</td>\n",
       "      <td>16200</td>\n",
       "      <td>996</td>\n",
       "      <td>996</td>\n",
       "      <td>1</td>\n",
       "      <td>13</td>\n",
       "      <td>13</td>\n",
       "      <td>10</td>\n",
       "      <td>20</td>\n",
       "      <td>None</td>\n",
       "      <td>None</td>\n",
       "      <td>Sentinel-2</td>\n",
       "      <td>0</td>\n",
       "    </tr>\n",
       "  </tbody>\n",
       "</table>\n",
       "</div>"
      ],
      "text/plain": [
       "      Name Image Size      Label Type  # Classes  Train Size  Val Size  \\\n",
       "0  eurosat    64 x 64  Classification         10       16200       996   \n",
       "\n",
       "   Test Size  # Time Steps  # Bands  # Sentinel2  RGB res  NIR res HS res  \\\n",
       "0        996             1       13           13       10       20   None   \n",
       "\n",
       "  Elevation res     Sensors  n_geoinfo  \n",
       "0          None  Sentinel-2          0  "
      ]
     },
     "execution_count": 6,
     "metadata": {},
     "output_type": "execute_result"
    }
   ],
   "source": [
    "inspect_tools.benchmark_data_frame(\"classification_v0.8.2\")"
   ]
  },
  {
   "cell_type": "markdown",
   "metadata": {},
   "source": [
    "# Segmentation Benchmark"
   ]
  },
  {
   "cell_type": "code",
   "execution_count": 3,
   "metadata": {},
   "outputs": [
    {
     "name": "stdout",
     "output_type": "stream",
     "text": [
      "pv4ger_segmentation\n",
      "nz_cattle_segmentation\n",
      "seasonet\n",
      "NeonTree_segmentation\n"
     ]
    },
    {
     "data": {
      "text/html": [
       "<div>\n",
       "<style scoped>\n",
       "    .dataframe tbody tr th:only-of-type {\n",
       "        vertical-align: middle;\n",
       "    }\n",
       "\n",
       "    .dataframe tbody tr th {\n",
       "        vertical-align: top;\n",
       "    }\n",
       "\n",
       "    .dataframe thead th {\n",
       "        text-align: right;\n",
       "    }\n",
       "</style>\n",
       "<table border=\"1\" class=\"dataframe\">\n",
       "  <thead>\n",
       "    <tr style=\"text-align: right;\">\n",
       "      <th></th>\n",
       "      <th>Name</th>\n",
       "      <th>Image Size</th>\n",
       "      <th>Label Type</th>\n",
       "      <th># Classes</th>\n",
       "      <th>Train Size</th>\n",
       "      <th>Val Size</th>\n",
       "      <th>Test Size</th>\n",
       "      <th># Time Steps</th>\n",
       "      <th># Bands</th>\n",
       "      <th># Sentinel2</th>\n",
       "      <th>RGB res</th>\n",
       "      <th>NIR res</th>\n",
       "      <th>HS res</th>\n",
       "      <th>Elevation res</th>\n",
       "      <th>Sensors</th>\n",
       "      <th>n_geoinfo</th>\n",
       "    </tr>\n",
       "  </thead>\n",
       "  <tbody>\n",
       "    <tr>\n",
       "      <th>0</th>\n",
       "      <td>pv4ger_segmentation</td>\n",
       "      <td>320 x 320</td>\n",
       "      <td>SegmentationClasses</td>\n",
       "      <td>2</td>\n",
       "      <td>3000</td>\n",
       "      <td>403</td>\n",
       "      <td>403</td>\n",
       "      <td>1</td>\n",
       "      <td>3</td>\n",
       "      <td>0</td>\n",
       "      <td>0.1</td>\n",
       "      <td>NaN</td>\n",
       "      <td>NaN</td>\n",
       "      <td>NaN</td>\n",
       "      <td>RGB</td>\n",
       "      <td>3</td>\n",
       "    </tr>\n",
       "    <tr>\n",
       "      <th>1</th>\n",
       "      <td>nz_cattle_segmentation</td>\n",
       "      <td>500 x 500</td>\n",
       "      <td>SegmentationClasses</td>\n",
       "      <td>2</td>\n",
       "      <td>524</td>\n",
       "      <td>66</td>\n",
       "      <td>65</td>\n",
       "      <td>1</td>\n",
       "      <td>3</td>\n",
       "      <td>0</td>\n",
       "      <td>0.1</td>\n",
       "      <td>NaN</td>\n",
       "      <td>NaN</td>\n",
       "      <td>NaN</td>\n",
       "      <td>RGB</td>\n",
       "      <td>3</td>\n",
       "    </tr>\n",
       "    <tr>\n",
       "      <th>2</th>\n",
       "      <td>seasonet</td>\n",
       "      <td>120 x 120</td>\n",
       "      <td>SegmentationClasses</td>\n",
       "      <td>34</td>\n",
       "      <td>3000</td>\n",
       "      <td>1000</td>\n",
       "      <td>1000</td>\n",
       "      <td>1</td>\n",
       "      <td>12</td>\n",
       "      <td>12</td>\n",
       "      <td>10.0</td>\n",
       "      <td>20.0</td>\n",
       "      <td>NaN</td>\n",
       "      <td>NaN</td>\n",
       "      <td>Sentinel-2</td>\n",
       "      <td>12</td>\n",
       "    </tr>\n",
       "    <tr>\n",
       "      <th>3</th>\n",
       "      <td>NeonTree_segmentation</td>\n",
       "      <td>400 x 400</td>\n",
       "      <td>SegmentationClasses</td>\n",
       "      <td>2</td>\n",
       "      <td>270</td>\n",
       "      <td>94</td>\n",
       "      <td>93</td>\n",
       "      <td>1</td>\n",
       "      <td>5</td>\n",
       "      <td>0</td>\n",
       "      <td>0.1</td>\n",
       "      <td>NaN</td>\n",
       "      <td>1.0</td>\n",
       "      <td>0.1</td>\n",
       "      <td>RGB, Hyperspectral (Neon), Elevation (Lidar)</td>\n",
       "      <td>5</td>\n",
       "    </tr>\n",
       "  </tbody>\n",
       "</table>\n",
       "</div>"
      ],
      "text/plain": [
       "                     Name Image Size           Label Type  # Classes  \\\n",
       "0     pv4ger_segmentation  320 x 320  SegmentationClasses          2   \n",
       "1  nz_cattle_segmentation  500 x 500  SegmentationClasses          2   \n",
       "2                seasonet  120 x 120  SegmentationClasses         34   \n",
       "3   NeonTree_segmentation  400 x 400  SegmentationClasses          2   \n",
       "\n",
       "   Train Size  Val Size  Test Size  # Time Steps  # Bands  # Sentinel2  \\\n",
       "0        3000       403        403             1        3            0   \n",
       "1         524        66         65             1        3            0   \n",
       "2        3000      1000       1000             1       12           12   \n",
       "3         270        94         93             1        5            0   \n",
       "\n",
       "   RGB res  NIR res  HS res  Elevation res  \\\n",
       "0      0.1      NaN     NaN            NaN   \n",
       "1      0.1      NaN     NaN            NaN   \n",
       "2     10.0     20.0     NaN            NaN   \n",
       "3      0.1      NaN     1.0            0.1   \n",
       "\n",
       "                                        Sensors  n_geoinfo  \n",
       "0                                           RGB          3  \n",
       "1                                           RGB          3  \n",
       "2                                    Sentinel-2         12  \n",
       "3  RGB, Hyperspectral (Neon), Elevation (Lidar)          5  "
      ]
     },
     "execution_count": 3,
     "metadata": {},
     "output_type": "execute_result"
    }
   ],
   "source": [
    "inspect_tools.benchmark_data_frame(\"segmentation_v0.3\")"
   ]
  },
  {
   "cell_type": "markdown",
   "metadata": {},
   "source": [
    "# Classification Samples"
   ]
  },
  {
   "cell_type": "code",
   "execution_count": null,
   "metadata": {
    "scrolled": false
   },
   "outputs": [],
   "source": [
    "inspect_tools.ipyplot_benchmark(benchmark_name = \"classification_v0.7\", n_samples=8, img_width=200)"
   ]
  },
  {
   "cell_type": "markdown",
   "metadata": {},
   "source": [
    "# Segmentation Samples"
   ]
  },
  {
   "cell_type": "code",
   "execution_count": null,
   "metadata": {
    "scrolled": false
   },
   "outputs": [],
   "source": [
    "inspect_tools.ipyplot_benchmark(benchmark_name = \"segmentation_v0.2\", n_samples=4)"
   ]
  },
  {
   "cell_type": "code",
   "execution_count": null,
   "metadata": {
    "scrolled": false
   },
   "outputs": [],
   "source": [
    "# generate images for the paper\n",
    "plt.rcParams['figure.figsize'] = [6, 6]\n",
    "inspect_tools.plot_benchmark(benchmark_name = \"classification_v0.5\", n_samples=2)"
   ]
  },
  {
   "cell_type": "markdown",
   "metadata": {},
   "source": [
    "# All converted datasets"
   ]
  },
  {
   "cell_type": "code",
   "execution_count": null,
   "metadata": {
    "scrolled": true
   },
   "outputs": [],
   "source": [
    "inspect_tools.benchmark_data_frame(\"converted\")"
   ]
  },
  {
   "cell_type": "code",
   "execution_count": null,
   "metadata": {},
   "outputs": [],
   "source": []
  }
 ],
 "metadata": {
  "kernelspec": {
   "display_name": "Python 3",
   "language": "python",
   "name": "python3"
  },
  "language_info": {
   "codemirror_mode": {
    "name": "ipython",
    "version": 3
   },
   "file_extension": ".py",
   "mimetype": "text/x-python",
   "name": "python",
   "nbconvert_exporter": "python",
   "pygments_lexer": "ipython3",
   "version": "3.9.7"
  },
  "vscode": {
   "interpreter": {
    "hash": "b19f5167aa29f0e7b4ca4f180cf0e2dd5cec97c6ddb063b7447cc55271593e0b"
   }
  }
 },
 "nbformat": 4,
 "nbformat_minor": 2
}
