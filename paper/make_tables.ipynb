{
 "cells": [
  {
   "cell_type": "code",
   "execution_count": null,
   "metadata": {},
   "outputs": [],
   "source": [
    "from ccb.dataset_converters import inspect_tools\n",
    "import pandas as pd\n",
    "\n",
    "%load_ext autoreload\n",
    "%autoreload 2"
   ]
  },
  {
   "cell_type": "code",
   "execution_count": null,
   "metadata": {},
   "outputs": [],
   "source": [
    "classification_df = inspect_tools.benchmark_data_frame(\"classification_v0.7\")\n",
    "# classification_df = classification_df.reset_index()\n",
    "\n",
    "classification_df[\"Name\"] = classification_df[\"Name\"].apply(inspect_tools.DISPLAY_NAMES.get)\n",
    "classification_df[\"Cite\"] = classification_df[\"Name\"].apply(lambda name: f\"\\\\{name[2:].replace('-', '')}\")\n",
    "\n",
    "classification_df\n"
   ]
  },
  {
   "cell_type": "code",
   "execution_count": null,
   "metadata": {},
   "outputs": [],
   "source": [
    "# cols = list(classification_df.keys())\n",
    "# print(cols)\n",
    "cols = ['Name', 'Image Size', '# Classes', 'Train Size', 'Val Size', 'Test Size', '# Bands', 'RGB res', 'Sensors', 'Cite']\n",
    "\n",
    "print(classification_df.to_latex(columns=cols, na_rep=\"-\", index=False, escape=False))\n",
    "\n",
    "\n",
    "\n"
   ]
  },
  {
   "cell_type": "code",
   "execution_count": null,
   "metadata": {},
   "outputs": [],
   "source": [
    "seg_df = inspect_tools.benchmark_data_frame(\"segmentation_v0.2\")\n",
    "seg_df[\"Name\"] = seg_df[\"Name\"].apply(inspect_tools.DISPLAY_NAMES.get)\n",
    "seg_df[\"Cite\"] = seg_df[\"Name\"].apply(lambda name: f\"\\\\{name[2:].replace('-', '')}\")\n",
    "\n",
    "seg_df"
   ]
  },
  {
   "cell_type": "code",
   "execution_count": null,
   "metadata": {},
   "outputs": [],
   "source": [
    "\n",
    "cols = ['Name', 'Image Size', '# Classes', 'Train Size', 'Val Size', 'Test Size', '# Bands', 'RGB res', 'Sensors', \"Cite\"]\n",
    "\n",
    "print(seg_df.to_latex(columns=cols, na_rep=\"-\", index=False, column_format=\"r\" + \"c\"*7 + \"l\", escape=False))"
   ]
  },
  {
   "cell_type": "code",
   "execution_count": null,
   "metadata": {},
   "outputs": [],
   "source": [
    "path_list = inspect_tools.plot_benchmark(\"classification_v0.6\", 2, fig_size=(6,3))"
   ]
  },
  {
   "cell_type": "code",
   "execution_count": null,
   "metadata": {},
   "outputs": [],
   "source": [
    "\n",
    "import formatter\n",
    "\n",
    "\n",
    "r_path = [ f\"\\\\includegraphics[scale=0.2]{{{str(p.relative_to('/mnt/home'))}}}\" for p in path_list]\n",
    "print(pd.DataFrame(r_path).to_latex(escape=False, col_space=500, index=False, formatters={0:str}))\n"
   ]
  },
  {
   "cell_type": "code",
   "execution_count": null,
   "metadata": {},
   "outputs": [],
   "source": [
    "path_list = inspect_tools.plot_benchmark(\"segmentation_v0.2\", 2, fig_size=(6,3))"
   ]
  },
  {
   "cell_type": "code",
   "execution_count": null,
   "metadata": {},
   "outputs": [],
   "source": []
  }
 ],
 "metadata": {
  "kernelspec": {
   "display_name": "Python 3.9.7",
   "language": "python",
   "name": "python3"
  },
  "language_info": {
   "codemirror_mode": {
    "name": "ipython",
    "version": 3
   },
   "file_extension": ".py",
   "mimetype": "text/x-python",
   "name": "python",
   "nbconvert_exporter": "python",
   "pygments_lexer": "ipython3",
   "version": "3.9.7"
  },
  "orig_nbformat": 4,
  "vscode": {
   "interpreter": {
    "hash": "b19f5167aa29f0e7b4ca4f180cf0e2dd5cec97c6ddb063b7447cc55271593e0b"
   }
  }
 },
 "nbformat": 4,
 "nbformat_minor": 2
}
