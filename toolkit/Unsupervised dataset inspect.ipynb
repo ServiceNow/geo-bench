{
 "cells": [
  {
   "cell_type": "code",
   "execution_count": null,
   "metadata": {},
   "outputs": [],
   "source": [
    "import rasterio\n",
    "from pathlib import Path\n",
    "from PIL import Image\n",
    "import numpy as np\n",
    "import ipyplot\n",
    "import json"
   ]
  },
  {
   "cell_type": "markdown",
   "metadata": {},
   "source": [
    "# Questions\n",
    "* there is no sun elevation from satellogic ... right?\n",
    "* what is the link between View Incidence Angle and off-nadir angle. Would it be possible to put in same format?\n",
    "\n",
    "\n",
    "# Changes\n",
    "* use red.tif green.tif ... for satellogic names\n",
    "* name the current angles in a sub-section call View Incidence Angle\n",
    "* Could we also extract the sun angles from the xml\n"
   ]
  },
  {
   "cell_type": "code",
   "execution_count": null,
   "metadata": {},
   "outputs": [],
   "source": [
    "def load_band(file_path):\n",
    "    with rasterio.open(file_path) as src:\n",
    "        tags = src.tags()\n",
    "        data = src.read()\n",
    "\n",
    "    return data, tags\n",
    "\n",
    "def load_rgb_from_bands(image_dir, band_names = (\"B02.tif\", \"B03.tif\", \"B04.tif\")):\n",
    "\n",
    "    RGB = []\n",
    "    for file_name in band_names:\n",
    "        data, tags = load_band(image_dir / file_name)\n",
    "        RGB.append(data)\n",
    "\n",
    "    RGB = np.moveaxis(np.stack(RGB, axis=0)[:,0,:,:], 0,2)\n",
    "    return float_image_to_uint8([RGB])[0]\n",
    "\n",
    "# cut-n-paste from the benchmark code\n",
    "def float_image_to_uint8(images, percentile_max=99.9, ensure_3_channels=True, per_channel_scaling=False):\n",
    "    \"\"\"Convert a batch of images to uint8 such that 99.9% of values fit in the range (0,255).\"\"\"\n",
    "    images = np.asarray(images)\n",
    "    if images.dtype == np.uint8:\n",
    "        return images\n",
    "\n",
    "    images = images.astype(np.float64)\n",
    "\n",
    "    if per_channel_scaling:\n",
    "        mx = np.percentile(images, q=percentile_max, axis=(0, 1, 2), keepdims=True)\n",
    "        mx = np.squeeze(mx, axis=0)\n",
    "        mn = np.percentile(images, q=100 - percentile_max, axis=(0, 1, 2), keepdims=True)\n",
    "    else:\n",
    "        mn = np.percentile(images, q=100 - percentile_max)\n",
    "        mx = np.percentile(images, q=percentile_max)\n",
    "\n",
    "    new_images = []\n",
    "    for image in images:\n",
    "        image = np.clip((image - mn) * 255 / (mx - mn), 0, 255)\n",
    "        if ensure_3_channels:\n",
    "            if image.ndim == 2:\n",
    "                image = np.stack((image, image, image), axis=2)\n",
    "            if image.shape[2] == 1:\n",
    "                image = np.concatenate((image, image, image), axis=2)\n",
    "        new_images.append(image.astype(np.uint8))\n",
    "    return new_images\n"
   ]
  },
  {
   "cell_type": "code",
   "execution_count": null,
   "metadata": {},
   "outputs": [],
   "source": [
    "satellogic_dir = Path(\"/mnt/data/unsupervised_dataset/small_dataset_sample/satellogic/zip_1/34_04N115_86W/2021-11-19\")\n",
    "\n",
    "RGB_img = load_rgb_from_bands(satellogic_dir)\n",
    "RGB_enhanced = np.asarray(Image.open(satellogic_dir / \"RGB_enhanced.jpg\"))\n",
    "NIR_img, _ = load_band(satellogic_dir / \"B08.tif\")\n",
    "NIR_img = float_image_to_uint8([NIR_img[0]])[0]\n",
    "\n",
    "with open(satellogic_dir / \"metadata.json\", 'r') as fd:\n",
    "    satellogic_metadata = json.load(fd)\n",
    "\n",
    "print(\"RGB_img: \", RGB_img.shape,RGB_img.dtype)\n",
    "print(\"RGB_enh: \", RGB_enhanced.shape, RGB_enhanced.dtype)\n",
    "print(\"NIR_img: \", NIR_img.shape, NIR_img.dtype)\n",
    "\n",
    "\n",
    "images = [RGB_img, RGB_enhanced, NIR_img]\n",
    "labels = [\"RGB_img\", \"RGB_enhanced\", \"NIR_img\"]"
   ]
  },
  {
   "cell_type": "code",
   "execution_count": null,
   "metadata": {},
   "outputs": [],
   "source": [
    "ipyplot.plot_class_tabs(images=images, labels=labels, img_width=500, max_imgs_per_tab=10)\n",
    "\n"
   ]
  },
  {
   "cell_type": "code",
   "execution_count": null,
   "metadata": {},
   "outputs": [],
   "source": [
    "sentinel_dir = Path(\"/mnt/data/unsupervised_dataset/small_dataset_sample/sentinel_2/zip_0/33_70N116_86W\")\n",
    "\n",
    "images = []\n",
    "labels = []\n",
    "for time_dir in sentinel_dir.iterdir():\n",
    "    band_dict = {}\n",
    "    for band_path in time_dir.glob(\"*.tif\"):\n",
    "        \n",
    "        band_name = band_path.stem\n",
    "        band_data, _ = load_band(band_path)\n",
    "                \n",
    "        if band_name == \"SCL\":\n",
    "            band_data *= 20\n",
    "        band_dict[band_name] = band_data[0]\n",
    "        \n",
    "    with open(time_dir / \"metadata.json\", 'r') as fd:\n",
    "        sentinel_metadata = json.load(fd)\n",
    "\n",
    "        \n",
    "    keys = sorted(band_dict.keys())\n",
    "    for key in keys:\n",
    "        labels.append(key)\n",
    "        band_img = float_image_to_uint8([band_dict[key]])[0]\n",
    "        images.append(band_img)\n",
    "        \n",
    "    RGB_img = np.stack([band_dict[key] for key in (\"B04\", \"B03\", \"B02\")], axis=2)\n",
    "    RGB_img = float_image_to_uint8([RGB_img])[0]\n",
    "    images.append(RGB_img)\n",
    "    labels.append(\"RGB\")"
   ]
  },
  {
   "cell_type": "code",
   "execution_count": null,
   "metadata": {
    "scrolled": false
   },
   "outputs": [],
   "source": [
    "ipyplot.plot_class_tabs(images=images, labels=labels, img_width=400, max_imgs_per_tab=10)\n"
   ]
  },
  {
   "cell_type": "code",
   "execution_count": null,
   "metadata": {},
   "outputs": [],
   "source": [
    "satellogic_metadata"
   ]
  },
  {
   "cell_type": "code",
   "execution_count": null,
   "metadata": {},
   "outputs": [],
   "source": [
    "sentinel_metadata"
   ]
  },
  {
   "cell_type": "code",
   "execution_count": null,
   "metadata": {},
   "outputs": [],
   "source": []
  }
 ],
 "metadata": {
  "kernelspec": {
   "display_name": "ccb",
   "language": "python",
   "name": "ccb"
  },
  "language_info": {
   "codemirror_mode": {
    "name": "ipython",
    "version": 3
   },
   "file_extension": ".py",
   "mimetype": "text/x-python",
   "name": "python",
   "nbconvert_exporter": "python",
   "pygments_lexer": "ipython3",
   "version": "3.9.7"
  }
 },
 "nbformat": 4,
 "nbformat_minor": 4
}
