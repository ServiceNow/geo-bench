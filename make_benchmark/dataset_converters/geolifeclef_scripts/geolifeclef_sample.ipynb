{
 "cells": [
  {
   "cell_type": "code",
   "execution_count": null,
   "id": "fdde530b",
   "metadata": {},
   "outputs": [],
   "source": [
    "import pandas as pd\n",
    "import numpy as np\n",
    "import geobench\n",
    "from pathlib import Path"
   ]
  },
  {
   "cell_type": "markdown",
   "id": "0f2db4d0",
   "metadata": {},
   "source": [
    "## Merge country datasets together"
   ]
  },
  {
   "cell_type": "code",
   "execution_count": null,
   "id": "d1f51c64",
   "metadata": {},
   "outputs": [],
   "source": [
    "df_us = pd.read_csv(f'{geobench.GEO_BENCH_DIR}/source/geolifeclef-2022/observations/observations_us_train.csv', delimiter=\";\")\n",
    "df_fr = pd.read_csv(f'{geobench.GEO_BENCH_DIR}/source/geolifeclef-2022/observations/observations_fr_train.csv', delimiter=\";\")\n",
    "df = df_us.append(df_fr)\n",
    "df"
   ]
  },
  {
   "cell_type": "markdown",
   "id": "b65078ed",
   "metadata": {},
   "source": [
    "## Do we have overlapping species in the two countries?"
   ]
  },
  {
   "cell_type": "code",
   "execution_count": null,
   "id": "67f0d772",
   "metadata": {},
   "outputs": [],
   "source": [
    "len(set(df_us['species_id']) & set(df_fr['species_id']))"
   ]
  },
  {
   "cell_type": "markdown",
   "id": "c6f72fbf",
   "metadata": {},
   "source": [
    "## Calculate `n` most common species in train set"
   ]
  },
  {
   "cell_type": "code",
   "execution_count": null,
   "id": "31584477",
   "metadata": {},
   "outputs": [],
   "source": [
    "n = 100 # most common in train set\n",
    "df_train = df.loc[df['subset'] == 'train']\n",
    "species_counts = df_train['species_id'].value_counts()[:n]\n",
    "species_counts"
   ]
  },
  {
   "cell_type": "code",
   "execution_count": null,
   "id": "0f379e5c",
   "metadata": {},
   "outputs": [],
   "source": [
    "species = species_counts.keys()"
   ]
  },
  {
   "cell_type": "markdown",
   "id": "dad0267b",
   "metadata": {},
   "source": [
    "## Filter for species"
   ]
  },
  {
   "cell_type": "code",
   "execution_count": null,
   "id": "ee343f2b",
   "metadata": {},
   "outputs": [],
   "source": [
    "df.loc[df['species_id'].isin(species)]"
   ]
  },
  {
   "cell_type": "markdown",
   "id": "d8aabbad",
   "metadata": {},
   "source": [
    "## Check if all species are represented in val subset"
   ]
  },
  {
   "cell_type": "code",
   "execution_count": null,
   "id": "5bb8b961",
   "metadata": {},
   "outputs": [],
   "source": [
    "df.loc[(df['species_id'].isin(species)) & (df['subset'] == 'train')]['species_id'].value_counts()"
   ]
  },
  {
   "cell_type": "code",
   "execution_count": null,
   "id": "7b1b6293",
   "metadata": {},
   "outputs": [],
   "source": [
    "df.loc[(df['species_id'].isin(species)) & (df['subset'] == 'val')]['species_id'].value_counts()"
   ]
  },
  {
   "cell_type": "markdown",
   "id": "e2fed88b",
   "metadata": {},
   "source": [
    "## Subsample 10% from training dataset"
   ]
  },
  {
   "cell_type": "code",
   "execution_count": null,
   "id": "da37b954",
   "metadata": {},
   "outputs": [],
   "source": [
    "df_train_species = df.loc[(df['species_id'].isin(species)) & (df['subset'] == 'train')]"
   ]
  },
  {
   "cell_type": "code",
   "execution_count": null,
   "id": "23162227",
   "metadata": {},
   "outputs": [],
   "source": [
    "df_train_sample = df_train_species.sample(frac=0.1, random_state=1)\n",
    "df_train_sample"
   ]
  },
  {
   "cell_type": "code",
   "execution_count": null,
   "id": "6b8880fd",
   "metadata": {},
   "outputs": [],
   "source": [
    "df_train_sample['species_id'].value_counts()"
   ]
  },
  {
   "cell_type": "markdown",
   "id": "27c546e4",
   "metadata": {},
   "source": [
    "## Create new dataset and change label enumeration"
   ]
  },
  {
   "cell_type": "code",
   "execution_count": null,
   "id": "6c821484",
   "metadata": {},
   "outputs": [],
   "source": [
    "df_val_species = df.loc[(df['species_id'].isin(species)) & (df['subset'] == 'val')]"
   ]
  },
  {
   "cell_type": "code",
   "execution_count": null,
   "id": "2046abfe",
   "metadata": {},
   "outputs": [],
   "source": [
    "df_new = df_train_sample.append(df_val_species)\n",
    "df_new"
   ]
  },
  {
   "cell_type": "code",
   "execution_count": null,
   "id": "c9634ce3",
   "metadata": {},
   "outputs": [],
   "source": [
    "df_new.to_csv(f'observations_sample_original_labels.csv', index=False, sep=\";\")"
   ]
  },
  {
   "cell_type": "code",
   "execution_count": null,
   "id": "d9797624",
   "metadata": {},
   "outputs": [],
   "source": [
    "lookup = sorted(list(set(df_new['species_id'])))\n",
    "def return_index(a):\n",
    "    return lookup.index(a)\n",
    "\n",
    "lookup"
   ]
  },
  {
   "cell_type": "code",
   "execution_count": null,
   "id": "3f538275",
   "metadata": {},
   "outputs": [],
   "source": [
    "df_new['species_id'] = df_new['species_id'].map(return_index)"
   ]
  },
  {
   "cell_type": "code",
   "execution_count": null,
   "id": "3848d500",
   "metadata": {},
   "outputs": [],
   "source": [
    "df_new.to_csv(f'observations_sample.csv', index=False, sep=\";\")"
   ]
  },
  {
   "cell_type": "code",
   "execution_count": null,
   "id": "65113283",
   "metadata": {},
   "outputs": [],
   "source": [
    "df_labels = pd.read_csv('observations_sample_original_labels.csv', sep=\";\")\n",
    "df_labels"
   ]
  },
  {
   "cell_type": "markdown",
   "id": "d172304d",
   "metadata": {},
   "source": [
    "## Create names for species"
   ]
  },
  {
   "cell_type": "code",
   "execution_count": null,
   "id": "5602dd13",
   "metadata": {},
   "outputs": [],
   "source": [
    "df_species_names = pd.read_csv(f'{geobench.GEO_BENCH_DIR}/source/geolifeclef-2022/metadata/species_details.csv', sep=\";\")"
   ]
  },
  {
   "cell_type": "code",
   "execution_count": null,
   "id": "511aed8e",
   "metadata": {},
   "outputs": [],
   "source": [
    "merged_df = df_labels.join(df_species_names.set_index('species_id'), on='species_id')\n",
    "merged_df"
   ]
  },
  {
   "cell_type": "code",
   "execution_count": null,
   "id": "510d49e3",
   "metadata": {},
   "outputs": [],
   "source": [
    "sorted_species = merged_df.sort_values(by=['species_id'])['GBIF_species_name']\n",
    "u, idx = np.unique(sorted_species, return_index=True)\n",
    "names = u[np.argsort(idx)]"
   ]
  },
  {
   "cell_type": "code",
   "execution_count": null,
   "id": "3ba0caec",
   "metadata": {},
   "outputs": [],
   "source": [
    "df_names = pd.DataFrame(names, columns=['GBIF_species_name'])"
   ]
  },
  {
   "cell_type": "code",
   "execution_count": null,
   "id": "4911ac11",
   "metadata": {},
   "outputs": [],
   "source": [
    "df_names.to_csv(f'names.csv', index=False, sep=\";\")"
   ]
  },
  {
   "cell_type": "code",
   "execution_count": null,
   "id": "b16b6836",
   "metadata": {},
   "outputs": [],
   "source": [
    "df_read_names = pd.read_csv('names.csv', sep=\";\")\n",
    "list(df_read_names['GBIF_species_name'])"
   ]
  },
  {
   "cell_type": "markdown",
   "id": "8bf4f8d7",
   "metadata": {},
   "source": [
    "## Investigate issues on altitude"
   ]
  },
  {
   "cell_type": "code",
   "execution_count": null,
   "id": "71307aed",
   "metadata": {},
   "outputs": [],
   "source": [
    "path = geobench.GEO_BENCH_DIR / Path(\"/source/geolifeclef-2022/patches_sample/patches-us/00/00\")\n",
    "file = \"20780000_altitude.tif\"\n",
    "\n",
    "from PIL import Image\n",
    "im = Image.open(path / file)\n",
    "im"
   ]
  },
  {
   "cell_type": "code",
   "execution_count": null,
   "id": "80046bdf",
   "metadata": {},
   "outputs": [],
   "source": [
    "import numpy as np\n",
    "imarray = np.array(im)\n",
    "imarray"
   ]
  },
  {
   "cell_type": "code",
   "execution_count": null,
   "id": "b06a01c7",
   "metadata": {},
   "outputs": [],
   "source": []
  }
 ],
 "metadata": {
  "kernelspec": {
   "display_name": "ccb",
   "language": "python",
   "name": "ccb"
  },
  "language_info": {
   "codemirror_mode": {
    "name": "ipython",
    "version": 3
   },
   "file_extension": ".py",
   "mimetype": "text/x-python",
   "name": "python",
   "nbconvert_exporter": "python",
   "pygments_lexer": "ipython3",
   "version": "3.9.13"
  }
 },
 "nbformat": 4,
 "nbformat_minor": 5
}
