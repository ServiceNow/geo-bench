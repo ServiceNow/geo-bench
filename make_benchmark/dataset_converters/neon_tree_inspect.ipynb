{
 "cells": [
  {
   "cell_type": "markdown",
   "metadata": {},
   "source": [
    "# NeonTree\n",
    "\n",
    "### Done\n",
    "* Convert images\n",
    "* Georeferenced\n",
    "* Write Task Specifications\n",
    "* Partition\n",
    "\n",
    "### TODO\n",
    "* Fix a fiew hack in the code (e.g. nodata value)\n",
    "\n",
    "### Questions to authors\n",
    "* evaluation/ contains many .tif that are not annotated. Is the intetion for some form of unsupervised set?\n",
    "* Is there a good way to slice the train set?\n",
    "\n",
    "### GeobenchDataset inconsistancy\n",
    "* TEAK is suppposed to be a large portion of the training set, but only the .laz and CHM.tif are available on zenodo\n",
    "* 2019_OSBS_5_405000_3287000 has image_crop, image_crop2 and image2, but image2 has not labels\n",
    "* why are there 2 samples that have a truncated and inconsistent shape e.g. sample TALL_043_2019 shapes are: rgb = (3,400,392), chm = (1,40,1), hyperspectral=(426,40,39)\n",
    "* 5 elements of the train are missing hyperspectral\n",
    "* 5 elements of eval are missing hyperspectral and CHM\n",
    "* 17 elements have no .tif but have annotations\n",
    "* why is the hyperspectral from zenodo only 369 channels vs 426?"
   ]
  },
  {
   "cell_type": "code",
   "execution_count": null,
   "metadata": {},
   "outputs": [],
   "source": [
    "%load_ext autoreload\n",
    "%autoreload 2\n",
    "\n",
    "import sys\n",
    "sys.path.append(\"../..\") # TODO fix this hack (can't set the project directory in notebook for vscode)\n",
    "from ipywidgets import interact\n",
    "import ipywidgets as widgets\n",
    "\n",
    "from geobench.dataset_converters import neon_tree as converter\n",
    "from geobench.dataset_converters import inspect_tools\n",
    "\n",
    "import ipyplot\n"
   ]
  },
  {
   "cell_type": "code",
   "execution_count": null,
   "metadata": {},
   "outputs": [],
   "source": [
    "dataset, samples, band_values, band_stats = inspect_tools.load_and_veryify_samples(converter.DATASET_DIR, n_samples=100, check_integrity=True, split='train')\n"
   ]
  },
  {
   "cell_type": "code",
   "execution_count": null,
   "metadata": {},
   "outputs": [],
   "source": [
    "images, labels = inspect_tools.extract_bands(samples, (('red', 'green', 'blue'), ('CHM',)), draw_label=True, label_patch_size=dataset.task_specs.patch_size)\n",
    "ipyplot.plot_class_tabs(images=images, labels=labels, img_width=256, max_imgs_per_tab=48)\n",
    "\n"
   ]
  },
  {
   "cell_type": "code",
   "execution_count": null,
   "metadata": {},
   "outputs": [],
   "source": [
    "f = inspect_tools.callback_hyperspectral_to_rgb(samples[:20], band_name=\"Neon\", img_width=128)\n",
    "interact(f, center=widgets.FloatSlider(min=0, max=369, step=1, value=10), width = widgets.FloatSlider(min=1, max=120, step=1, value=10));"
   ]
  },
  {
   "cell_type": "code",
   "execution_count": null,
   "metadata": {},
   "outputs": [],
   "source": [
    "inspect_tools.leaflet_map(samples)"
   ]
  },
  {
   "cell_type": "code",
   "execution_count": null,
   "metadata": {},
   "outputs": [],
   "source": []
  }
 ],
 "metadata": {
  "interpreter": {
   "hash": "b19f5167aa29f0e7b4ca4f180cf0e2dd5cec97c6ddb063b7447cc55271593e0b"
  },
  "kernelspec": {
   "display_name": "Python 3.9.7",
   "language": "python",
   "name": "python3"
  },
  "language_info": {
   "codemirror_mode": {
    "name": "ipython",
    "version": 3
   },
   "file_extension": ".py",
   "mimetype": "text/x-python",
   "name": "python",
   "nbconvert_exporter": "python",
   "pygments_lexer": "ipython3",
   "version": "3.9.7"
  }
 },
 "nbformat": 4,
 "nbformat_minor": 2
}
