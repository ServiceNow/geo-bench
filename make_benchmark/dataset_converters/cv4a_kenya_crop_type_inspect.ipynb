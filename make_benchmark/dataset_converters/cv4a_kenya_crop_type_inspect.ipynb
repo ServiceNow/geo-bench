{
 "cells": [
  {
   "cell_type": "markdown",
   "metadata": {},
   "source": [
    "# cv4a Kenya Crop Type\n",
    "\n",
    "### Done\n",
    "- Convert images\n",
    "- Write Task Specifications\n",
    "\n",
    "### TODO\n",
    "* Find a way to get GPS coordinates\n",
    "* Write original partition\n"
   ]
  },
  {
   "cell_type": "code",
   "execution_count": null,
   "metadata": {},
   "outputs": [],
   "source": [
    "%load_ext autoreload\n",
    "%autoreload 2\n",
    "\n",
    "import sys\n",
    "sys.path.append(\"../..\") # TODO fix this hack (can't set the project directory in notebook for vscode)\n",
    "\n",
    "from geobench.dataset_converters import cv4a_kenya_crop_type as converter, inspect_tools\n",
    "import ipyplot\n",
    "import numpy as np"
   ]
  },
  {
   "cell_type": "code",
   "execution_count": null,
   "metadata": {},
   "outputs": [],
   "source": [
    "dataset, samples, band_values, band_stats = inspect_tools.load_and_veryify_samples(converter.DATASET_DIR, n_samples=100, n_hist_bins=100)\n",
    "\n",
    "# extremely implanced dataset.\n",
    "label_count = np.bincount(band_values[\"label\"])\n",
    "print(\"labels per class\", label_count)\n"
   ]
  },
  {
   "cell_type": "code",
   "execution_count": null,
   "metadata": {},
   "outputs": [],
   "source": [
    "images, _ = inspect_tools.extract_images(samples, date_index=2)\n",
    "ipyplot.plot_images(images=images, img_width=128, max_images=50)"
   ]
  },
  {
   "cell_type": "code",
   "execution_count": null,
   "metadata": {},
   "outputs": [],
   "source": [
    "images, labels = inspect_tools.extract_bands(samples, date_index=2)\n",
    "ipyplot.plot_class_tabs(images=images, labels=labels, img_width=256, max_imgs_per_tab=50)\n",
    "\n"
   ]
  },
  {
   "cell_type": "code",
   "execution_count": null,
   "metadata": {},
   "outputs": [],
   "source": [
    "# TODO need to obtain georeference for propoer result.\n",
    "inspect_tools.leaflet_map(samples)\n"
   ]
  },
  {
   "cell_type": "code",
   "execution_count": null,
   "metadata": {},
   "outputs": [],
   "source": []
  }
 ],
 "metadata": {
  "interpreter": {
   "hash": "d87c1bf8388d772f1b09a29fc0dd799e4b018de5a5865882caffc0f580010cd3"
  },
  "kernelspec": {
   "display_name": "Python 3 (ipykernel)",
   "language": "python",
   "name": "python3"
  },
  "language_info": {
   "codemirror_mode": {
    "name": "ipython",
    "version": 3
   },
   "file_extension": ".py",
   "mimetype": "text/x-python",
   "name": "python",
   "nbconvert_exporter": "python",
   "pygments_lexer": "ipython3",
   "version": "3.9.7"
  }
 },
 "nbformat": 4,
 "nbformat_minor": 2
}
