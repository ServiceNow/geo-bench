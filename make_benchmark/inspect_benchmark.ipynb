{
 "cells": [
  {
   "cell_type": "code",
   "execution_count": null,
   "metadata": {},
   "outputs": [],
   "source": [
    "# set GEO_BENCH_DIR to the root of the geobench repository\n",
    "import os\n",
    "os.environ[\"GEO_BENCH_DIR\"] = \"/mnt/data/cc_benchmark\"\n",
    "\n",
    "import geobench\n",
    "\n",
    "if geobench.config._GEO_BENCH_DIR_ENV is None:\n",
    "    print(\"Note: GEO_BENCH_DIR is not set. If this is not intended, this might be related on how jupyter loads environment variables.\")\n",
    "    print(f\"Using GEO_BENCH_DIR={geobench.GEO_BENCH_DIR}\")\n",
    "\n",
    "from make_benchmark.dataset_converters import inspect_tools\n",
    "from matplotlib import pyplot as plt\n",
    "plt.rcParams['figure.figsize'] = [10, 6]\n",
    "\n",
    "classification_benchmark = \"classification_v0.8.5\"\n",
    "segmentation_benchmark = \"segmentation_v0.4\"\n",
    "%load_ext autoreload\n",
    "%autoreload 2"
   ]
  },
  {
   "cell_type": "markdown",
   "metadata": {},
   "source": [
    "# Classification benchmark\n"
   ]
  },
  {
   "cell_type": "code",
   "execution_count": null,
   "metadata": {
    "scrolled": true
   },
   "outputs": [],
   "source": [
    "inspect_tools.benchmark_data_frame(classification_benchmark)"
   ]
  },
  {
   "cell_type": "markdown",
   "metadata": {},
   "source": [
    "# Segmentation Benchmark"
   ]
  },
  {
   "cell_type": "code",
   "execution_count": null,
   "metadata": {},
   "outputs": [],
   "source": [
    "inspect_tools.benchmark_data_frame(segmentation_benchmark)"
   ]
  },
  {
   "cell_type": "markdown",
   "metadata": {},
   "source": [
    "# Classification Samples"
   ]
  },
  {
   "cell_type": "code",
   "execution_count": null,
   "metadata": {
    "scrolled": false
   },
   "outputs": [],
   "source": [
    "inspect_tools.ipyplot_benchmark(benchmark_name = classification_benchmark, n_samples=8, img_width=200)"
   ]
  },
  {
   "cell_type": "markdown",
   "metadata": {},
   "source": [
    "# Segmentation Samples"
   ]
  },
  {
   "cell_type": "code",
   "execution_count": null,
   "metadata": {
    "scrolled": false
   },
   "outputs": [],
   "source": [
    "inspect_tools.ipyplot_benchmark(benchmark_name = segmentation_benchmark, n_samples=4)"
   ]
  },
  {
   "cell_type": "code",
   "execution_count": null,
   "metadata": {
    "scrolled": false
   },
   "outputs": [],
   "source": [
    "# generate images for the paper\n",
    "plt.rcParams['figure.figsize'] = [4, 2]\n",
    "inspect_tools.plot_benchmark(benchmark_name = classification_benchmark, n_samples=2)"
   ]
  },
  {
   "cell_type": "markdown",
   "metadata": {},
   "source": [
    "# Inspect content of benchmark\n",
    "\n",
    "\n",
    "This script detects many possible inconsistancy with the benchmrk's dataset\n",
    "* checks partition integrity\n",
    "  * make sure it is a partition (no redundancy and no overlap)\n",
    "  * make sure it points to a sample that exists\n",
    "* checks samples integrity\n",
    "  * assert that band_info is the same as in task_specs\n",
    "  * run assert_valid on each band_info\n",
    "  * assert shape is valid\n",
    "  * display statistics for each bands\n",
    "  * verify if geospatial information is available\n",
    "\n",
    "\n",
    "Known issues:\n",
    "* so2sat doesn't have geospatial information (not provided in the original dataset)"
   ]
  },
  {
   "cell_type": "code",
   "execution_count": null,
   "metadata": {},
   "outputs": [],
   "source": [
    "inspect_tools.verify_benchmark_integrity(\n",
    "    benchmark_name = classification_benchmark, \n",
    "    n_samples=100, rewrite_if_necessary=True, display_band_stats=False)"
   ]
  },
  {
   "cell_type": "code",
   "execution_count": null,
   "metadata": {},
   "outputs": [],
   "source": [
    "inspect_tools.verify_benchmark_integrity(\n",
    "    benchmark_name = segmentation_benchmark, \n",
    "    n_samples=100, rewrite_if_necessary=True, display_band_stats=False)"
   ]
  },
  {
   "cell_type": "code",
   "execution_count": null,
   "metadata": {},
   "outputs": [],
   "source": []
  }
 ],
 "metadata": {
  "kernelspec": {
   "display_name": "Python 3",
   "language": "python",
   "name": "python3"
  },
  "language_info": {
   "codemirror_mode": {
    "name": "ipython",
    "version": 3
   },
   "file_extension": ".py",
   "mimetype": "text/x-python",
   "name": "python",
   "nbconvert_exporter": "python",
   "pygments_lexer": "ipython3",
   "version": "3.9.7"
  }
 },
 "nbformat": 4,
 "nbformat_minor": 2
}
